{
  "cells": [
    {
      "cell_type": "markdown",
      "metadata": {
        "id": "Cz_hxd0eI_V6"
      },
      "source": [
        "### Markov decision process\n",
      ]
    },
    {
      "cell_type": "markdown",
      "metadata": {
        "id": "HdKoaZEfI_V_"
      },
      "source": [
        "For starters, let's define a simple MDP from this picture:\n",
        "\n",
        "<img src=\"https://upload.wikimedia.org/wikipedia/commons/a/ad/Markov_Decision_Process.svg\" width=\"400px\" alt=\"Diagram by Waldoalvarez via Wikimedia Commons, CC BY-SA 4.0\"/>"
      ]
    },
    {
      "cell_type": "code",
      "execution_count": 1,
      "metadata": {
        "colab": {
          "base_uri": "https://localhost:8080/"
        },
        "id": "I2YtXYmBI_WB",
        "outputId": "ede6f616-91b3-4c1a-c2f9-c81228ff6703"
      },
      "outputs": [
        {
          "output_type": "stream",
          "name": "stdout",
          "text": [
            "Starting virtual X frame buffer: Xvfb.\n"
          ]
        }
      ],
      "source": [
        "import sys, os\n",
        "if 'google.colab' in sys.modules and not os.path.exists('.setup_complete'):\n",
        "    !wget -q https://raw.githubusercontent.com/yandexdataschool/Practical_RL/master/setup_colab.sh -O- | bash\n",
        "    !wget -q https://raw.githubusercontent.com/yandexdataschool/Practical_RL/master/week02_value_based/mdp.py\n",
        "    !touch .setup_complete\n",
        "\n",
        "# This code creates a virtual display to draw game images on.\n",
        "# It will have no effect if your machine has a monitor.\n",
        "if type(os.environ.get(\"DISPLAY\")) is not str or len(os.environ.get(\"DISPLAY\")) == 0:\n",
        "    !bash ../xvfb start\n",
        "    os.environ['DISPLAY'] = ':1'"
      ]
    },
    {
      "cell_type": "code",
      "execution_count": 2,
      "metadata": {
        "id": "LEy6rBZpI_WE"
      },
      "outputs": [],
      "source": [
        "transition_probs = {\n",
        "    's0': {\n",
        "        'a0': {'s0': 0.5, 's2': 0.5},\n",
        "        'a1': {'s2': 1}\n",
        "    },\n",
        "    's1': {\n",
        "        'a0': {'s0': 0.7, 's1': 0.1, 's2': 0.2},\n",
        "        'a1': {'s1': 0.95, 's2': 0.05}\n",
        "    },\n",
        "    's2': {\n",
        "        'a0': {'s0': 0.4, 's2': 0.6},\n",
        "        'a1': {'s0': 0.3, 's1': 0.3, 's2': 0.4}\n",
        "    }\n",
        "}\n",
        "rewards = {\n",
        "    's1': {'a0': {'s0': +5}},\n",
        "    's2': {'a1': {'s0': -1}}\n",
        "}\n",
        "\n",
        "from mdp import MDP\n",
        "mdp = MDP(transition_probs, rewards, initial_state='s0')"
      ]
    },
    {
      "cell_type": "markdown",
      "metadata": {
        "id": "ZbqRmV_OI_WE"
      },
      "source": [
        "We can now use MDP just as any other gym environment:"
      ]
    },
    {
      "cell_type": "code",
      "execution_count": 3,
      "metadata": {
        "colab": {
          "base_uri": "https://localhost:8080/"
        },
        "id": "qB2mTYG0I_WF",
        "outputId": "16042fdd-8f88-4004-a71f-4a1c1473c447"
      },
      "outputs": [
        {
          "output_type": "stream",
          "name": "stdout",
          "text": [
            "initial state = s0\n",
            "next_state = s2, reward = 0.0, done = False\n"
          ]
        }
      ],
      "source": [
        "print('initial state =', mdp.reset())\n",
        "next_state, reward, done, info = mdp.step('a1')\n",
        "print('next_state = %s, reward = %s, done = %s' % (next_state, reward, done))"
      ]
    },
    {
      "cell_type": "markdown",
      "metadata": {
        "id": "gFvhv79sI_WH"
      },
      "source": [
        "but it also has other methods that you'll need for Value Iteration"
      ]
    },
    {
      "cell_type": "code",
      "execution_count": 4,
      "metadata": {
        "colab": {
          "base_uri": "https://localhost:8080/"
        },
        "id": "m5nKTrItI_WH",
        "outputId": "dab57e9b-d2f5-4a7f-c572-cb241726fd0b"
      },
      "outputs": [
        {
          "output_type": "stream",
          "name": "stdout",
          "text": [
            "mdp.get_all_states = ('s0', 's1', 's2')\n",
            "mdp.get_possible_actions('s1') =  ('a0', 'a1')\n",
            "mdp.get_next_states('s1', 'a0') =  {'s0': 0.7, 's1': 0.1, 's2': 0.2}\n",
            "mdp.get_reward('s1', 'a0', 's0') =  5\n",
            "mdp.get_transition_prob('s1', 'a0', 's0') =  0.7\n"
          ]
        }
      ],
      "source": [
        "print(\"mdp.get_all_states =\", mdp.get_all_states())\n",
        "print(\"mdp.get_possible_actions('s1') = \", mdp.get_possible_actions('s1'))\n",
        "print(\"mdp.get_next_states('s1', 'a0') = \", mdp.get_next_states('s1', 'a0'))\n",
        "print(\"mdp.get_reward('s1', 'a0', 's0') = \", mdp.get_reward('s1', 'a0', 's0'))\n",
        "print(\"mdp.get_transition_prob('s1', 'a0', 's0') = \", mdp.get_transition_prob('s1', 'a0', 's0'))"
      ]
    },
    {
      "cell_type": "markdown",
      "metadata": {
        "id": "SF2LLHYpI_WI"
      },
      "source": [
        "### Optional: Visualizing MDPs\n",
        "\n",
        "You can also visualize any MDP with the drawing fuction donated by [neer201](https://github.com/neer201).\n",
        "\n",
        "You have to install graphviz for system and for python.\n",
        "\n",
        "1. * For ubuntu just run: `sudo apt-get install graphviz`\n",
        "   * For OSX: `brew install graphviz`\n",
        "2. `pip install graphviz`\n",
        "3. restart the notebook\n",
        "\n",
        "__Note:__ Installing graphviz on some OS (esp. Windows) may be tricky. However, you can ignore this part alltogether and use the standart vizualization."
      ]
    },
    {
      "cell_type": "code",
      "execution_count": 5,
      "metadata": {
        "colab": {
          "base_uri": "https://localhost:8080/"
        },
        "id": "VlVm9vVvI_WJ",
        "outputId": "5c53719d-7a88-4436-9940-cd5bf937657b"
      },
      "outputs": [
        {
          "output_type": "stream",
          "name": "stdout",
          "text": [
            "Graphviz available: True\n"
          ]
        }
      ],
      "source": [
        "from mdp import has_graphviz\n",
        "from IPython.display import display\n",
        "print(\"Graphviz available:\", has_graphviz)"
      ]
    },
    {
      "cell_type": "code",
      "execution_count": 6,
      "metadata": {
        "colab": {
          "base_uri": "https://localhost:8080/",
          "height": 472
        },
        "id": "-zdexR_hI_WK",
        "outputId": "29836e7f-cfc4-4ef8-bd22-797287ab2c33"
      },
      "outputs": [
        {
          "output_type": "display_data",
          "data": {
            "image/svg+xml": "<?xml version=\"1.0\" encoding=\"UTF-8\" standalone=\"no\"?>\n<!DOCTYPE svg PUBLIC \"-//W3C//DTD SVG 1.1//EN\"\n \"http://www.w3.org/Graphics/SVG/1.1/DTD/svg11.dtd\">\n<!-- Generated by graphviz version 2.43.0 (0)\n -->\n<!-- Title: MDP Pages: 1 -->\n<svg width=\"1027pt\" height=\"323pt\"\n viewBox=\"0.00 0.00 1027.46 323.00\" xmlns=\"http://www.w3.org/2000/svg\" xmlns:xlink=\"http://www.w3.org/1999/xlink\">\n<g id=\"graph0\" class=\"graph\" transform=\"scale(1 1) rotate(0) translate(4 319)\">\n<title>MDP</title>\n<polygon fill=\"white\" stroke=\"transparent\" points=\"-4,4 -4,-319 1023.46,-319 1023.46,4 -4,4\"/>\n<!-- s0 -->\n<g id=\"node1\" class=\"node\">\n<title>s0</title>\n<ellipse fill=\"#85ff75\" stroke=\"#85ff75\" cx=\"40\" cy=\"-116\" rx=\"36\" ry=\"36\"/>\n<ellipse fill=\"none\" stroke=\"#85ff75\" cx=\"40\" cy=\"-116\" rx=\"40\" ry=\"40\"/>\n<text text-anchor=\"middle\" x=\"40\" y=\"-109.8\" font-family=\"Arial\" font-size=\"24.00\">s0</text>\n</g>\n<!-- s0&#45;a0 -->\n<g id=\"node2\" class=\"node\">\n<title>s0&#45;a0</title>\n<ellipse fill=\"lightpink\" stroke=\"lightpink\" cx=\"193.58\" cy=\"-160\" rx=\"27.65\" ry=\"27.65\"/>\n<text text-anchor=\"middle\" x=\"193.58\" y=\"-155\" font-family=\"Arial\" font-size=\"20.00\">a0</text>\n</g>\n<!-- s0&#45;&gt;s0&#45;a0 -->\n<g id=\"edge1\" class=\"edge\">\n<title>s0&#45;&gt;s0&#45;a0</title>\n<path fill=\"none\" stroke=\"red\" stroke-width=\"2\" d=\"M79.19,-124.49C99.74,-129.34 125.44,-135.88 148,-143 151.34,-144.05 154.79,-145.22 158.23,-146.44\"/>\n<polygon fill=\"red\" stroke=\"red\" stroke-width=\"2\" points=\"157.17,-149.78 167.77,-149.95 159.59,-143.21 157.17,-149.78\"/>\n</g>\n<!-- s0&#45;a1 -->\n<g id=\"node4\" class=\"node\">\n<title>s0&#45;a1</title>\n<ellipse fill=\"lightpink\" stroke=\"lightpink\" cx=\"193.58\" cy=\"-233\" rx=\"27.65\" ry=\"27.65\"/>\n<text text-anchor=\"middle\" x=\"193.58\" y=\"-228\" font-family=\"Arial\" font-size=\"20.00\">a1</text>\n</g>\n<!-- s0&#45;&gt;s0&#45;a1 -->\n<g id=\"edge4\" class=\"edge\">\n<title>s0&#45;&gt;s0&#45;a1</title>\n<path fill=\"none\" stroke=\"red\" stroke-width=\"2\" d=\"M66.9,-145.7C76.21,-155.57 87.12,-166.26 98,-175 117.23,-190.44 140.89,-204.94 159.73,-215.59\"/>\n<polygon fill=\"red\" stroke=\"red\" stroke-width=\"2\" points=\"158.11,-218.69 168.55,-220.49 161.51,-212.57 158.11,-218.69\"/>\n</g>\n<!-- s0&#45;a0&#45;&gt;s0 -->\n<g id=\"edge2\" class=\"edge\">\n<title>s0&#45;a0&#45;&gt;s0</title>\n<path fill=\"none\" stroke=\"blue\" stroke-dasharray=\"5,2\" d=\"M166.14,-155.8C146.98,-152.42 120.58,-147.07 98,-140 94.19,-138.81 90.28,-137.45 86.39,-136.01\"/>\n<polygon fill=\"blue\" stroke=\"blue\" points=\"87.39,-132.65 76.8,-132.29 84.85,-139.17 87.39,-132.65\"/>\n<text text-anchor=\"middle\" x=\"123\" y=\"-158.2\" font-family=\"Arial\" font-size=\"16.00\">p = 0.5</text>\n</g>\n<!-- s2 -->\n<g id=\"node3\" class=\"node\">\n<title>s2</title>\n<ellipse fill=\"#85ff75\" stroke=\"#85ff75\" cx=\"433.15\" cy=\"-183\" rx=\"36\" ry=\"36\"/>\n<ellipse fill=\"none\" stroke=\"#85ff75\" cx=\"433.15\" cy=\"-183\" rx=\"40\" ry=\"40\"/>\n<text text-anchor=\"middle\" x=\"433.15\" y=\"-176.8\" font-family=\"Arial\" font-size=\"24.00\">s2</text>\n</g>\n<!-- s0&#45;a0&#45;&gt;s2 -->\n<g id=\"edge3\" class=\"edge\">\n<title>s0&#45;a0&#45;&gt;s2</title>\n<path fill=\"none\" stroke=\"blue\" stroke-dasharray=\"5,2\" d=\"M221.37,-162.59C260.57,-166.39 334.21,-173.52 383.23,-178.26\"/>\n<polygon fill=\"blue\" stroke=\"blue\" points=\"383,-181.76 393.29,-179.24 383.67,-174.79 383,-181.76\"/>\n<text text-anchor=\"middle\" x=\"307.15\" y=\"-183.2\" font-family=\"Arial\" font-size=\"16.00\">p = 0.5</text>\n</g>\n<!-- s2&#45;a0 -->\n<g id=\"node8\" class=\"node\">\n<title>s2&#45;a0</title>\n<ellipse fill=\"lightpink\" stroke=\"lightpink\" cx=\"666.73\" cy=\"-162\" rx=\"27.65\" ry=\"27.65\"/>\n<text text-anchor=\"middle\" x=\"666.73\" y=\"-157\" font-family=\"Arial\" font-size=\"20.00\">a0</text>\n</g>\n<!-- s2&#45;&gt;s2&#45;a0 -->\n<g id=\"edge13\" class=\"edge\">\n<title>s2&#45;&gt;s2&#45;a0</title>\n<path fill=\"none\" stroke=\"red\" stroke-width=\"2\" d=\"M473.31,-186.98C511.48,-189.83 570.95,-191.53 621.15,-181 624.83,-180.23 628.58,-179.15 632.26,-177.89\"/>\n<polygon fill=\"red\" stroke=\"red\" stroke-width=\"2\" points=\"633.69,-181.09 641.77,-174.24 631.18,-174.56 633.69,-181.09\"/>\n</g>\n<!-- s2&#45;a1 -->\n<g id=\"node9\" class=\"node\">\n<title>s2&#45;a1</title>\n<ellipse fill=\"lightpink\" stroke=\"lightpink\" cx=\"666.73\" cy=\"-80\" rx=\"27.65\" ry=\"27.65\"/>\n<text text-anchor=\"middle\" x=\"666.73\" y=\"-75\" font-family=\"Arial\" font-size=\"20.00\">a1</text>\n</g>\n<!-- s2&#45;&gt;s2&#45;a1 -->\n<g id=\"edge16\" class=\"edge\">\n<title>s2&#45;&gt;s2&#45;a1</title>\n<path fill=\"none\" stroke=\"red\" stroke-width=\"2\" d=\"M467.41,-161.94C475.08,-157.43 483.3,-152.87 491.15,-149 538.2,-125.86 595.06,-104.55 630.82,-91.92\"/>\n<polygon fill=\"red\" stroke=\"red\" stroke-width=\"2\" points=\"632.04,-95.2 640.32,-88.59 629.73,-88.59 632.04,-95.2\"/>\n</g>\n<!-- s0&#45;a1&#45;&gt;s2 -->\n<g id=\"edge5\" class=\"edge\">\n<title>s0&#45;a1&#45;&gt;s2</title>\n<path fill=\"none\" stroke=\"blue\" stroke-dasharray=\"5,2\" d=\"M221.08,-229.08C256.45,-223.65 320.92,-213 375.15,-200 378.37,-199.23 381.67,-198.39 384.98,-197.5\"/>\n<polygon fill=\"blue\" stroke=\"blue\" points=\"386.21,-200.79 394.91,-194.74 384.33,-194.05 386.21,-200.79\"/>\n<text text-anchor=\"middle\" x=\"307.15\" y=\"-230.2\" font-family=\"Arial\" font-size=\"16.00\">p = 1</text>\n</g>\n<!-- s1 -->\n<g id=\"node5\" class=\"node\">\n<title>s1</title>\n<ellipse fill=\"#85ff75\" stroke=\"#85ff75\" cx=\"829.31\" cy=\"-116\" rx=\"36\" ry=\"36\"/>\n<ellipse fill=\"none\" stroke=\"#85ff75\" cx=\"829.31\" cy=\"-116\" rx=\"40\" ry=\"40\"/>\n<text text-anchor=\"middle\" x=\"829.31\" y=\"-109.8\" font-family=\"Arial\" font-size=\"24.00\">s1</text>\n</g>\n<!-- s1&#45;a0 -->\n<g id=\"node6\" class=\"node\">\n<title>s1&#45;a0</title>\n<ellipse fill=\"lightpink\" stroke=\"lightpink\" cx=\"991.89\" cy=\"-92\" rx=\"27.65\" ry=\"27.65\"/>\n<text text-anchor=\"middle\" x=\"991.89\" y=\"-87\" font-family=\"Arial\" font-size=\"20.00\">a0</text>\n</g>\n<!-- s1&#45;&gt;s1&#45;a0 -->\n<g id=\"edge6\" class=\"edge\">\n<title>s1&#45;&gt;s1&#45;a0</title>\n<path fill=\"none\" stroke=\"red\" stroke-width=\"2\" d=\"M869.38,-112.27C891.95,-109.88 920.82,-106.39 946.31,-102 949,-101.54 951.77,-101.02 954.56,-100.47\"/>\n<polygon fill=\"red\" stroke=\"red\" stroke-width=\"2\" points=\"955.51,-103.84 964.57,-98.36 954.07,-96.99 955.51,-103.84\"/>\n</g>\n<!-- s1&#45;a1 -->\n<g id=\"node7\" class=\"node\">\n<title>s1&#45;a1</title>\n<ellipse fill=\"lightpink\" stroke=\"lightpink\" cx=\"991.89\" cy=\"-174\" rx=\"27.65\" ry=\"27.65\"/>\n<text text-anchor=\"middle\" x=\"991.89\" y=\"-169\" font-family=\"Arial\" font-size=\"20.00\">a1</text>\n</g>\n<!-- s1&#45;&gt;s1&#45;a1 -->\n<g id=\"edge10\" class=\"edge\">\n<title>s1&#45;&gt;s1&#45;a1</title>\n<path fill=\"none\" stroke=\"red\" stroke-width=\"2\" d=\"M867.66,-127.73C890.53,-135.12 920.3,-145.1 946.31,-155 949.82,-156.34 953.46,-157.78 957.08,-159.26\"/>\n<polygon fill=\"red\" stroke=\"red\" stroke-width=\"2\" points=\"955.93,-162.57 966.5,-163.2 958.62,-156.11 955.93,-162.57\"/>\n</g>\n<!-- s1&#45;a0&#45;&gt;s0 -->\n<g id=\"edge7\" class=\"edge\">\n<title>s1&#45;a0&#45;&gt;s0</title>\n<path fill=\"none\" stroke=\"blue\" stroke-dasharray=\"5,2\" d=\"M972.12,-72.49C944.03,-45.48 888.14,0 830.31,0 192.58,0 192.58,0 192.58,0 141.5,0 96.98,-42.06 69.63,-75.52\"/>\n<polygon fill=\"blue\" stroke=\"blue\" points=\"66.87,-73.37 63.4,-83.38 72.35,-77.72 66.87,-73.37\"/>\n<text text-anchor=\"middle\" x=\"556.15\" y=\"-5.2\" font-family=\"Arial\" font-size=\"16.00\">p = 0.7 &#160;reward =5</text>\n</g>\n<!-- s1&#45;a0&#45;&gt;s2 -->\n<g id=\"edge9\" class=\"edge\">\n<title>s1&#45;a0&#45;&gt;s2</title>\n<path fill=\"none\" stroke=\"blue\" stroke-dasharray=\"5,2\" d=\"M976.15,-114.86C972.01,-121.81 967.72,-129.58 964.31,-137 953.93,-159.61 966.27,-175.15 946.31,-190 783.96,-310.76 691.37,-229.22 491.15,-200 487.88,-199.52 484.54,-198.9 481.19,-198.17\"/>\n<polygon fill=\"blue\" stroke=\"blue\" points=\"481.76,-194.71 471.21,-195.73 480.1,-201.51 481.76,-194.71\"/>\n<text text-anchor=\"middle\" x=\"741.81\" y=\"-259.2\" font-family=\"Arial\" font-size=\"16.00\">p = 0.2</text>\n</g>\n<!-- s1&#45;a0&#45;&gt;s1 -->\n<g id=\"edge8\" class=\"edge\">\n<title>s1&#45;a0&#45;&gt;s1</title>\n<path fill=\"none\" stroke=\"blue\" stroke-dasharray=\"5,2\" d=\"M965.31,-83.53C944.06,-77.8 913.22,-72.5 887.31,-80 881.62,-81.65 875.95,-84.05 870.52,-86.84\"/>\n<polygon fill=\"blue\" stroke=\"blue\" points=\"868.63,-83.89 861.64,-91.85 872.07,-89.99 868.63,-83.89\"/>\n<text text-anchor=\"middle\" x=\"916.81\" y=\"-85.2\" font-family=\"Arial\" font-size=\"16.00\">p = 0.1</text>\n</g>\n<!-- s1&#45;a1&#45;&gt;s2 -->\n<g id=\"edge12\" class=\"edge\">\n<title>s1&#45;a1&#45;&gt;s2</title>\n<path fill=\"none\" stroke=\"blue\" stroke-dasharray=\"5,2\" d=\"M979.29,-198.86C971.84,-211.79 960.81,-226.45 946.31,-234 766.9,-327.45 679.29,-308.33 491.15,-234 482.81,-230.7 474.9,-225.59 467.78,-219.86\"/>\n<polygon fill=\"blue\" stroke=\"blue\" points=\"469.64,-216.84 459.8,-212.91 465.04,-222.12 469.64,-216.84\"/>\n<text text-anchor=\"middle\" x=\"741.81\" y=\"-302.2\" font-family=\"Arial\" font-size=\"16.00\">p = 0.05</text>\n</g>\n<!-- s1&#45;a1&#45;&gt;s1 -->\n<g id=\"edge11\" class=\"edge\">\n<title>s1&#45;a1&#45;&gt;s1</title>\n<path fill=\"none\" stroke=\"blue\" stroke-dasharray=\"5,2\" d=\"M964.16,-170.97C942.78,-167.92 912.34,-162.18 887.31,-152 881.89,-149.8 876.42,-147.08 871.11,-144.14\"/>\n<polygon fill=\"blue\" stroke=\"blue\" points=\"872.79,-141.06 862.39,-139.02 869.25,-147.1 872.79,-141.06\"/>\n<text text-anchor=\"middle\" x=\"916.81\" y=\"-173.2\" font-family=\"Arial\" font-size=\"16.00\">p = 0.95</text>\n</g>\n<!-- s2&#45;a0&#45;&gt;s0 -->\n<g id=\"edge14\" class=\"edge\">\n<title>s2&#45;a0&#45;&gt;s0</title>\n<path fill=\"none\" stroke=\"blue\" stroke-dasharray=\"5,2\" d=\"M640,-153.63C633.88,-151.88 627.33,-150.2 621.15,-149 446.29,-114.94 399.16,-130.34 221.15,-123 176.89,-121.17 126.51,-119.23 90.3,-117.85\"/>\n<polygon fill=\"blue\" stroke=\"blue\" points=\"90.14,-114.34 80.01,-117.46 89.87,-121.34 90.14,-114.34\"/>\n<text text-anchor=\"middle\" x=\"307.15\" y=\"-131.2\" font-family=\"Arial\" font-size=\"16.00\">p = 0.4</text>\n</g>\n<!-- s2&#45;a0&#45;&gt;s2 -->\n<g id=\"edge15\" class=\"edge\">\n<title>s2&#45;a0&#45;&gt;s2</title>\n<path fill=\"none\" stroke=\"blue\" stroke-dasharray=\"5,2\" d=\"M639.38,-158.06C604.93,-153.7 542.86,-148.56 491.15,-159 487.07,-159.82 482.91,-160.95 478.8,-162.27\"/>\n<polygon fill=\"blue\" stroke=\"blue\" points=\"477.59,-158.99 469.34,-165.64 479.93,-165.58 477.59,-158.99\"/>\n<text text-anchor=\"middle\" x=\"556.15\" y=\"-164.2\" font-family=\"Arial\" font-size=\"16.00\">p = 0.6</text>\n</g>\n<!-- s2&#45;a1&#45;&gt;s0 -->\n<g id=\"edge17\" class=\"edge\">\n<title>s2&#45;a1&#45;&gt;s0</title>\n<path fill=\"none\" stroke=\"blue\" stroke-dasharray=\"5,2\" d=\"M643.56,-64.64C636.68,-60.71 628.88,-57.02 621.15,-55 456.84,-12.07 407.97,-45.54 239.15,-64 175.74,-70.93 158.85,-70.84 98,-90 93.92,-91.29 89.74,-92.79 85.59,-94.42\"/>\n<polygon fill=\"blue\" stroke=\"blue\" points=\"83.93,-91.32 76.04,-98.39 86.62,-97.78 83.93,-91.32\"/>\n<text text-anchor=\"middle\" x=\"307.15\" y=\"-69.2\" font-family=\"Arial\" font-size=\"16.00\">p = 0.3 &#160;reward =&#45;1</text>\n</g>\n<!-- s2&#45;a1&#45;&gt;s2 -->\n<g id=\"edge19\" class=\"edge\">\n<title>s2&#45;a1&#45;&gt;s2</title>\n<path fill=\"none\" stroke=\"blue\" stroke-dasharray=\"5,2\" d=\"M640.47,-71.31C604.47,-60.59 537.63,-46.98 491.15,-75 469.57,-88.02 455.74,-112.24 447.11,-134.45\"/>\n<polygon fill=\"blue\" stroke=\"blue\" points=\"443.72,-133.54 443.62,-144.14 450.3,-135.92 443.72,-133.54\"/>\n<text text-anchor=\"middle\" x=\"556.15\" y=\"-80.2\" font-family=\"Arial\" font-size=\"16.00\">p = 0.4</text>\n</g>\n<!-- s2&#45;a1&#45;&gt;s1 -->\n<g id=\"edge18\" class=\"edge\">\n<title>s2&#45;a1&#45;&gt;s1</title>\n<path fill=\"none\" stroke=\"blue\" stroke-dasharray=\"5,2\" d=\"M693.89,-85.86C717.16,-91.08 751.78,-98.84 780.06,-105.18\"/>\n<polygon fill=\"blue\" stroke=\"blue\" points=\"779.64,-108.68 790.16,-107.45 781.17,-101.85 779.64,-108.68\"/>\n<text text-anchor=\"middle\" x=\"741.81\" y=\"-108.2\" font-family=\"Arial\" font-size=\"16.00\">p = 0.3</text>\n</g>\n</g>\n</svg>\n",
            "text/plain": [
              "<graphviz.graphs.Digraph at 0x7ca214263250>"
            ]
          },
          "metadata": {}
        }
      ],
      "source": [
        "if has_graphviz:\n",
        "    from mdp import plot_graph, plot_graph_with_state_values, plot_graph_optimal_strategy_and_state_values\n",
        "    display(plot_graph(mdp))"
      ]
    },
    {
      "cell_type": "markdown",
      "metadata": {
        "id": "MjnxJExtI_WK"
      },
      "source": [
        "### Value Iteration\n",
        "\n",
        "Now let's build something to solve this MDP. The simplest algorithm so far is __V__alue __I__teration\n",
        "\n",
        "Here's the pseudo-code for VI:\n",
        "\n",
        "---\n",
        "\n",
        "`1.` Initialize $V^{(0)}(s)=0$, for all $s$\n",
        "\n",
        "`2.` For $i=0, 1, 2, \\dots$\n",
        "\n",
        "`3.` $ \\quad V_{(i+1)}(s) = \\max_a \\sum_{s'} P(s' | s,a) \\cdot [ r(s,a,s') + \\gamma V_{i}(s')]$, for all $s$\n",
        "\n",
        "---"
      ]
    },
    {
      "cell_type": "markdown",
      "metadata": {
        "id": "lkqlg93iI_WL"
      },
      "source": [
        "First, let's write a function to compute the state-action value function $Q^{\\pi}$, defined as follows\n",
        "\n",
        "$$Q_i(s, a) = \\sum_{s'} P(s' | s,a) \\cdot [ r(s,a,s') + \\gamma V_{i}(s')]$$\n"
      ]
    },
    {
      "cell_type": "code",
      "execution_count": 7,
      "metadata": {
        "id": "GlegflBMI_WL"
      },
      "outputs": [],
      "source": [
        "def get_action_value(mdp, state_values, state, action, gamma):\n",
        "    \"\"\" Computes Q(s,a) as in formula above \"\"\"\n",
        "    # s - state\n",
        "    # a - action\n",
        "    # s' - next_state\n",
        "    # V_i - state_value\n",
        "    # <YOUR CODE>\n",
        "    q = 0.0\n",
        "    for next_state in mdp.get_next_states(state,action):\n",
        "        q += (mdp.get_transition_prob(state, action, next_state)*\n",
        "        (mdp.get_reward(state, action,next_state) + gamma*state_values[next_state]))\n",
        "\n",
        "    return q"
      ]
    },
    {
      "cell_type": "code",
      "execution_count": 8,
      "metadata": {
        "id": "FBr3uwvlI_WM"
      },
      "outputs": [],
      "source": [
        "import numpy as np\n",
        "test_Vs = {s: i for i, s in enumerate(sorted(mdp.get_all_states()))}\n",
        "assert np.isclose(get_action_value(mdp, test_Vs, 's2', 'a1', 0.9), 0.69)\n",
        "assert np.isclose(get_action_value(mdp, test_Vs, 's1', 'a0', 0.9), 3.95)"
      ]
    },
    {
      "cell_type": "markdown",
      "metadata": {
        "id": "_IFVRqvRI_WM"
      },
      "source": [
        "Using $Q(s,a)$ we can now define the \"next\" V(s) for value iteration.\n",
        " $$V_{(i+1)}(s) = \\max_a \\sum_{s'} P(s' | s,a) \\cdot [ r(s,a,s') + \\gamma V_{i}(s')] = \\max_a Q_i(s,a)$$"
      ]
    },
    {
      "cell_type": "code",
      "execution_count": 9,
      "metadata": {
        "id": "uWQ37-s_I_WM"
      },
      "outputs": [],
      "source": [
        "def get_new_state_value(mdp, state_values, state, gamma):\n",
        "    \"\"\" Computes next V(s) as in formula above. Please do not change state_values in process. \"\"\"\n",
        "    if mdp.is_terminal(state):\n",
        "        return 0\n",
        "\n",
        "    # <YOUR CODE>\n",
        "    # s - state\n",
        "    q_mas = []\n",
        "    for action in mdp.get_possible_actions(state):\n",
        "      for next_state in mdp.get_next_states(state,action):\n",
        "          q_mas.append(get_action_value(mdp, state_values, state, action, gamma))\n",
        "    # 'next' V(s) for value iteration\n",
        "    return max(q_mas)"
      ]
    },
    {
      "cell_type": "code",
      "execution_count": 10,
      "metadata": {
        "id": "4l_gV2wuI_WN"
      },
      "outputs": [],
      "source": [
        "test_Vs_copy = dict(test_Vs)\n",
        "assert np.isclose(get_new_state_value(mdp, test_Vs, 's0', 0.9), 1.8)\n",
        "assert np.isclose(get_new_state_value(mdp, test_Vs, 's2', 0.9), 1.08)\n",
        "assert np.isclose(get_new_state_value(mdp, {'s0': -1e10, 's1': 0, 's2': -2e10}, 's0', 0.9), -13500000000.0), \\\n",
        "    \"Please ensure that you handle negative Q-values of arbitrary magnitude correctly\"\n",
        "assert test_Vs == test_Vs_copy, \"Please do not change state_values in get_new_state_value\""
      ]
    },
    {
      "cell_type": "markdown",
      "metadata": {
        "id": "Fozm0Z2II_WN"
      },
      "source": [
        "Finally, let's combine everything we wrote into a working value iteration algo."
      ]
    },
    {
      "cell_type": "code",
      "execution_count": 11,
      "metadata": {
        "colab": {
          "base_uri": "https://localhost:8080/",
          "height": 1000
        },
        "id": "_TJ7ytpRI_WO",
        "outputId": "3f81c394-4c05-481a-c147-c053566a7934"
      },
      "outputs": [
        {
          "output_type": "display_data",
          "data": {
            "image/svg+xml": "<?xml version=\"1.0\" encoding=\"UTF-8\" standalone=\"no\"?>\n<!DOCTYPE svg PUBLIC \"-//W3C//DTD SVG 1.1//EN\"\n \"http://www.w3.org/Graphics/SVG/1.1/DTD/svg11.dtd\">\n<!-- Generated by graphviz version 2.43.0 (0)\n -->\n<!-- Title: MDP Pages: 1 -->\n<svg width=\"1096pt\" height=\"327pt\"\n viewBox=\"0.00 0.00 1095.72 327.00\" xmlns=\"http://www.w3.org/2000/svg\" xmlns:xlink=\"http://www.w3.org/1999/xlink\">\n<g id=\"graph0\" class=\"graph\" transform=\"scale(1 1) rotate(0) translate(4 323)\">\n<title>MDP</title>\n<polygon fill=\"white\" stroke=\"transparent\" points=\"-4,4 -4,-323 1091.72,-323 1091.72,4 -4,4\"/>\n<!-- s0 -->\n<g id=\"node1\" class=\"node\">\n<title>s0</title>\n<ellipse fill=\"#85ff75\" stroke=\"#85ff75\" cx=\"51.38\" cy=\"-116\" rx=\"47.26\" ry=\"47.26\"/>\n<ellipse fill=\"none\" stroke=\"#85ff75\" cx=\"51.38\" cy=\"-116\" rx=\"51.25\" ry=\"51.25\"/>\n<text text-anchor=\"middle\" x=\"51.38\" y=\"-122.8\" font-family=\"Arial\" font-size=\"24.00\">s0</text>\n<text text-anchor=\"middle\" x=\"51.38\" y=\"-96.8\" font-family=\"Arial\" font-size=\"24.00\">V =0</text>\n</g>\n<!-- s0&#45;a0 -->\n<g id=\"node2\" class=\"node\">\n<title>s0&#45;a0</title>\n<ellipse fill=\"lightpink\" stroke=\"lightpink\" cx=\"216.33\" cy=\"-160\" rx=\"27.65\" ry=\"27.65\"/>\n<text text-anchor=\"middle\" x=\"216.33\" y=\"-155\" font-family=\"Arial\" font-size=\"20.00\">a0</text>\n</g>\n<!-- s0&#45;&gt;s0&#45;a0 -->\n<g id=\"edge1\" class=\"edge\">\n<title>s0&#45;&gt;s0&#45;a0</title>\n<path fill=\"none\" stroke=\"red\" stroke-width=\"2\" d=\"M102.02,-125.7C123.36,-130.29 148.46,-136.24 170.75,-143 174.1,-144.02 177.56,-145.16 181.01,-146.36\"/>\n<polygon fill=\"red\" stroke=\"red\" stroke-width=\"2\" points=\"179.96,-149.71 190.55,-149.85 182.36,-143.13 179.96,-149.71\"/>\n</g>\n<!-- s0&#45;a1 -->\n<g id=\"node4\" class=\"node\">\n<title>s0&#45;a1</title>\n<ellipse fill=\"lightpink\" stroke=\"lightpink\" cx=\"216.33\" cy=\"-233\" rx=\"27.65\" ry=\"27.65\"/>\n<text text-anchor=\"middle\" x=\"216.33\" y=\"-228\" font-family=\"Arial\" font-size=\"20.00\">a1</text>\n</g>\n<!-- s0&#45;&gt;s0&#45;a1 -->\n<g id=\"edge4\" class=\"edge\">\n<title>s0&#45;&gt;s0&#45;a1</title>\n<path fill=\"none\" stroke=\"red\" stroke-width=\"2\" d=\"M90.27,-149.83C99.98,-158.03 110.57,-166.57 120.75,-174 140.77,-188.61 164.42,-203.37 183.07,-214.47\"/>\n<polygon fill=\"red\" stroke=\"red\" stroke-width=\"2\" points=\"181.39,-217.54 191.78,-219.61 184.94,-211.51 181.39,-217.54\"/>\n</g>\n<!-- s0&#45;a0&#45;&gt;s0 -->\n<g id=\"edge2\" class=\"edge\">\n<title>s0&#45;a0&#45;&gt;s0</title>\n<path fill=\"none\" stroke=\"blue\" stroke-dasharray=\"5,2\" d=\"M189.02,-155.38C169.92,-151.8 143.54,-146.38 120.75,-140 117.15,-138.99 113.46,-137.89 109.75,-136.74\"/>\n<polygon fill=\"blue\" stroke=\"blue\" points=\"110.54,-133.31 99.95,-133.58 108.39,-139.98 110.54,-133.31\"/>\n<text text-anchor=\"middle\" x=\"145.75\" y=\"-157.2\" font-family=\"Arial\" font-size=\"16.00\">p = 0.5</text>\n</g>\n<!-- s2 -->\n<g id=\"node3\" class=\"node\">\n<title>s2</title>\n<ellipse fill=\"#85ff75\" stroke=\"#85ff75\" cx=\"467.28\" cy=\"-189\" rx=\"47.26\" ry=\"47.26\"/>\n<ellipse fill=\"none\" stroke=\"#85ff75\" cx=\"467.28\" cy=\"-189\" rx=\"51.25\" ry=\"51.25\"/>\n<text text-anchor=\"middle\" x=\"467.28\" y=\"-195.8\" font-family=\"Arial\" font-size=\"24.00\">s2</text>\n<text text-anchor=\"middle\" x=\"467.28\" y=\"-169.8\" font-family=\"Arial\" font-size=\"24.00\">V =0</text>\n</g>\n<!-- s0&#45;a0&#45;&gt;s2 -->\n<g id=\"edge3\" class=\"edge\">\n<title>s0&#45;a0&#45;&gt;s2</title>\n<path fill=\"none\" stroke=\"blue\" stroke-dasharray=\"5,2\" d=\"M243.97,-163.1C282.31,-167.57 354.09,-175.93 405.73,-181.95\"/>\n<polygon fill=\"blue\" stroke=\"blue\" points=\"405.43,-185.44 415.77,-183.12 406.24,-178.48 405.43,-185.44\"/>\n<text text-anchor=\"middle\" x=\"329.91\" y=\"-186.2\" font-family=\"Arial\" font-size=\"16.00\">p = 0.5</text>\n</g>\n<!-- s2&#45;a0 -->\n<g id=\"node8\" class=\"node\">\n<title>s2&#45;a0</title>\n<ellipse fill=\"lightpink\" stroke=\"lightpink\" cx=\"712.24\" cy=\"-162\" rx=\"27.65\" ry=\"27.65\"/>\n<text text-anchor=\"middle\" x=\"712.24\" y=\"-157\" font-family=\"Arial\" font-size=\"20.00\">a0</text>\n</g>\n<!-- s2&#45;&gt;s2&#45;a0 -->\n<g id=\"edge13\" class=\"edge\">\n<title>s2&#45;&gt;s2&#45;a0</title>\n<path fill=\"none\" stroke=\"red\" stroke-width=\"2\" d=\"M518.67,-191.94C559.16,-193.12 617.23,-192.14 666.66,-181 670.32,-180.17 674.06,-179.06 677.74,-177.78\"/>\n<polygon fill=\"red\" stroke=\"red\" stroke-width=\"2\" points=\"679.18,-180.98 687.24,-174.1 676.65,-174.45 679.18,-180.98\"/>\n</g>\n<!-- s2&#45;a1 -->\n<g id=\"node9\" class=\"node\">\n<title>s2&#45;a1</title>\n<ellipse fill=\"lightpink\" stroke=\"lightpink\" cx=\"712.24\" cy=\"-77\" rx=\"27.65\" ry=\"27.65\"/>\n<text text-anchor=\"middle\" x=\"712.24\" y=\"-72\" font-family=\"Arial\" font-size=\"20.00\">a1</text>\n</g>\n<!-- s2&#45;&gt;s2&#45;a1 -->\n<g id=\"edge16\" class=\"edge\">\n<title>s2&#45;&gt;s2&#45;a1</title>\n<path fill=\"none\" stroke=\"red\" stroke-width=\"2\" d=\"M511.56,-162.48C519.79,-157.78 528.4,-153.09 536.66,-149 584.05,-125.51 641.04,-103.03 676.71,-89.62\"/>\n<polygon fill=\"red\" stroke=\"red\" stroke-width=\"2\" points=\"678.04,-92.86 686.18,-86.08 675.59,-86.3 678.04,-92.86\"/>\n</g>\n<!-- s0&#45;a1&#45;&gt;s2 -->\n<g id=\"edge5\" class=\"edge\">\n<title>s0&#45;a1&#45;&gt;s2</title>\n<path fill=\"none\" stroke=\"blue\" stroke-dasharray=\"5,2\" d=\"M243.7,-228.93C278.92,-223.43 343.22,-213.14 397.91,-203 400.75,-202.47 403.67,-201.92 406.61,-201.35\"/>\n<polygon fill=\"blue\" stroke=\"blue\" points=\"407.51,-204.74 416.66,-199.39 406.17,-197.87 407.51,-204.74\"/>\n<text text-anchor=\"middle\" x=\"329.91\" y=\"-230.2\" font-family=\"Arial\" font-size=\"16.00\">p = 1</text>\n</g>\n<!-- s1 -->\n<g id=\"node5\" class=\"node\">\n<title>s1</title>\n<ellipse fill=\"#85ff75\" stroke=\"#85ff75\" cx=\"886.19\" cy=\"-86\" rx=\"47.26\" ry=\"47.26\"/>\n<ellipse fill=\"none\" stroke=\"#85ff75\" cx=\"886.19\" cy=\"-86\" rx=\"51.25\" ry=\"51.25\"/>\n<text text-anchor=\"middle\" x=\"886.19\" y=\"-92.8\" font-family=\"Arial\" font-size=\"24.00\">s1</text>\n<text text-anchor=\"middle\" x=\"886.19\" y=\"-66.8\" font-family=\"Arial\" font-size=\"24.00\">V =0</text>\n</g>\n<!-- s1&#45;a0 -->\n<g id=\"node6\" class=\"node\">\n<title>s1&#45;a0</title>\n<ellipse fill=\"lightpink\" stroke=\"lightpink\" cx=\"1060.14\" cy=\"-62\" rx=\"27.65\" ry=\"27.65\"/>\n<text text-anchor=\"middle\" x=\"1060.14\" y=\"-57\" font-family=\"Arial\" font-size=\"20.00\">a0</text>\n</g>\n<!-- s1&#45;&gt;s1&#45;a0 -->\n<g id=\"edge6\" class=\"edge\">\n<title>s1&#45;&gt;s1&#45;a0</title>\n<path fill=\"none\" stroke=\"red\" stroke-width=\"2\" d=\"M937.58,-81.76C961.06,-79.46 989.33,-76.2 1014.57,-72 1017.26,-71.55 1020.04,-71.04 1022.82,-70.5\"/>\n<polygon fill=\"red\" stroke=\"red\" stroke-width=\"2\" points=\"1023.76,-73.88 1032.84,-68.41 1022.33,-67.02 1023.76,-73.88\"/>\n</g>\n<!-- s1&#45;a1 -->\n<g id=\"node7\" class=\"node\">\n<title>s1&#45;a1</title>\n<ellipse fill=\"lightpink\" stroke=\"lightpink\" cx=\"1060.14\" cy=\"-144\" rx=\"27.65\" ry=\"27.65\"/>\n<text text-anchor=\"middle\" x=\"1060.14\" y=\"-139\" font-family=\"Arial\" font-size=\"20.00\">a1</text>\n</g>\n<!-- s1&#45;&gt;s1&#45;a1 -->\n<g id=\"edge10\" class=\"edge\">\n<title>s1&#45;&gt;s1&#45;a1</title>\n<path fill=\"none\" stroke=\"red\" stroke-width=\"2\" d=\"M935.98,-99.62C959.86,-106.62 988.93,-115.64 1014.57,-125 1018.09,-126.29 1021.74,-127.7 1025.37,-129.16\"/>\n<polygon fill=\"red\" stroke=\"red\" stroke-width=\"2\" points=\"1024.23,-132.48 1034.8,-133.08 1026.91,-126.01 1024.23,-132.48\"/>\n</g>\n<!-- s1&#45;a0&#45;&gt;s0 -->\n<g id=\"edge7\" class=\"edge\">\n<title>s1&#45;a0&#45;&gt;s0</title>\n<path fill=\"none\" stroke=\"blue\" stroke-dasharray=\"5,2\" d=\"M1036.17,-47.93C1004.06,-29.64 943.36,0 887.19,0 215.33,0 215.33,0 215.33,0 165.66,0 120.62,-36.21 90.55,-68.17\"/>\n<polygon fill=\"blue\" stroke=\"blue\" points=\"87.78,-66.01 83.61,-75.75 92.94,-70.74 87.78,-66.01\"/>\n<text text-anchor=\"middle\" x=\"601.66\" y=\"-5.2\" font-family=\"Arial\" font-size=\"16.00\">p = 0.7 &#160;reward =5</text>\n</g>\n<!-- s1&#45;a0&#45;&gt;s2 -->\n<g id=\"edge9\" class=\"edge\">\n<title>s1&#45;a0&#45;&gt;s2</title>\n<path fill=\"none\" stroke=\"blue\" stroke-dasharray=\"5,2\" d=\"M1044.41,-84.86C1040.27,-91.81 1035.97,-99.58 1032.57,-107 1022.19,-129.61 1033.72,-144.12 1014.57,-160 873.83,-276.68 635.88,-234.29 526.48,-206.07\"/>\n<polygon fill=\"blue\" stroke=\"blue\" points=\"527.18,-202.64 516.62,-203.48 525.4,-209.41 527.18,-202.64\"/>\n<text text-anchor=\"middle\" x=\"787.31\" y=\"-242.2\" font-family=\"Arial\" font-size=\"16.00\">p = 0.2</text>\n</g>\n<!-- s1&#45;a0&#45;&gt;s1 -->\n<g id=\"edge8\" class=\"edge\">\n<title>s1&#45;a0&#45;&gt;s1</title>\n<path fill=\"none\" stroke=\"blue\" stroke-dasharray=\"5,2\" d=\"M1033.71,-54.07C1012.54,-48.65 981.75,-43.53 955.57,-50 950.27,-51.31 944.94,-53.11 939.71,-55.21\"/>\n<polygon fill=\"blue\" stroke=\"blue\" points=\"938.19,-52.05 930.44,-59.28 941.01,-58.46 938.19,-52.05\"/>\n<text text-anchor=\"middle\" x=\"985.07\" y=\"-55.2\" font-family=\"Arial\" font-size=\"16.00\">p = 0.1</text>\n</g>\n<!-- s1&#45;a1&#45;&gt;s2 -->\n<g id=\"edge12\" class=\"edge\">\n<title>s1&#45;a1&#45;&gt;s2</title>\n<path fill=\"none\" stroke=\"blue\" stroke-dasharray=\"5,2\" d=\"M1053.65,-171.13C1047.82,-192.2 1036.32,-220.12 1014.57,-234 835.53,-348.28 739.43,-297.24 536.66,-234 530.01,-231.92 523.39,-228.99 517.05,-225.61\"/>\n<polygon fill=\"blue\" stroke=\"blue\" points=\"518.38,-222.34 507.97,-220.37 514.88,-228.4 518.38,-222.34\"/>\n<text text-anchor=\"middle\" x=\"787.31\" y=\"-306.2\" font-family=\"Arial\" font-size=\"16.00\">p = 0.05</text>\n</g>\n<!-- s1&#45;a1&#45;&gt;s1 -->\n<g id=\"edge11\" class=\"edge\">\n<title>s1&#45;a1&#45;&gt;s1</title>\n<path fill=\"none\" stroke=\"blue\" stroke-dasharray=\"5,2\" d=\"M1032.62,-140.43C1011.36,-137.08 980.98,-131.19 955.57,-122 950.52,-120.18 945.38,-118.04 940.3,-115.74\"/>\n<polygon fill=\"blue\" stroke=\"blue\" points=\"941.79,-112.57 931.26,-111.45 938.79,-118.9 941.79,-112.57\"/>\n<text text-anchor=\"middle\" x=\"985.07\" y=\"-143.2\" font-family=\"Arial\" font-size=\"16.00\">p = 0.95</text>\n</g>\n<!-- s2&#45;a0&#45;&gt;s0 -->\n<g id=\"edge14\" class=\"edge\">\n<title>s2&#45;a0&#45;&gt;s0</title>\n<path fill=\"none\" stroke=\"blue\" stroke-dasharray=\"5,2\" d=\"M685.47,-153.78C679.35,-152.02 672.81,-150.3 666.66,-149 601.73,-135.23 584.82,-134.38 518.66,-129 373.47,-117.2 202.1,-115.56 113.03,-115.63\"/>\n<polygon fill=\"blue\" stroke=\"blue\" points=\"112.84,-112.13 102.84,-115.65 112.85,-119.13 112.84,-112.13\"/>\n<text text-anchor=\"middle\" x=\"329.91\" y=\"-127.2\" font-family=\"Arial\" font-size=\"16.00\">p = 0.4</text>\n</g>\n<!-- s2&#45;a0&#45;&gt;s2 -->\n<g id=\"edge15\" class=\"edge\">\n<title>s2&#45;a0&#45;&gt;s2</title>\n<path fill=\"none\" stroke=\"blue\" stroke-dasharray=\"5,2\" d=\"M684.86,-157.94C650.38,-153.45 588.28,-148.17 536.66,-159 532.18,-159.94 527.65,-161.19 523.14,-162.64\"/>\n<polygon fill=\"blue\" stroke=\"blue\" points=\"521.63,-159.47 513.39,-166.12 523.99,-166.06 521.63,-159.47\"/>\n<text text-anchor=\"middle\" x=\"601.66\" y=\"-164.2\" font-family=\"Arial\" font-size=\"16.00\">p = 0.6</text>\n</g>\n<!-- s2&#45;a1&#45;&gt;s0 -->\n<g id=\"edge17\" class=\"edge\">\n<title>s2&#45;a1&#45;&gt;s0</title>\n<path fill=\"none\" stroke=\"blue\" stroke-dasharray=\"5,2\" d=\"M688.53,-62C681.77,-58.32 674.16,-54.89 666.66,-53 610.63,-38.88 594.43,-51.84 536.66,-53 351.12,-56.71 299.47,-40.01 120.75,-90 116.94,-91.07 113.04,-92.26 109.14,-93.53\"/>\n<polygon fill=\"blue\" stroke=\"blue\" points=\"107.79,-90.29 99.45,-96.83 110.05,-96.92 107.79,-90.29\"/>\n<text text-anchor=\"middle\" x=\"329.91\" y=\"-65.2\" font-family=\"Arial\" font-size=\"16.00\">p = 0.3 &#160;reward =&#45;1</text>\n</g>\n<!-- s2&#45;a1&#45;&gt;s2 -->\n<g id=\"edge19\" class=\"edge\">\n<title>s2&#45;a1&#45;&gt;s2</title>\n<path fill=\"none\" stroke=\"blue\" stroke-dasharray=\"5,2\" d=\"M685.84,-68.74C649.98,-58.69 583.65,-46.15 536.66,-73 514.45,-85.69 498.73,-108.73 488.02,-130.94\"/>\n<polygon fill=\"blue\" stroke=\"blue\" points=\"484.83,-129.5 483.87,-140.05 491.2,-132.4 484.83,-129.5\"/>\n<text text-anchor=\"middle\" x=\"601.66\" y=\"-78.2\" font-family=\"Arial\" font-size=\"16.00\">p = 0.4</text>\n</g>\n<!-- s2&#45;a1&#45;&gt;s1 -->\n<g id=\"edge18\" class=\"edge\">\n<title>s2&#45;a1&#45;&gt;s1</title>\n<path fill=\"none\" stroke=\"blue\" stroke-dasharray=\"5,2\" d=\"M740.1,-78.41C762.66,-79.59 795.75,-81.32 824.63,-82.83\"/>\n<polygon fill=\"blue\" stroke=\"blue\" points=\"824.47,-86.33 834.64,-83.35 824.84,-79.34 824.47,-86.33\"/>\n<text text-anchor=\"middle\" x=\"787.31\" y=\"-88.2\" font-family=\"Arial\" font-size=\"16.00\">p = 0.3</text>\n</g>\n</g>\n</svg>\n",
            "text/plain": [
              "<graphviz.graphs.Digraph at 0x7ca1d53d9ae0>"
            ]
          },
          "metadata": {}
        },
        {
          "output_type": "stream",
          "name": "stdout",
          "text": [
            "iter    0   |   diff: 3.50000   |   V(s0) = 0.000   V(s1) = 0.000   V(s2) = 0.000\n",
            "iter    1   |   diff: 0.64500   |   V(s0) = 0.000   V(s1) = 3.500   V(s2) = 0.000\n",
            "iter    2   |   diff: 0.58050   |   V(s0) = 0.000   V(s1) = 3.815   V(s2) = 0.645\n",
            "iter    3   |   diff: 0.43582   |   V(s0) = 0.581   V(s1) = 3.959   V(s2) = 0.962\n",
            "iter    4   |   diff: 0.30634   |   V(s0) = 0.866   V(s1) = 4.395   V(s2) = 1.272\n",
            "iter    5   |   diff: 0.27571   |   V(s0) = 1.145   V(s1) = 4.670   V(s2) = 1.579\n",
            "iter    6   |   diff: 0.24347   |   V(s0) = 1.421   V(s1) = 4.926   V(s2) = 1.838\n",
            "iter    7   |   diff: 0.21419   |   V(s0) = 1.655   V(s1) = 5.169   V(s2) = 2.075\n",
            "iter    8   |   diff: 0.19277   |   V(s0) = 1.868   V(s1) = 5.381   V(s2) = 2.290\n",
            "iter    9   |   diff: 0.17327   |   V(s0) = 2.061   V(s1) = 5.573   V(s2) = 2.481\n",
            "iter   10   |   diff: 0.15569   |   V(s0) = 2.233   V(s1) = 5.746   V(s2) = 2.654\n",
            "iter   11   |   diff: 0.14012   |   V(s0) = 2.389   V(s1) = 5.902   V(s2) = 2.810\n",
            "iter   12   |   diff: 0.12610   |   V(s0) = 2.529   V(s1) = 6.042   V(s2) = 2.950\n",
            "iter   13   |   diff: 0.11348   |   V(s0) = 2.655   V(s1) = 6.168   V(s2) = 3.076\n",
            "iter   14   |   diff: 0.10213   |   V(s0) = 2.769   V(s1) = 6.282   V(s2) = 3.190\n",
            "iter   15   |   diff: 0.09192   |   V(s0) = 2.871   V(s1) = 6.384   V(s2) = 3.292\n",
            "iter   16   |   diff: 0.08272   |   V(s0) = 2.963   V(s1) = 6.476   V(s2) = 3.384\n",
            "iter   17   |   diff: 0.07445   |   V(s0) = 3.045   V(s1) = 6.558   V(s2) = 3.467\n",
            "iter   18   |   diff: 0.06701   |   V(s0) = 3.120   V(s1) = 6.633   V(s2) = 3.541\n",
            "iter   19   |   diff: 0.06031   |   V(s0) = 3.187   V(s1) = 6.700   V(s2) = 3.608\n",
            "iter   20   |   diff: 0.05428   |   V(s0) = 3.247   V(s1) = 6.760   V(s2) = 3.668\n",
            "iter   21   |   diff: 0.04885   |   V(s0) = 3.301   V(s1) = 6.814   V(s2) = 3.723\n",
            "iter   22   |   diff: 0.04396   |   V(s0) = 3.350   V(s1) = 6.863   V(s2) = 3.771\n",
            "iter   23   |   diff: 0.03957   |   V(s0) = 3.394   V(s1) = 6.907   V(s2) = 3.815\n",
            "iter   24   |   diff: 0.03561   |   V(s0) = 3.434   V(s1) = 6.947   V(s2) = 3.855\n",
            "iter   25   |   diff: 0.03205   |   V(s0) = 3.469   V(s1) = 6.982   V(s2) = 3.891\n",
            "iter   26   |   diff: 0.02884   |   V(s0) = 3.502   V(s1) = 7.014   V(s2) = 3.923\n",
            "iter   27   |   diff: 0.02596   |   V(s0) = 3.530   V(s1) = 7.043   V(s2) = 3.951\n",
            "iter   28   |   diff: 0.02336   |   V(s0) = 3.556   V(s1) = 7.069   V(s2) = 3.977\n",
            "iter   29   |   diff: 0.02103   |   V(s0) = 3.580   V(s1) = 7.093   V(s2) = 4.001\n",
            "iter   30   |   diff: 0.01892   |   V(s0) = 3.601   V(s1) = 7.114   V(s2) = 4.022\n",
            "iter   31   |   diff: 0.01703   |   V(s0) = 3.620   V(s1) = 7.133   V(s2) = 4.041\n",
            "iter   32   |   diff: 0.01533   |   V(s0) = 3.637   V(s1) = 7.150   V(s2) = 4.058\n",
            "iter   33   |   diff: 0.01380   |   V(s0) = 3.652   V(s1) = 7.165   V(s2) = 4.073\n",
            "iter   34   |   diff: 0.01242   |   V(s0) = 3.666   V(s1) = 7.179   V(s2) = 4.087\n",
            "iter   35   |   diff: 0.01117   |   V(s0) = 3.678   V(s1) = 7.191   V(s2) = 4.099\n",
            "iter   36   |   diff: 0.01006   |   V(s0) = 3.689   V(s1) = 7.202   V(s2) = 4.110\n",
            "iter   37   |   diff: 0.00905   |   V(s0) = 3.699   V(s1) = 7.212   V(s2) = 4.121\n",
            "iter   38   |   diff: 0.00815   |   V(s0) = 3.708   V(s1) = 7.221   V(s2) = 4.130\n",
            "iter   39   |   diff: 0.00733   |   V(s0) = 3.717   V(s1) = 7.230   V(s2) = 4.138\n",
            "iter   40   |   diff: 0.00660   |   V(s0) = 3.724   V(s1) = 7.237   V(s2) = 4.145\n",
            "iter   41   |   diff: 0.00594   |   V(s0) = 3.731   V(s1) = 7.244   V(s2) = 4.152\n",
            "iter   42   |   diff: 0.00534   |   V(s0) = 3.736   V(s1) = 7.249   V(s2) = 4.158\n",
            "iter   43   |   diff: 0.00481   |   V(s0) = 3.742   V(s1) = 7.255   V(s2) = 4.163\n",
            "iter   44   |   diff: 0.00433   |   V(s0) = 3.747   V(s1) = 7.260   V(s2) = 4.168\n",
            "iter   45   |   diff: 0.00390   |   V(s0) = 3.751   V(s1) = 7.264   V(s2) = 4.172\n",
            "iter   46   |   diff: 0.00351   |   V(s0) = 3.755   V(s1) = 7.268   V(s2) = 4.176\n",
            "iter   47   |   diff: 0.00316   |   V(s0) = 3.758   V(s1) = 7.271   V(s2) = 4.179\n",
            "iter   48   |   diff: 0.00284   |   V(s0) = 3.762   V(s1) = 7.275   V(s2) = 4.183\n",
            "iter   49   |   diff: 0.00256   |   V(s0) = 3.764   V(s1) = 7.277   V(s2) = 4.185\n",
            "iter   50   |   diff: 0.00230   |   V(s0) = 3.767   V(s1) = 7.280   V(s2) = 4.188\n",
            "iter   51   |   diff: 0.00207   |   V(s0) = 3.769   V(s1) = 7.282   V(s2) = 4.190\n",
            "iter   52   |   diff: 0.00186   |   V(s0) = 3.771   V(s1) = 7.284   V(s2) = 4.192\n",
            "iter   53   |   diff: 0.00168   |   V(s0) = 3.773   V(s1) = 7.286   V(s2) = 4.194\n",
            "iter   54   |   diff: 0.00151   |   V(s0) = 3.775   V(s1) = 7.288   V(s2) = 4.196\n",
            "iter   55   |   diff: 0.00136   |   V(s0) = 3.776   V(s1) = 7.289   V(s2) = 4.197\n",
            "iter   56   |   diff: 0.00122   |   V(s0) = 3.778   V(s1) = 7.291   V(s2) = 4.199\n",
            "iter   57   |   diff: 0.00110   |   V(s0) = 3.779   V(s1) = 7.292   V(s2) = 4.200\n",
            "iter   58   |   diff: 0.00099   |   V(s0) = 3.780   V(s1) = 7.293   V(s2) = 4.201\n",
            "Terminated\n"
          ]
        }
      ],
      "source": [
        "# parameters\n",
        "gamma = 0.9            # discount for MDP\n",
        "num_iter = 100         # maximum iterations, excluding initialization\n",
        "# stop VI if new values are this close to old values (or closer)\n",
        "min_difference = 0.001\n",
        "\n",
        "# initialize V(s)\n",
        "state_values = {s: 0 for s in mdp.get_all_states()}\n",
        "\n",
        "if has_graphviz:\n",
        "    display(plot_graph_with_state_values(mdp, state_values))\n",
        "\n",
        "for i in range(num_iter):\n",
        "\n",
        "    # Compute new state values using the functions you defined above.\n",
        "    # It must be a dict {state : float V_new(state)}\n",
        "    new_state_values = {s: get_new_state_value(mdp, state_values, s, gamma) for s in mdp.get_all_states()}\n",
        "\n",
        "    assert isinstance(new_state_values, dict)\n",
        "\n",
        "    # Compute difference\n",
        "    diff = max(abs(new_state_values[s] - state_values[s])\n",
        "               for s in mdp.get_all_states())\n",
        "    print(\"iter %4i   |   diff: %6.5f   |   \" % (i, diff), end=\"\")\n",
        "    print('   '.join(\"V(%s) = %.3f\" % (s, v) for s, v in state_values.items()))\n",
        "    state_values = new_state_values\n",
        "\n",
        "    if diff < min_difference:\n",
        "        print(\"Terminated\")\n",
        "        break"
      ]
    },
    {
      "cell_type": "code",
      "execution_count": 12,
      "metadata": {
        "colab": {
          "base_uri": "https://localhost:8080/",
          "height": 455
        },
        "id": "cx-8ytRvI_WP",
        "outputId": "42e264ff-8d03-4ce9-fb79-9f4f1c551e3e"
      },
      "outputs": [
        {
          "output_type": "display_data",
          "data": {
            "image/svg+xml": "<?xml version=\"1.0\" encoding=\"UTF-8\" standalone=\"no\"?>\n<!DOCTYPE svg PUBLIC \"-//W3C//DTD SVG 1.1//EN\"\n \"http://www.w3.org/Graphics/SVG/1.1/DTD/svg11.dtd\">\n<!-- Generated by graphviz version 2.43.0 (0)\n -->\n<!-- Title: MDP Pages: 1 -->\n<svg width=\"1240pt\" height=\"310pt\"\n viewBox=\"0.00 0.00 1239.97 310.00\" xmlns=\"http://www.w3.org/2000/svg\" xmlns:xlink=\"http://www.w3.org/1999/xlink\">\n<g id=\"graph0\" class=\"graph\" transform=\"scale(1 1) rotate(0) translate(4 306)\">\n<title>MDP</title>\n<polygon fill=\"white\" stroke=\"transparent\" points=\"-4,4 -4,-306 1235.97,-306 1235.97,4 -4,4\"/>\n<!-- s0 -->\n<g id=\"node1\" class=\"node\">\n<title>s0</title>\n<ellipse fill=\"#85ff75\" stroke=\"#85ff75\" cx=\"75.42\" cy=\"-110\" rx=\"71.34\" ry=\"71.34\"/>\n<ellipse fill=\"none\" stroke=\"#85ff75\" cx=\"75.42\" cy=\"-110\" rx=\"75.34\" ry=\"75.34\"/>\n<text text-anchor=\"middle\" x=\"75.42\" y=\"-116.8\" font-family=\"Arial\" font-size=\"24.00\">s0</text>\n<text text-anchor=\"middle\" x=\"75.42\" y=\"-90.8\" font-family=\"Arial\" font-size=\"24.00\">V =3.78</text>\n</g>\n<!-- s0&#45;a0 -->\n<g id=\"node2\" class=\"node\">\n<title>s0&#45;a0</title>\n<ellipse fill=\"lightpink\" stroke=\"lightpink\" cx=\"264.41\" cy=\"-154\" rx=\"27.65\" ry=\"27.65\"/>\n<text text-anchor=\"middle\" x=\"264.41\" y=\"-149\" font-family=\"Arial\" font-size=\"20.00\">a0</text>\n</g>\n<!-- s0&#45;&gt;s0&#45;a0 -->\n<g id=\"edge1\" class=\"edge\">\n<title>s0&#45;&gt;s0&#45;a0</title>\n<path fill=\"none\" stroke=\"red\" stroke-width=\"2\" d=\"M150.18,-121.42C172.44,-125.55 196.8,-130.76 218.84,-137 222.21,-137.95 225.68,-139.06 229.13,-140.23\"/>\n<polygon fill=\"red\" stroke=\"red\" stroke-width=\"2\" points=\"228.09,-143.58 238.68,-143.68 230.46,-136.99 228.09,-143.58\"/>\n</g>\n<!-- s0&#45;a1 -->\n<g id=\"node4\" class=\"node\">\n<title>s0&#45;a1</title>\n<ellipse fill=\"lightpink\" stroke=\"lightpink\" cx=\"264.41\" cy=\"-227\" rx=\"27.65\" ry=\"27.65\"/>\n<text text-anchor=\"middle\" x=\"264.41\" y=\"-222\" font-family=\"Arial\" font-size=\"20.00\">a1</text>\n</g>\n<!-- s0&#45;&gt;s0&#45;a1 -->\n<g id=\"edge4\" class=\"edge\">\n<title>s0&#45;&gt;s0&#45;a1</title>\n<path fill=\"none\" stroke=\"red\" stroke-width=\"2\" d=\"M139.73,-149.61C170.68,-168.98 206.57,-191.44 231.7,-207.16\"/>\n<polygon fill=\"red\" stroke=\"red\" stroke-width=\"2\" points=\"230.1,-210.29 240.44,-212.62 233.82,-204.35 230.1,-210.29\"/>\n</g>\n<!-- s0&#45;a0&#45;&gt;s0 -->\n<g id=\"edge2\" class=\"edge\">\n<title>s0&#45;a0&#45;&gt;s0</title>\n<path fill=\"none\" stroke=\"blue\" stroke-dasharray=\"5,2\" d=\"M237.25,-148.8C218.22,-144.94 191.87,-139.42 168.84,-134 165.42,-133.2 161.95,-132.36 158.44,-131.51\"/>\n<polygon fill=\"blue\" stroke=\"blue\" points=\"159.03,-128.05 148.48,-129.05 157.36,-134.85 159.03,-128.05\"/>\n<text text-anchor=\"middle\" x=\"193.84\" y=\"-150.2\" font-family=\"Arial\" font-size=\"16.00\">p = 0.5</text>\n</g>\n<!-- s2 -->\n<g id=\"node3\" class=\"node\">\n<title>s2</title>\n<ellipse fill=\"#85ff75\" stroke=\"#85ff75\" cx=\"539.41\" cy=\"-201\" rx=\"71.34\" ry=\"71.34\"/>\n<ellipse fill=\"none\" stroke=\"#85ff75\" cx=\"539.41\" cy=\"-201\" rx=\"75.34\" ry=\"75.34\"/>\n<text text-anchor=\"middle\" x=\"539.41\" y=\"-207.8\" font-family=\"Arial\" font-size=\"24.00\">s2</text>\n<text text-anchor=\"middle\" x=\"539.41\" y=\"-181.8\" font-family=\"Arial\" font-size=\"24.00\">V =4.20</text>\n</g>\n<!-- s0&#45;a0&#45;&gt;s2 -->\n<g id=\"edge3\" class=\"edge\">\n<title>s0&#45;a0&#45;&gt;s2</title>\n<path fill=\"none\" stroke=\"blue\" stroke-dasharray=\"5,2\" d=\"M292.09,-158.59C329.49,-165.03 399.18,-177.03 454.91,-186.63\"/>\n<polygon fill=\"blue\" stroke=\"blue\" points=\"454.34,-190.08 464.79,-188.33 455.53,-183.18 454.34,-190.08\"/>\n<text text-anchor=\"middle\" x=\"377.99\" y=\"-190.2\" font-family=\"Arial\" font-size=\"16.00\">p = 0.5</text>\n</g>\n<!-- s2&#45;a0 -->\n<g id=\"node8\" class=\"node\">\n<title>s2&#45;a0</title>\n<ellipse fill=\"lightpink\" stroke=\"lightpink\" cx=\"808.4\" cy=\"-162\" rx=\"27.65\" ry=\"27.65\"/>\n<text text-anchor=\"middle\" x=\"808.4\" y=\"-157\" font-family=\"Arial\" font-size=\"20.00\">a0</text>\n</g>\n<!-- s2&#45;&gt;s2&#45;a0 -->\n<g id=\"edge13\" class=\"edge\">\n<title>s2&#45;&gt;s2&#45;a0</title>\n<path fill=\"none\" stroke=\"red\" stroke-width=\"2\" d=\"M615.01,-200.1C658.66,-198.14 714.51,-193.15 762.83,-181 766.47,-180.08 770.19,-178.91 773.86,-177.6\"/>\n<polygon fill=\"red\" stroke=\"red\" stroke-width=\"2\" points=\"775.33,-180.78 783.36,-173.87 772.77,-174.27 775.33,-180.78\"/>\n</g>\n<!-- s2&#45;a1 -->\n<g id=\"node9\" class=\"node\">\n<title>s2&#45;a1</title>\n<ellipse fill=\"lightpink\" stroke=\"lightpink\" cx=\"808.4\" cy=\"-80\" rx=\"27.65\" ry=\"27.65\"/>\n<text text-anchor=\"middle\" x=\"808.4\" y=\"-75\" font-family=\"Arial\" font-size=\"20.00\">a1</text>\n</g>\n<!-- s2&#45;&gt;s2&#45;a1 -->\n<g id=\"edge16\" class=\"edge\">\n<title>s2&#45;&gt;s2&#45;a1</title>\n<path fill=\"none\" stroke=\"red\" stroke-width=\"2\" d=\"M604.95,-163.22C614.2,-158.24 623.68,-153.35 632.83,-149 680.16,-126.46 736.95,-105 772.61,-92.16\"/>\n<polygon fill=\"red\" stroke=\"red\" stroke-width=\"2\" points=\"773.84,-95.44 782.08,-88.78 771.49,-88.85 773.84,-95.44\"/>\n</g>\n<!-- s0&#45;a1&#45;&gt;s2 -->\n<g id=\"edge5\" class=\"edge\">\n<title>s0&#45;a1&#45;&gt;s2</title>\n<path fill=\"none\" stroke=\"blue\" stroke-dasharray=\"5,2\" d=\"M292.09,-224.46C329.28,-220.92 398.42,-214.33 454,-209.04\"/>\n<polygon fill=\"blue\" stroke=\"blue\" points=\"454.59,-212.5 464.21,-208.07 453.92,-205.53 454.59,-212.5\"/>\n<text text-anchor=\"middle\" x=\"377.99\" y=\"-227.2\" font-family=\"Arial\" font-size=\"16.00\">p = 1</text>\n</g>\n<!-- s1 -->\n<g id=\"node5\" class=\"node\">\n<title>s1</title>\n<ellipse fill=\"#85ff75\" stroke=\"#85ff75\" cx=\"1006.4\" cy=\"-110\" rx=\"71.34\" ry=\"71.34\"/>\n<ellipse fill=\"none\" stroke=\"#85ff75\" cx=\"1006.4\" cy=\"-110\" rx=\"75.34\" ry=\"75.34\"/>\n<text text-anchor=\"middle\" x=\"1006.4\" y=\"-116.8\" font-family=\"Arial\" font-size=\"24.00\">s1</text>\n<text text-anchor=\"middle\" x=\"1006.4\" y=\"-90.8\" font-family=\"Arial\" font-size=\"24.00\">V =7.29</text>\n</g>\n<!-- s1&#45;a0 -->\n<g id=\"node6\" class=\"node\">\n<title>s1&#45;a0</title>\n<ellipse fill=\"lightpink\" stroke=\"lightpink\" cx=\"1204.39\" cy=\"-86\" rx=\"27.65\" ry=\"27.65\"/>\n<text text-anchor=\"middle\" x=\"1204.39\" y=\"-81\" font-family=\"Arial\" font-size=\"20.00\">a0</text>\n</g>\n<!-- s1&#45;&gt;s1&#45;a0 -->\n<g id=\"edge6\" class=\"edge\">\n<title>s1&#45;&gt;s1&#45;a0</title>\n<path fill=\"none\" stroke=\"red\" stroke-width=\"2\" d=\"M1081.95,-105.02C1106.52,-102.87 1133.91,-99.93 1158.82,-96 1161.51,-95.57 1164.29,-95.08 1167.08,-94.55\"/>\n<polygon fill=\"red\" stroke=\"red\" stroke-width=\"2\" points=\"1168.01,-97.93 1177.1,-92.49 1166.6,-91.08 1168.01,-97.93\"/>\n</g>\n<!-- s1&#45;a1 -->\n<g id=\"node7\" class=\"node\">\n<title>s1&#45;a1</title>\n<ellipse fill=\"lightpink\" stroke=\"lightpink\" cx=\"1204.39\" cy=\"-168\" rx=\"27.65\" ry=\"27.65\"/>\n<text text-anchor=\"middle\" x=\"1204.39\" y=\"-163\" font-family=\"Arial\" font-size=\"20.00\">a1</text>\n</g>\n<!-- s1&#45;&gt;s1&#45;a1 -->\n<g id=\"edge10\" class=\"edge\">\n<title>s1&#45;&gt;s1&#45;a1</title>\n<path fill=\"none\" stroke=\"red\" stroke-width=\"2\" d=\"M1080.07,-126.35C1105.25,-132.64 1133.5,-140.4 1158.82,-149 1162.37,-150.21 1166.04,-151.57 1169.68,-153\"/>\n<polygon fill=\"red\" stroke=\"red\" stroke-width=\"2\" points=\"1168.55,-156.32 1179.13,-156.87 1171.2,-149.84 1168.55,-156.32\"/>\n</g>\n<!-- s1&#45;a0&#45;&gt;s0 -->\n<g id=\"edge7\" class=\"edge\">\n<title>s1&#45;a0&#45;&gt;s0</title>\n<path fill=\"none\" stroke=\"blue\" stroke-dasharray=\"5,2\" d=\"M1182.11,-69.62C1147.5,-44.67 1075.95,0 1007.4,0 263.41,0 263.41,0 263.41,0 217.21,0 172.35,-25.26 138.16,-51.56\"/>\n<polygon fill=\"blue\" stroke=\"blue\" points=\"135.82,-48.95 130.14,-57.9 140.16,-54.44 135.82,-48.95\"/>\n<text text-anchor=\"middle\" x=\"697.83\" y=\"-5.2\" font-family=\"Arial\" font-size=\"16.00\">p = 0.7 &#160;reward =5</text>\n</g>\n<!-- s1&#45;a0&#45;&gt;s2 -->\n<g id=\"edge9\" class=\"edge\">\n<title>s1&#45;a0&#45;&gt;s2</title>\n<path fill=\"none\" stroke=\"blue\" stroke-dasharray=\"5,2\" d=\"M1188.69,-108.88C1184.55,-115.83 1180.24,-123.59 1176.82,-131 1166.55,-153.2 1177.68,-167.44 1158.82,-183 1132.15,-205 1116.26,-191.06 1081.82,-194 920.76,-207.73 731.8,-206.17 625.08,-203.67\"/>\n<polygon fill=\"blue\" stroke=\"blue\" points=\"625.1,-200.17 615.01,-203.43 624.93,-207.17 625.1,-200.17\"/>\n<text text-anchor=\"middle\" x=\"883.48\" y=\"-209.2\" font-family=\"Arial\" font-size=\"16.00\">p = 0.2</text>\n</g>\n<!-- s1&#45;a0&#45;&gt;s1 -->\n<g id=\"edge8\" class=\"edge\">\n<title>s1&#45;a0&#45;&gt;s1</title>\n<path fill=\"none\" stroke=\"blue\" stroke-dasharray=\"5,2\" d=\"M1177.7,-77.85C1171.57,-76.25 1165.01,-74.82 1158.82,-74 1132.82,-70.56 1125.59,-69.16 1099.82,-74 1095.09,-74.89 1090.3,-76.01 1085.51,-77.3\"/>\n<polygon fill=\"blue\" stroke=\"blue\" points=\"1084.32,-74.01 1075.71,-80.18 1086.29,-80.72 1084.32,-74.01\"/>\n<text text-anchor=\"middle\" x=\"1129.32\" y=\"-79.2\" font-family=\"Arial\" font-size=\"16.00\">p = 0.1</text>\n</g>\n<!-- s1&#45;a1&#45;&gt;s2 -->\n<g id=\"edge12\" class=\"edge\">\n<title>s1&#45;a1&#45;&gt;s2</title>\n<path fill=\"none\" stroke=\"blue\" stroke-dasharray=\"5,2\" d=\"M1193.43,-193.31C1186.2,-208 1174.85,-225.27 1158.82,-234 985.97,-328.1 744.14,-270.76 620.34,-230.44\"/>\n<polygon fill=\"blue\" stroke=\"blue\" points=\"621.14,-227.02 610.55,-227.21 618.95,-233.67 621.14,-227.02\"/>\n<text text-anchor=\"middle\" x=\"883.48\" y=\"-289.2\" font-family=\"Arial\" font-size=\"16.00\">p = 0.05</text>\n</g>\n<!-- s1&#45;a1&#45;&gt;s1 -->\n<g id=\"edge11\" class=\"edge\">\n<title>s1&#45;a1&#45;&gt;s1</title>\n<path fill=\"none\" stroke=\"blue\" stroke-dasharray=\"5,2\" d=\"M1177.13,-163.64C1156.02,-159.84 1125.71,-153.74 1099.82,-146 1095.26,-144.64 1090.61,-143.15 1085.95,-141.58\"/>\n<polygon fill=\"blue\" stroke=\"blue\" points=\"1086.96,-138.23 1076.36,-138.26 1084.66,-144.84 1086.96,-138.23\"/>\n<text text-anchor=\"middle\" x=\"1129.32\" y=\"-166.2\" font-family=\"Arial\" font-size=\"16.00\">p = 0.95</text>\n</g>\n<!-- s2&#45;a0&#45;&gt;s0 -->\n<g id=\"edge14\" class=\"edge\">\n<title>s2&#45;a0&#45;&gt;s0</title>\n<path fill=\"none\" stroke=\"blue\" stroke-dasharray=\"5,2\" d=\"M781.88,-154.02C745.32,-143.06 675.72,-123.91 614.83,-117 455.33,-98.9 267.57,-101.93 161.21,-105.89\"/>\n<polygon fill=\"blue\" stroke=\"blue\" points=\"161.04,-102.4 151.18,-106.28 161.31,-109.39 161.04,-102.4\"/>\n<text text-anchor=\"middle\" x=\"377.99\" y=\"-111.2\" font-family=\"Arial\" font-size=\"16.00\">p = 0.4</text>\n</g>\n<!-- s2&#45;a0&#45;&gt;s2 -->\n<g id=\"edge15\" class=\"edge\">\n<title>s2&#45;a0&#45;&gt;s2</title>\n<path fill=\"none\" stroke=\"blue\" stroke-dasharray=\"5,2\" d=\"M781.01,-157.84C746.5,-153.23 684.38,-147.84 632.83,-159 627.44,-160.17 622,-161.67 616.58,-163.42\"/>\n<polygon fill=\"blue\" stroke=\"blue\" points=\"615.18,-160.2 606.9,-166.8 617.49,-166.81 615.18,-160.2\"/>\n<text text-anchor=\"middle\" x=\"697.83\" y=\"-164.2\" font-family=\"Arial\" font-size=\"16.00\">p = 0.6</text>\n</g>\n<!-- s2&#45;a1&#45;&gt;s0 -->\n<g id=\"edge17\" class=\"edge\">\n<title>s2&#45;a1&#45;&gt;s0</title>\n<path fill=\"none\" stroke=\"blue\" stroke-dasharray=\"5,2\" d=\"M784.63,-65.62C777.87,-62.09 770.27,-58.81 762.83,-57 706.68,-43.37 690.6,-56.91 632.83,-57 489.34,-57.22 452.86,-44.73 309.99,-58 246.47,-63.9 230.97,-69.57 168.84,-84 165.26,-84.83 161.61,-85.71 157.93,-86.63\"/>\n<polygon fill=\"blue\" stroke=\"blue\" points=\"156.97,-83.26 148.15,-89.12 158.7,-90.04 156.97,-83.26\"/>\n<text text-anchor=\"middle\" x=\"377.99\" y=\"-63.2\" font-family=\"Arial\" font-size=\"16.00\">p = 0.3 &#160;reward =&#45;1</text>\n</g>\n<!-- s2&#45;a1&#45;&gt;s2 -->\n<g id=\"edge19\" class=\"edge\">\n<title>s2&#45;a1&#45;&gt;s2</title>\n<path fill=\"none\" stroke=\"blue\" stroke-dasharray=\"5,2\" d=\"M781.77,-72.02C746.2,-62.49 680.83,-50.67 632.83,-75 611.02,-86.05 593.11,-104.94 579.06,-124.77\"/>\n<polygon fill=\"blue\" stroke=\"blue\" points=\"575.98,-123.07 573.27,-133.31 581.78,-127 575.98,-123.07\"/>\n<text text-anchor=\"middle\" x=\"697.83\" y=\"-80.2\" font-family=\"Arial\" font-size=\"16.00\">p = 0.4</text>\n</g>\n<!-- s2&#45;a1&#45;&gt;s1 -->\n<g id=\"edge18\" class=\"edge\">\n<title>s2&#45;a1&#45;&gt;s1</title>\n<path fill=\"none\" stroke=\"blue\" stroke-dasharray=\"5,2\" d=\"M835.84,-84.05C857.99,-87.44 890.88,-92.47 921.81,-97.21\"/>\n<polygon fill=\"blue\" stroke=\"blue\" points=\"921.35,-100.68 931.77,-98.73 922.41,-93.76 921.35,-100.68\"/>\n<text text-anchor=\"middle\" x=\"883.48\" y=\"-100.2\" font-family=\"Arial\" font-size=\"16.00\">p = 0.3</text>\n</g>\n</g>\n</svg>\n",
            "text/plain": [
              "<graphviz.graphs.Digraph at 0x7ca214263ee0>"
            ]
          },
          "metadata": {}
        }
      ],
      "source": [
        "if has_graphviz:\n",
        "    display(plot_graph_with_state_values(mdp, state_values))"
      ]
    },
    {
      "cell_type": "code",
      "execution_count": 13,
      "metadata": {
        "colab": {
          "base_uri": "https://localhost:8080/"
        },
        "id": "Ngu3j8oKI_WP",
        "outputId": "95eb4d26-90f4-4f3f-bd11-6de5f2c9f22a"
      },
      "outputs": [
        {
          "output_type": "stream",
          "name": "stdout",
          "text": [
            "Final state values: {'s0': 3.7810348735476405, 's1': 7.294006423867229, 's2': 4.202140275227048}\n"
          ]
        }
      ],
      "source": [
        "print(\"Final state values:\", state_values)\n",
        "\n",
        "assert abs(state_values['s0'] - 3.781) < 0.01\n",
        "assert abs(state_values['s1'] - 7.294) < 0.01\n",
        "assert abs(state_values['s2'] - 4.202) < 0.01"
      ]
    },
    {
      "cell_type": "markdown",
      "metadata": {
        "id": "15N1H0-LI_WP"
      },
      "source": [
        "Now let's use those $V^{*}(s)$ to find optimal actions in each state\n",
        "\n",
        " $$\\pi^*(s) = argmax_a \\sum_{s'} P(s' | s,a) \\cdot [ r(s,a,s') + \\gamma V_{i}(s')] = argmax_a Q_i(s,a)$$\n",
        "\n",
        "The only difference vs V(s) is that here we take not max but argmax: find action such with maximum Q(s,a)."
      ]
    },
    {
      "cell_type": "code",
      "execution_count": 14,
      "metadata": {
        "colab": {
          "base_uri": "https://localhost:8080/"
        },
        "id": "I2wY0UElI_WQ",
        "outputId": "a7fcc30f-090f-4bd0-f768-2f31116aac31"
      },
      "outputs": [
        {
          "output_type": "stream",
          "name": "stderr",
          "text": [
            "/usr/local/lib/python3.10/dist-packages/ipykernel/ipkernel.py:283: DeprecationWarning: `should_run_async` will not call `transform_cell` automatically in the future. Please pass the result to `transformed_cell` argument and any exception that happen during thetransform in `preprocessing_exc_tuple` in IPython 7.17 and above.\n",
            "  and should_run_async(code)\n"
          ]
        }
      ],
      "source": [
        "def get_optimal_action(mdp, state_values, state, gamma=0.9):\n",
        "    \"\"\" Finds optimal action using formula above. \"\"\"\n",
        "    if mdp.is_terminal(state):\n",
        "        return None\n",
        "\n",
        "    # <YOUR CODE>\n",
        "    actions = mdp.get_possible_actions(state)\n",
        "    argmax_ = np.argmax([get_action_value(mdp, state_values, state, action, gamma) for action in actions])\n",
        "\n",
        "    return actions[argmax_]"
      ]
    },
    {
      "cell_type": "code",
      "execution_count": 15,
      "metadata": {
        "id": "vgJ0Kd_YI_WQ"
      },
      "outputs": [],
      "source": [
        "assert get_optimal_action(mdp, state_values, 's0', gamma) == 'a1'\n",
        "assert get_optimal_action(mdp, state_values, 's1', gamma) == 'a0'\n",
        "assert get_optimal_action(mdp, state_values, 's2', gamma) == 'a1'\n",
        "\n",
        "assert get_optimal_action(mdp, {'s0': -1e10, 's1': 0, 's2': -2e10}, 's0', 0.9) == 'a0', \\\n",
        "    \"Please ensure that you handle negative Q-values of arbitrary magnitude correctly\"\n",
        "assert get_optimal_action(mdp, {'s0': -2e10, 's1': 0, 's2': -1e10}, 's0', 0.9) == 'a1', \\\n",
        "    \"Please ensure that you handle negative Q-values of arbitrary magnitude correctly\""
      ]
    },
    {
      "cell_type": "code",
      "execution_count": 16,
      "metadata": {
        "colab": {
          "base_uri": "https://localhost:8080/",
          "height": 491
        },
        "id": "lz8_0AxuI_WQ",
        "outputId": "d637e3e3-12f3-499b-c924-8afa0fae7445"
      },
      "outputs": [
        {
          "output_type": "display_data",
          "data": {
            "image/svg+xml": "<?xml version=\"1.0\" encoding=\"UTF-8\" standalone=\"no\"?>\n<!DOCTYPE svg PUBLIC \"-//W3C//DTD SVG 1.1//EN\"\n \"http://www.w3.org/Graphics/SVG/1.1/DTD/svg11.dtd\">\n<!-- Generated by graphviz version 2.43.0 (0)\n -->\n<!-- Title: MDP Pages: 1 -->\n<svg width=\"1240pt\" height=\"337pt\"\n viewBox=\"0.00 0.00 1239.97 337.00\" xmlns=\"http://www.w3.org/2000/svg\" xmlns:xlink=\"http://www.w3.org/1999/xlink\">\n<g id=\"graph0\" class=\"graph\" transform=\"scale(1 1) rotate(0) translate(4 333)\">\n<title>MDP</title>\n<polygon fill=\"white\" stroke=\"transparent\" points=\"-4,4 -4,-333 1235.97,-333 1235.97,4 -4,4\"/>\n<!-- s0 -->\n<g id=\"node1\" class=\"node\">\n<title>s0</title>\n<ellipse fill=\"#85ff75\" stroke=\"#85ff75\" cx=\"75.42\" cy=\"-129\" rx=\"71.34\" ry=\"71.34\"/>\n<ellipse fill=\"none\" stroke=\"#85ff75\" cx=\"75.42\" cy=\"-129\" rx=\"75.34\" ry=\"75.34\"/>\n<text text-anchor=\"middle\" x=\"75.42\" y=\"-135.8\" font-family=\"Arial\" font-size=\"24.00\">s0</text>\n<text text-anchor=\"middle\" x=\"75.42\" y=\"-109.8\" font-family=\"Arial\" font-size=\"24.00\">V =3.78</text>\n</g>\n<!-- s0&#45;a0 -->\n<g id=\"node2\" class=\"node\">\n<title>s0&#45;a0</title>\n<ellipse fill=\"lightpink\" stroke=\"lightpink\" cx=\"264.41\" cy=\"-160\" rx=\"27.65\" ry=\"27.65\"/>\n<text text-anchor=\"middle\" x=\"264.41\" y=\"-155\" font-family=\"Arial\" font-size=\"20.00\">a0</text>\n</g>\n<!-- s0&#45;&gt;s0&#45;a0 -->\n<g id=\"edge1\" class=\"edge\">\n<title>s0&#45;&gt;s0&#45;a0</title>\n<path fill=\"none\" stroke=\"red\" stroke-width=\"2\" d=\"M150.95,-132.56C173.01,-134.63 197.07,-137.88 218.84,-143 222.24,-143.8 225.74,-144.8 229.21,-145.92\"/>\n<polygon fill=\"red\" stroke=\"red\" stroke-width=\"2\" points=\"228.19,-149.27 238.79,-149.27 230.51,-142.66 228.19,-149.27\"/>\n</g>\n<!-- s0&#45;a1 -->\n<g id=\"node4\" class=\"node\">\n<title>s0&#45;a1</title>\n<ellipse fill=\"lightpink\" stroke=\"lightpink\" cx=\"264.41\" cy=\"-233\" rx=\"27.65\" ry=\"27.65\"/>\n<text text-anchor=\"middle\" x=\"264.41\" y=\"-228\" font-family=\"Arial\" font-size=\"20.00\">a1</text>\n</g>\n<!-- s0&#45;&gt;s0&#45;a1 -->\n<g id=\"edge4\" class=\"edge\">\n<title>s0&#45;&gt;s0&#45;a1</title>\n<path fill=\"none\" stroke=\"red\" stroke-width=\"2\" d=\"M144.19,-160.18C174.78,-176.62 209.34,-196.31 233.35,-211.16\"/>\n<polygon fill=\"red\" stroke=\"red\" stroke-width=\"2\" points=\"231.67,-214.25 242,-216.6 235.4,-208.32 231.67,-214.25\"/>\n</g>\n<!-- s0&#45;&gt;s0&#45;a1 -->\n<g id=\"edge20\" class=\"edge\">\n<title>s0&#45;&gt;s0&#45;a1</title>\n<path fill=\"none\" stroke=\"green\" stroke-width=\"6\" d=\"M138.94,-170.18C169.07,-187.63 204.03,-206.72 229.22,-219.34\"/>\n<polygon fill=\"green\" stroke=\"green\" stroke-width=\"6\" points=\"227.07,-224.14 238.36,-223.84 231.71,-214.72 227.07,-224.14\"/>\n</g>\n<!-- s0&#45;a0&#45;&gt;s0 -->\n<g id=\"edge2\" class=\"edge\">\n<title>s0&#45;a0&#45;&gt;s0</title>\n<path fill=\"none\" stroke=\"blue\" stroke-dasharray=\"5,2\" d=\"M236.97,-155.62C216.84,-152.28 187.94,-147.49 160.2,-142.89\"/>\n<polygon fill=\"blue\" stroke=\"blue\" points=\"160.49,-139.39 150.05,-141.21 159.35,-146.3 160.49,-139.39\"/>\n<text text-anchor=\"middle\" x=\"193.84\" y=\"-158.2\" font-family=\"Arial\" font-size=\"16.00\">p = 0.5</text>\n</g>\n<!-- s2 -->\n<g id=\"node3\" class=\"node\">\n<title>s2</title>\n<ellipse fill=\"#85ff75\" stroke=\"#85ff75\" cx=\"539.41\" cy=\"-207\" rx=\"71.34\" ry=\"71.34\"/>\n<ellipse fill=\"none\" stroke=\"#85ff75\" cx=\"539.41\" cy=\"-207\" rx=\"75.34\" ry=\"75.34\"/>\n<text text-anchor=\"middle\" x=\"539.41\" y=\"-213.8\" font-family=\"Arial\" font-size=\"24.00\">s2</text>\n<text text-anchor=\"middle\" x=\"539.41\" y=\"-187.8\" font-family=\"Arial\" font-size=\"24.00\">V =4.20</text>\n</g>\n<!-- s0&#45;a0&#45;&gt;s2 -->\n<g id=\"edge3\" class=\"edge\">\n<title>s0&#45;a0&#45;&gt;s2</title>\n<path fill=\"none\" stroke=\"blue\" stroke-dasharray=\"5,2\" d=\"M292.09,-164.59C329.49,-171.03 399.18,-183.03 454.91,-192.63\"/>\n<polygon fill=\"blue\" stroke=\"blue\" points=\"454.34,-196.08 464.79,-194.33 455.53,-189.18 454.34,-196.08\"/>\n<text text-anchor=\"middle\" x=\"377.99\" y=\"-196.2\" font-family=\"Arial\" font-size=\"16.00\">p = 0.5</text>\n</g>\n<!-- s2&#45;a0 -->\n<g id=\"node8\" class=\"node\">\n<title>s2&#45;a0</title>\n<ellipse fill=\"lightpink\" stroke=\"lightpink\" cx=\"808.4\" cy=\"-181\" rx=\"27.65\" ry=\"27.65\"/>\n<text text-anchor=\"middle\" x=\"808.4\" y=\"-176\" font-family=\"Arial\" font-size=\"20.00\">a0</text>\n</g>\n<!-- s2&#45;&gt;s2&#45;a0 -->\n<g id=\"edge13\" class=\"edge\">\n<title>s2&#45;&gt;s2&#45;a0</title>\n<path fill=\"none\" stroke=\"red\" stroke-width=\"2\" d=\"M614.83,-210.72C658.41,-211.32 714.26,-209.34 762.83,-199 766.28,-198.26 769.8,-197.28 773.29,-196.15\"/>\n<polygon fill=\"red\" stroke=\"red\" stroke-width=\"2\" points=\"774.69,-199.37 782.89,-192.67 772.3,-192.79 774.69,-199.37\"/>\n</g>\n<!-- s2&#45;a1 -->\n<g id=\"node9\" class=\"node\">\n<title>s2&#45;a1</title>\n<ellipse fill=\"lightpink\" stroke=\"lightpink\" cx=\"808.4\" cy=\"-108\" rx=\"27.65\" ry=\"27.65\"/>\n<text text-anchor=\"middle\" x=\"808.4\" y=\"-103\" font-family=\"Arial\" font-size=\"20.00\">a1</text>\n</g>\n<!-- s2&#45;&gt;s2&#45;a1 -->\n<g id=\"edge16\" class=\"edge\">\n<title>s2&#45;&gt;s2&#45;a1</title>\n<path fill=\"none\" stroke=\"red\" stroke-width=\"2\" d=\"M605.62,-170.76C614.72,-167.01 623.99,-163.36 632.83,-160 680.22,-141.99 735.57,-122.99 771.03,-113.18\"/>\n<polygon fill=\"red\" stroke=\"red\" stroke-width=\"2\" points=\"772.15,-116.51 780.92,-110.56 770.36,-109.74 772.15,-116.51\"/>\n</g>\n<!-- s2&#45;&gt;s2&#45;a1 -->\n<g id=\"edge22\" class=\"edge\">\n<title>s2&#45;&gt;s2&#45;a1</title>\n<path fill=\"none\" stroke=\"green\" stroke-width=\"6\" d=\"M611.9,-186.12C618.95,-183.35 626.01,-180.59 632.83,-178 681.93,-159.34 739.58,-139.62 774.79,-125.46\"/>\n<polygon fill=\"green\" stroke=\"green\" stroke-width=\"6\" points=\"776.86,-130.29 784.1,-121.62 772.86,-120.58 776.86,-130.29\"/>\n</g>\n<!-- s0&#45;a1&#45;&gt;s2 -->\n<g id=\"edge5\" class=\"edge\">\n<title>s0&#45;a1&#45;&gt;s2</title>\n<path fill=\"none\" stroke=\"blue\" stroke-dasharray=\"5,2\" d=\"M292.09,-230.46C329.28,-226.92 398.42,-220.33 454,-215.04\"/>\n<polygon fill=\"blue\" stroke=\"blue\" points=\"454.59,-218.5 464.21,-214.07 453.92,-211.53 454.59,-218.5\"/>\n<text text-anchor=\"middle\" x=\"377.99\" y=\"-233.2\" font-family=\"Arial\" font-size=\"16.00\">p = 1</text>\n</g>\n<!-- s1 -->\n<g id=\"node5\" class=\"node\">\n<title>s1</title>\n<ellipse fill=\"#85ff75\" stroke=\"#85ff75\" cx=\"1006.4\" cy=\"-127\" rx=\"71.34\" ry=\"71.34\"/>\n<ellipse fill=\"none\" stroke=\"#85ff75\" cx=\"1006.4\" cy=\"-127\" rx=\"75.34\" ry=\"75.34\"/>\n<text text-anchor=\"middle\" x=\"1006.4\" y=\"-133.8\" font-family=\"Arial\" font-size=\"24.00\">s1</text>\n<text text-anchor=\"middle\" x=\"1006.4\" y=\"-107.8\" font-family=\"Arial\" font-size=\"24.00\">V =7.29</text>\n</g>\n<!-- s1&#45;a0 -->\n<g id=\"node6\" class=\"node\">\n<title>s1&#45;a0</title>\n<ellipse fill=\"lightpink\" stroke=\"lightpink\" cx=\"1204.39\" cy=\"-126\" rx=\"27.65\" ry=\"27.65\"/>\n<text text-anchor=\"middle\" x=\"1204.39\" y=\"-121\" font-family=\"Arial\" font-size=\"20.00\">a0</text>\n</g>\n<!-- s1&#45;&gt;s1&#45;a0 -->\n<g id=\"edge6\" class=\"edge\">\n<title>s1&#45;&gt;s1&#45;a0</title>\n<path fill=\"none\" stroke=\"red\" stroke-width=\"2\" d=\"M1081.49,-120.05C1110.77,-119.45 1143.07,-119.68 1167.07,-120.8\"/>\n<polygon fill=\"red\" stroke=\"red\" stroke-width=\"2\" points=\"1166.96,-124.3 1177.13,-121.36 1167.34,-117.31 1166.96,-124.3\"/>\n</g>\n<!-- s1&#45;&gt;s1&#45;a0 -->\n<g id=\"edge21\" class=\"edge\">\n<title>s1&#45;&gt;s1&#45;a0</title>\n<path fill=\"none\" stroke=\"green\" stroke-width=\"6\" d=\"M1081.77,-133.19C1111.02,-133.49 1143.24,-132.93 1167.17,-131.56\"/>\n<polygon fill=\"green\" stroke=\"green\" stroke-width=\"6\" points=\"1167.58,-136.8 1177.21,-130.9 1166.89,-126.32 1167.58,-136.8\"/>\n</g>\n<!-- s1&#45;a1 -->\n<g id=\"node7\" class=\"node\">\n<title>s1&#45;a1</title>\n<ellipse fill=\"lightpink\" stroke=\"lightpink\" cx=\"1204.39\" cy=\"-199\" rx=\"27.65\" ry=\"27.65\"/>\n<text text-anchor=\"middle\" x=\"1204.39\" y=\"-194\" font-family=\"Arial\" font-size=\"20.00\">a1</text>\n</g>\n<!-- s1&#45;&gt;s1&#45;a1 -->\n<g id=\"edge10\" class=\"edge\">\n<title>s1&#45;&gt;s1&#45;a1</title>\n<path fill=\"none\" stroke=\"red\" stroke-width=\"2\" d=\"M1078.88,-149.2C1104.35,-157.6 1133.08,-167.64 1158.82,-178 1162.46,-179.47 1166.23,-181.08 1169.97,-182.75\"/>\n<polygon fill=\"red\" stroke=\"red\" stroke-width=\"2\" points=\"1168.54,-185.95 1179.09,-186.93 1171.46,-179.58 1168.54,-185.95\"/>\n</g>\n<!-- s1&#45;a0&#45;&gt;s0 -->\n<g id=\"edge7\" class=\"edge\">\n<title>s1&#45;a0&#45;&gt;s0</title>\n<path fill=\"none\" stroke=\"blue\" stroke-dasharray=\"5,2\" d=\"M1186.11,-104.91C1154.62,-69.04 1084.05,0 1007.4,0 263.41,0 263.41,0 263.41,0 213,0 166.3,-32.17 132.19,-64.37\"/>\n<polygon fill=\"blue\" stroke=\"blue\" points=\"129.41,-62.19 124.67,-71.67 134.28,-67.22 129.41,-62.19\"/>\n<text text-anchor=\"middle\" x=\"697.83\" y=\"-5.2\" font-family=\"Arial\" font-size=\"16.00\">p = 0.7 &#160;reward =5</text>\n</g>\n<!-- s1&#45;a0&#45;&gt;s2 -->\n<g id=\"edge9\" class=\"edge\">\n<title>s1&#45;a0&#45;&gt;s2</title>\n<path fill=\"none\" stroke=\"blue\" stroke-dasharray=\"5,2\" d=\"M1186.25,-147C1182.84,-151.76 1179.49,-156.91 1176.82,-162 1165.42,-183.64 1178.65,-199.69 1158.82,-214 1075.72,-273.95 772.78,-240.62 624,-219.77\"/>\n<polygon fill=\"blue\" stroke=\"blue\" points=\"624.38,-216.29 613.99,-218.36 623.4,-223.22 624.38,-216.29\"/>\n<text text-anchor=\"middle\" x=\"883.48\" y=\"-252.2\" font-family=\"Arial\" font-size=\"16.00\">p = 0.2</text>\n</g>\n<!-- s1&#45;a0&#45;&gt;s1 -->\n<g id=\"edge8\" class=\"edge\">\n<title>s1&#45;a0&#45;&gt;s1</title>\n<path fill=\"none\" stroke=\"blue\" stroke-dasharray=\"5,2\" d=\"M1180.03,-112.64C1173.38,-109.5 1166,-106.61 1158.82,-105 1136.35,-99.97 1111.74,-100.87 1089.01,-104.26\"/>\n<polygon fill=\"blue\" stroke=\"blue\" points=\"1088.35,-100.82 1079.06,-105.92 1089.49,-107.73 1088.35,-100.82\"/>\n<text text-anchor=\"middle\" x=\"1129.32\" y=\"-110.2\" font-family=\"Arial\" font-size=\"16.00\">p = 0.1</text>\n</g>\n<!-- s1&#45;a1&#45;&gt;s2 -->\n<g id=\"edge12\" class=\"edge\">\n<title>s1&#45;a1&#45;&gt;s2</title>\n<path fill=\"none\" stroke=\"blue\" stroke-dasharray=\"5,2\" d=\"M1190.04,-222.71C1182.44,-233.74 1171.83,-245.78 1158.82,-252 947.9,-352.82 860.02,-307.08 632.83,-252 627.05,-250.6 621.21,-248.8 615.42,-246.73\"/>\n<polygon fill=\"blue\" stroke=\"blue\" points=\"616.34,-243.34 605.75,-243.02 613.83,-249.87 616.34,-243.34\"/>\n<text text-anchor=\"middle\" x=\"883.48\" y=\"-316.2\" font-family=\"Arial\" font-size=\"16.00\">p = 0.05</text>\n</g>\n<!-- s1&#45;a1&#45;&gt;s1 -->\n<g id=\"edge11\" class=\"edge\">\n<title>s1&#45;a1&#45;&gt;s1</title>\n<path fill=\"none\" stroke=\"blue\" stroke-dasharray=\"5,2\" d=\"M1176.87,-195.13C1155.6,-191.56 1125.22,-185.36 1099.82,-176 1093.83,-173.8 1087.75,-171.27 1081.71,-168.56\"/>\n<polygon fill=\"blue\" stroke=\"blue\" points=\"1082.82,-165.22 1072.28,-164.17 1079.87,-171.56 1082.82,-165.22\"/>\n<text text-anchor=\"middle\" x=\"1129.32\" y=\"-197.2\" font-family=\"Arial\" font-size=\"16.00\">p = 0.95</text>\n</g>\n<!-- s2&#45;a0&#45;&gt;s0 -->\n<g id=\"edge14\" class=\"edge\">\n<title>s2&#45;a0&#45;&gt;s0</title>\n<path fill=\"none\" stroke=\"blue\" stroke-dasharray=\"5,2\" d=\"M782.4,-170.89C746.17,-156.84 676.66,-132.11 614.83,-123 455.58,-99.54 266.96,-110.35 160.54,-119.95\"/>\n<polygon fill=\"blue\" stroke=\"blue\" points=\"160.14,-116.47 150.5,-120.87 160.78,-123.44 160.14,-116.47\"/>\n<text text-anchor=\"middle\" x=\"377.99\" y=\"-116.2\" font-family=\"Arial\" font-size=\"16.00\">p = 0.4</text>\n</g>\n<!-- s2&#45;a0&#45;&gt;s2 -->\n<g id=\"edge15\" class=\"edge\">\n<title>s2&#45;a0&#45;&gt;s2</title>\n<path fill=\"none\" stroke=\"blue\" stroke-dasharray=\"5,2\" d=\"M780.88,-177.46C746.5,-173.54 684.78,-168.78 632.83,-177 628.7,-177.65 624.51,-178.46 620.31,-179.38\"/>\n<polygon fill=\"blue\" stroke=\"blue\" points=\"619.4,-176 610.49,-181.74 621.03,-182.81 619.4,-176\"/>\n<text text-anchor=\"middle\" x=\"697.83\" y=\"-182.2\" font-family=\"Arial\" font-size=\"16.00\">p = 0.6</text>\n</g>\n<!-- s2&#45;a1&#45;&gt;s0 -->\n<g id=\"edge17\" class=\"edge\">\n<title>s2&#45;a1&#45;&gt;s0</title>\n<path fill=\"none\" stroke=\"blue\" stroke-dasharray=\"5,2\" d=\"M784.02,-94.34C777.37,-91.05 769.99,-87.94 762.83,-86 568.3,-33.44 510.65,-45.67 309.99,-64 246.46,-69.8 229.95,-71.71 168.84,-90 163.96,-91.46 158.98,-93.1 154.01,-94.85\"/>\n<polygon fill=\"blue\" stroke=\"blue\" points=\"152.64,-91.62 144.45,-98.34 155.04,-98.2 152.64,-91.62\"/>\n<text text-anchor=\"middle\" x=\"377.99\" y=\"-69.2\" font-family=\"Arial\" font-size=\"16.00\">p = 0.3 &#160;reward =&#45;1</text>\n</g>\n<!-- s2&#45;a1&#45;&gt;s2 -->\n<g id=\"edge19\" class=\"edge\">\n<title>s2&#45;a1&#45;&gt;s2</title>\n<path fill=\"none\" stroke=\"blue\" stroke-dasharray=\"5,2\" d=\"M781.76,-100.32C746.47,-91.22 681.74,-79.89 632.83,-102 615.83,-109.68 600.72,-122.2 587.89,-135.96\"/>\n<polygon fill=\"blue\" stroke=\"blue\" points=\"585.03,-133.92 581,-143.71 590.26,-138.57 585.03,-133.92\"/>\n<text text-anchor=\"middle\" x=\"697.83\" y=\"-107.2\" font-family=\"Arial\" font-size=\"16.00\">p = 0.4</text>\n</g>\n<!-- s2&#45;a1&#45;&gt;s1 -->\n<g id=\"edge18\" class=\"edge\">\n<title>s2&#45;a1&#45;&gt;s1</title>\n<path fill=\"none\" stroke=\"blue\" stroke-dasharray=\"5,2\" d=\"M836.24,-110.6C858.19,-112.73 890.47,-115.86 920.96,-118.81\"/>\n<polygon fill=\"blue\" stroke=\"blue\" points=\"920.92,-122.33 931.21,-119.81 921.6,-115.36 920.92,-122.33\"/>\n<text text-anchor=\"middle\" x=\"883.48\" y=\"-123.2\" font-family=\"Arial\" font-size=\"16.00\">p = 0.3</text>\n</g>\n</g>\n</svg>\n",
            "text/plain": [
              "<graphviz.graphs.Digraph at 0x7ca1d53daa70>"
            ]
          },
          "metadata": {}
        }
      ],
      "source": [
        "if has_graphviz:\n",
        "    display(plot_graph_optimal_strategy_and_state_values(mdp, state_values, get_action_value))"
      ]
    },
    {
      "cell_type": "code",
      "execution_count": 17,
      "metadata": {
        "colab": {
          "base_uri": "https://localhost:8080/"
        },
        "id": "Ej_BwiLkI_WQ",
        "outputId": "fe7c034e-7771-443c-de50-55b5981f36d5"
      },
      "outputs": [
        {
          "output_type": "stream",
          "name": "stdout",
          "text": [
            "average reward:  0.4544\n"
          ]
        }
      ],
      "source": [
        "# Measure agent's average reward\n",
        "\n",
        "s = mdp.reset()\n",
        "rewards = []\n",
        "for _ in range(10000):\n",
        "    s, r, done, _ = mdp.step(get_optimal_action(mdp, state_values, s, gamma))\n",
        "    rewards.append(r)\n",
        "\n",
        "print(\"average reward: \", np.mean(rewards))\n",
        "\n",
        "assert(0.40 < np.mean(rewards) < 0.55)"
      ]
    },
    {
      "cell_type": "markdown",
      "metadata": {
        "id": "lkLKmLPHI_WR"
      },
      "source": [
        "### Frozen lake"
      ]
    },
    {
      "cell_type": "code",
      "execution_count": 18,
      "metadata": {
        "colab": {
          "base_uri": "https://localhost:8080/"
        },
        "id": "JNY6A_JII_WR",
        "outputId": "683b6841-ac64-48af-f08a-c2f558da9daf"
      },
      "outputs": [
        {
          "output_type": "stream",
          "name": "stdout",
          "text": [
            "*FFF\n",
            "FHFH\n",
            "FFFH\n",
            "HFFG\n",
            "\n"
          ]
        }
      ],
      "source": [
        "from mdp import FrozenLakeEnv\n",
        "mdp = FrozenLakeEnv(slip_chance=0)\n",
        "\n",
        "mdp.render()"
      ]
    },
    {
      "cell_type": "code",
      "execution_count": 25,
      "metadata": {
        "id": "EdnbEeKFI_WR"
      },
      "outputs": [],
      "source": [
        "def value_iteration(mdp, state_values=None, gamma=0.9, num_iter=1000, min_difference=1e-5):\n",
        "    \"\"\" performs num_iter value iteration steps starting from state_values. Same as before but in a function \"\"\"\n",
        "    state_values = state_values or {s: 0 for s in mdp.get_all_states()}\n",
        "    for i in range(num_iter):\n",
        "\n",
        "        # Compute new state values using the functions you defined above. It must be a dict {state : new_V(state)}\n",
        "        new_state_values = {s: get_new_state_value(mdp, state_values, s, gamma) for s in mdp.get_all_states()}\n",
        "        assert isinstance(new_state_values, dict)\n",
        "\n",
        "        # Compute difference\n",
        "        diff = max(abs(new_state_values[s] - state_values[s])\n",
        "                   for s in mdp.get_all_states())\n",
        "\n",
        "        print(\"iter %4i   |   diff: %6.5f   |   V(start): %.3f \" %\n",
        "              (i, diff, new_state_values[mdp._initial_state]))\n",
        "\n",
        "        state_values = new_state_values\n",
        "        if diff < min_difference:\n",
        "            break\n",
        "\n",
        "    return state_values"
      ]
    },
    {
      "cell_type": "code",
      "execution_count": 26,
      "metadata": {
        "colab": {
          "base_uri": "https://localhost:8080/"
        },
        "id": "Qo9IXukRI_WS",
        "outputId": "3d58de7c-3c99-4559-99a7-c8f4b1ff7d8e"
      },
      "outputs": [
        {
          "output_type": "stream",
          "name": "stdout",
          "text": [
            "*FFF\n",
            "FHFH\n",
            "FFFH\n",
            "HFFG\n",
            "\n",
            "down\n",
            "\n",
            "SFFF\n",
            "*HFH\n",
            "FFFH\n",
            "HFFG\n",
            "\n",
            "down\n",
            "\n",
            "SFFF\n",
            "FHFH\n",
            "*FFH\n",
            "HFFG\n",
            "\n",
            "right\n",
            "\n",
            "SFFF\n",
            "FHFH\n",
            "F*FH\n",
            "HFFG\n",
            "\n",
            "down\n",
            "\n",
            "SFFF\n",
            "FHFH\n",
            "FFFH\n",
            "H*FG\n",
            "\n",
            "right\n",
            "\n",
            "SFFF\n",
            "FHFH\n",
            "FFFH\n",
            "HF*G\n",
            "\n",
            "right\n",
            "\n",
            "SFFF\n",
            "FHFH\n",
            "FFFH\n",
            "HFF*\n",
            "\n"
          ]
        }
      ],
      "source": [
        "s = mdp.reset()\n",
        "mdp.render()\n",
        "for t in range(100):\n",
        "    a = get_optimal_action(mdp, state_values, s, gamma)\n",
        "    print(a, end='\\n\\n')\n",
        "    s, r, done, _ = mdp.step(a)\n",
        "    mdp.render()\n",
        "    if done:\n",
        "        break"
      ]
    },
    {
      "cell_type": "markdown",
      "metadata": {
        "id": "hhKtno5vI_WS"
      },
      "source": [
        "### Let's visualize!\n",
        "\n",
        "It's usually interesting to see what your algorithm actually learned under the hood. To do so, we'll plot state value functions and optimal actions at each VI step."
      ]
    },
    {
      "cell_type": "code",
      "execution_count": 27,
      "metadata": {
        "id": "UIbKSFzNI_WS"
      },
      "outputs": [],
      "source": [
        "import matplotlib.pyplot as plt\n",
        "%matplotlib inline\n",
        "\n",
        "\n",
        "def draw_policy(mdp, state_values):\n",
        "    plt.figure(figsize=(3, 3))\n",
        "    h, w = mdp.desc.shape\n",
        "    states = sorted(mdp.get_all_states())\n",
        "    V = np.array([state_values[s] for s in states])\n",
        "    Pi = {s: get_optimal_action(mdp, state_values, s, gamma) for s in states}\n",
        "    plt.imshow(V.reshape(w, h), cmap='gray', interpolation='none', clim=(0, 1))\n",
        "    ax = plt.gca()\n",
        "    ax.set_xticks(np.arange(h)-.5)\n",
        "    ax.set_yticks(np.arange(w)-.5)\n",
        "    ax.set_xticklabels([])\n",
        "    ax.set_yticklabels([])\n",
        "    Y, X = np.mgrid[0:4, 0:4]\n",
        "    a2uv = {'left': (-1, 0), 'down': (0, -1), 'right': (1, 0), 'up': (0, 1)}\n",
        "    for y in range(h):\n",
        "        for x in range(w):\n",
        "            plt.text(x, y, str(mdp.desc[y, x].item()),\n",
        "                     color='g', size=12,  verticalalignment='center',\n",
        "                     horizontalalignment='center', fontweight='bold')\n",
        "            a = Pi[y, x]\n",
        "            if a is None:\n",
        "                continue\n",
        "            u, v = a2uv[a]\n",
        "            plt.arrow(x, y, u*.3, -v*.3, color='m',\n",
        "                      head_width=0.1, head_length=0.1)\n",
        "    plt.grid(color='b', lw=2, ls='-')\n",
        "    plt.show()"
      ]
    },
    {
      "cell_type": "code",
      "execution_count": 29,
      "metadata": {
        "colab": {
          "base_uri": "https://localhost:8080/",
          "height": 1000
        },
        "id": "g1hJRc-vI_WT",
        "outputId": "c3ab72b1-7283-408c-af75-2d6a40137cdf"
      },
      "outputs": [
        {
          "output_type": "stream",
          "name": "stdout",
          "text": [
            "after iteration 0\n",
            "iter    0   |   diff: 0.90000   |   V(start): 0.000 \n"
          ]
        },
        {
          "output_type": "display_data",
          "data": {
            "text/plain": [
              "<Figure size 300x300 with 1 Axes>"
            ],
            "image/png": "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\n"
          },
          "metadata": {}
        },
        {
          "output_type": "stream",
          "name": "stdout",
          "text": [
            "after iteration 1\n",
            "iter    0   |   diff: 0.72900   |   V(start): 0.000 \n"
          ]
        },
        {
          "output_type": "display_data",
          "data": {
            "text/plain": [
              "<Figure size 300x300 with 1 Axes>"
            ],
            "image/png": "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\n"
          },
          "metadata": {}
        },
        {
          "output_type": "stream",
          "name": "stdout",
          "text": [
            "after iteration 2\n",
            "iter    0   |   diff: 0.59049   |   V(start): 0.000 \n"
          ]
        },
        {
          "output_type": "display_data",
          "data": {
            "text/plain": [
              "<Figure size 300x300 with 1 Axes>"
            ],
            "image/png": "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\n"
          },
          "metadata": {}
        },
        {
          "output_type": "stream",
          "name": "stdout",
          "text": [
            "after iteration 3\n",
            "iter    0   |   diff: 0.47830   |   V(start): 0.000 \n"
          ]
        },
        {
          "output_type": "display_data",
          "data": {
            "text/plain": [
              "<Figure size 300x300 with 1 Axes>"
            ],
            "image/png": "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\n"
          },
          "metadata": {}
        },
        {
          "output_type": "stream",
          "name": "stdout",
          "text": [
            "after iteration 4\n",
            "iter    0   |   diff: 0.40894   |   V(start): 0.000 \n"
          ]
        },
        {
          "output_type": "display_data",
          "data": {
            "text/plain": [
              "<Figure size 300x300 with 1 Axes>"
            ],
            "image/png": "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\n"
          },
          "metadata": {}
        },
        {
          "output_type": "stream",
          "name": "stdout",
          "text": [
            "after iteration 5\n",
            "iter    0   |   diff: 0.34868   |   V(start): 0.000 \n"
          ]
        },
        {
          "output_type": "display_data",
          "data": {
            "text/plain": [
              "<Figure size 300x300 with 1 Axes>"
            ],
            "image/png": "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\n"
          },
          "metadata": {}
        },
        {
          "output_type": "stream",
          "name": "stdout",
          "text": [
            "after iteration 6\n",
            "iter    0   |   diff: 0.29655   |   V(start): 0.000 \n"
          ]
        },
        {
          "output_type": "display_data",
          "data": {
            "text/plain": [
              "<Figure size 300x300 with 1 Axes>"
            ],
            "image/png": "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\n"
          },
          "metadata": {}
        },
        {
          "output_type": "stream",
          "name": "stdout",
          "text": [
            "after iteration 7\n",
            "iter    0   |   diff: 0.25292   |   V(start): 0.000 \n"
          ]
        },
        {
          "output_type": "display_data",
          "data": {
            "text/plain": [
              "<Figure size 300x300 with 1 Axes>"
            ],
            "image/png": "iVBORw0KGgoAAAANSUhEUgAAAP8AAAD/CAYAAAA+CADKAAAAOXRFWHRTb2Z0d2FyZQBNYXRwbG90bGliIHZlcnNpb24zLjguMCwgaHR0cHM6Ly9tYXRwbG90bGliLm9yZy81sbWrAAAACXBIWXMAAA9hAAAPYQGoP6dpAAArrUlEQVR4nO2deXxU5b3/37PPZJmskBASwr5HghECyCKoWChStfVSoLWCa6nXXqW10t/tS722vW1vbW/vUi/q7UWtuNRWXCkuLEZUQEUEQQhbFiAkJGSbLDOZOb8/JkxmIJOEzDlnSOb7nte8XnOe58n5nJOZ73nOebaPQVEUBUEQYg5jtA9AEIToIMEvCDGKBL8gxCgS/IIQo0jwC0KMIsEvCDGKBL8gxCjmnhZsbW2ltbU1sO3z+aipqSEtLQ2DwaDJwQmCcPEoikJDQwNZWVkYjV3U70oPeeihhxRA3vKWdx95l5WVdRnThp6O8Du/5q+rq2PIkCHAMaC5J7tQgQz8NyttwOl+qhkL5xhtTS8Wy1ldFD2eFMAEeLHb63TRVJQGWlsvo7a2lqSkpLDlenzbb7PZsNlsneQ0A+N7cYi9oQzIBsr7sWYsnGN0Na3WKmbMuE0XxQ8/fAm3OwWHo5pFix7QRdPj8bBhA90+jkuDnyDEKBL8ghCjSPALQowiwS8IMUqPG/wixgnMAUYAiYAHaAKqgJPANpX1rmp/h6MF+JVo9glNvfWAY0OPUTK0JGy+qc3ErA9mqar55YAv2T9wf9h8i9fCDV/doJqePsGfANyBP+jPYQLsQCowCvWDXxCELtEn+KfSEfhHgZ2AG0gGBgNjNdYvBorOS/OJZp/UjMI5planMqR0SEiaQdF2VGtmQybjzozTVFOf4B8U9PnvQGXQ9mftaVriAko11hDN/qkHWDwWkuuSddW0tdlIb0rXVEOfBj930Od5wBD8t/3n8OhyFIIgBKFqzZ9OOuMZTxFFKASNGj4KTGj/PLb93Ya/oe8A8Am9vgDkkEMmmexiV/hC+e3vYD4HNvROcwxjsGBhH/t007ycy6mhhuMc10XTgIEZzOAwhznd1fBbFTV7hN56wOnM05zODP0fZFRkMO6rcWH+InJKUkooSQltcMw9m8vUk1NV01Al+NNJZxnLuJ7rMWPmGZ7hEz4J5CufKZTnllN7WW2o8pD29xTgCfyttj0khxxu4RbmMQ8jRn7H70IC4zSnqQx5voic0YxmBSuYxjQAfspPaaRRU83LuZyVrGRC+9XzXu4NyddCczazWclKcsnFhYs1rNFcU9AfVYJ/KUu5kRsD27e0vwIowN9g/479bJuwjQ+HfUh5RnnHQ0cqcCXwXs81V7EqEIQA93N/SP461vE0TwNQWFzIyKKRPMdzHQUauWjWsIahDA1s/5JfdqmZUpTC34MbNHqh+SiPEkdcYPs/+I8uNZUihZ3s7LVmPPE8wiOBO7d44rvVrC6q5jCHe615URTDL4t+yYu8yB72aK8HZFRmsHrjat4Z8Q5V8VUAWN1WTTVzq3O558172Dx1My02f61oa+tsbk3vUSX4N7KRoQzlci4HYD/7+YIvLix4AlJOpGDGDPHA1+mY0zHowuJd8RIvkUYaoxgFwHa2U0ZZID/4lvys6yybSjddnEAn/B//x13cRRZZALzBGyE1f7BmjauGfaVdPBb0kLWs5Xt8j1RSAXiBF0LygzWrXFWUlkbWGtZMM0/xFEtZSjzx3WpWuCooKQ3fH642RpeR6aXTsWFjNat10XQ2OZlybAqNSiPvD31fF82BdQO54ugVlA0p49SAU5poqBL8hznMalYzkYlMYhJ/5a+0BN/D5wKnCG34cwF76Aj+i+zF2M1u7uROCikkm2w2sAEv3k7LHuLQxe08DO/zPh/wAXOZixkzmwh/QSmmWBXN13iNjWxkIQuppJKP+Chs2aMcjVjPh4/neI5XeIXFLGZf+yscJegX+IK6qNrgF/aHUoB/IM9+4DjQgH/gT/AAqZO909zR/tILHz7eu5jnExXw4OFVXtVVs4mmC2p8oX+h3/BeB/6LQEEneQ2gY/wKgoBewb8VqACG42/cS8Df2FcPHAHeR/NGG0EQQtEn+GuAD9vferG1/a0noqm5nhVtW9nPMez4MIYdHwbAqOpRumhOqJrAhCp/l+70PdM115MpvYIQo0jwC32K67ke8A9+yiBDcz2Tz8SkikkATKicgM2jbl97Z9habYwoHwHA2ONjMfq0CVMJfqHPMIlJrGJVYPs7fEdzzYmnJwZuxQc2DWTKySmaa152+DKcTU4Axh0fx/Dy4ZroSPALfYb97KeGmsDowy1s0VyzOK2YNkMbAAoKBwYc0FzzSPaRwGePyUNZZlkXpXuPBL/QZ/Dg4VmexYCBfezjMz7TXLPJ2sTObP9w6b0D91IdV625Zk1SDUcG+y8Ae0bvodXa2s1f9A79+vkFQQXe5E3MmHUJ/HNsz9lOvbWer9K/0k3zo8s+4lT6KQ4OPaiZhgS/0Kfw4OFlXtZVs8naxI4cfUeh1SfU88XoTubHqEiv7brq6+vJyckBqvGvxKkHmXRYPFX0U81YOMdoa3qxWmt0UXS7Uzln1+Vw1OqiqSgNtLQMo66uDqfTGbZcj4P/4Ycf5pFHHukkpw7/0ryCIFwa1ANJ6gW/1PxS82uj2b9r4ebmZMCEweAjPr5BF01FqcflGtJt8Ktg1Hka/c0dK4CcfqoZC+fYoWm11jBjxj/ooug3zRyAw1HLDTf8oy6aGzb8J83NacTHN7Bq1S+7/wMVaG1t5Q9/6L6cdPUJQowiwS8IMYoEvyDEKBL8ghCj6DPI5yr6v5mkaGqmGQ3TzL1pe9mXHn7tQovXwrcOf0tVzQ8sH/ChJfyiFzbFxg+bf6iantT8ghCj6D+8NxbMJEVTM6JhmjmocRATaiaEpGmtOdw7nGmeaSFpRpXrav2DPxbMJEVTM6Jhmmn32hnQPEBXzTgljmxftqYactsvCDGKqjX/GMZwGZfxKq/iDnHoCCIf1Q0ss8nmDd7AF+5+U0VNAwZmMQsLlq7X71dR04SJ67iOKqp0NSTtEd1omjBxPddzjGMd9loR0BPTTLPXzNQTUzmacpSKxMiHKx9LOsaxpGMhacPqhjGtYlqYv4icfeZ97DOHNjhObJvIQvdC1TRUCf5hDONO7gx4501jGp/zeSB/D3s6t++KgDzyuIu7AgaWeeRRGnT/qYXmDGZwJ3eSSy7gN+4MtuvSQnMBC7iVWxnIQAD+xJ9C8rXQjJThDOdKrgx8vqq9a+ALvmAta9nPflX1MhszmX18dof+2eHk1vm/o4NpB3l3+LuciT+jqmZ/QJXgX8SiENPMy9tf51jHusAPtLC4kOlF0/l3/r1jB71Ys38ZywKBD3AN14Tkn685qmgUf+bPEWnewR2BwAf4B0LHpJ+vmVqUykY2RqR5D/eEGHWuZGWXmhQR6mCksR/CyOKR3FsU6hyc0phCNhc+r17GZSxhCQ/xUK/1UqtTuefte0hvTg/Vq+n8+XhM9RiqHdW8M/KdXmsOqR3Cj/72Iz6a/BFVaX6jTnubvdf76wlj68ey6uVV7L5+N62J/gl1cUpcN391cagS/C/xElasLGABJkz8lb+GWHQHG2gecR3hUGnk3nlrWUsrrcxhTmA72KL7fM29pXsj1vwtv2UlKwMXtl/wi5Ca/3zNT0s/jVjzUR5lJSsDhqTn22UHax52Haa6VPtlpoI57jrO+tL1YfNHMpLbuA0FhS1sCbj79haLx8JnqZ8xqDHI2TUJGNyxOap6FFNOTsFr8LI7czc7siNbiMPZ7CSvNI+WpBZ2x+2OaF89JbUulbzSPFw1Ls7Gn9VEQ5XgP81pHuMx/syfmchEtrAl7PP3GdS5/TrOcR7mYYYxjCyy2M72sGXV0vySLwOGpGbMIY82Wml+3P4qpJBqzrPCPo9q9A18gDba+JiPw+Z/zMeUUEIppaqZejbaGim2hTdCPZx6mDJnGSXJJdTb61XR7I+o2uB3uv2lJ8faX3rSlWutVuhpRqo2RRcMBNAWxaCwNzPyO73+jnT1CUKMIsEvCDGKfi69W3VREs1+qBlsmqkXedV55FXnAZBzQp/VjWZ6ZjLTMxOAMV+M0VxPan5BiFEk+AWhCyweC5P3TwYg72AecU3q9rV3hr3eTu5u/3iSkR+OxOQ2aaIjwS8IXTCsbBiZZzIBsLvtjD42WnPN7C+yMbX5Az69JJ2BhwdqoiPBLwhdcCznGG6zf56Kz+Dj0LDIB6h1x4mJJ1AMCgoKbrubypGVmuhI8AtCF3gsHvaM909I2j9yP01x2ntUNCc3U55XjgEDR6YdwWv1aqIjXn2C0A37Ru+jJqmGigF6GZrAoVmHqBxRyZmh2k1IkuAXhG7wWDyUZKszNLmnuOPdVI7S5nb/HGLXdclpxsI5BmuKXZfa9NSuS4w6BaHfIUadfVQz2rWwPjMD3e40olkLJyToUws3NiaiKEYMBh9Op0sXTUWpp74+W4w6+55mNE0zq5k69Zu6KO7c+Vfc7oE4HLUsWvR9XTTfeONxmpvTSEho4Ac/UNvMoHP++78fpKEhCafTxT//81pdNFtaWvjZz7ovJ119ghCjSPALQowiwS8IMYoEvyDEKGLU2Vc1g7U+58K1+W8FhrZ/3tBeRiVKhpdQNrwsbL7JY2L6tumq6X054Ev2Dwy/3LfFa+GGr25QTQ+gyFzEdnP4dSFtio37Wu9TVfNt99u84wm/yrAdO4/GP6qantT8ghCjiFFnf9KMAilnUsg+FrpmvpYmlpkNmYw7My4kTQ/TzOltoXcyaptmns9Y01jmWeZpqilGnf1JMwpY3BaS6pJ007O12UhvSu++oIrEEUeOoteYCz/xhniGmbRdukxu+wUhRlGt5j9nYJlPPutYRz1hzBLyUd3AMocc1rGOVlo7L6iiph07i1mMFSvrWa+LOWi3dKalE5VZlVRmhc4+G3hyIKP3+1e8sXqtzC2ZS2V8JXsG7sFniOzZpySlhJKU0Bl2uWdzmXpyamDb0eJgyv4plGWUcSzrGET4VLDPtI99pvNMM70TWeRZFNmOu+DTtk/5tC3U8anAXMC3bd9WTUOV4J/EJO7jvoCP3Xzmc5CDgfxNbOJt3lZDKsBsZvMDfhAwsJzNbCqCxsJroXk913M7t+Nsn8g0gxk006ypZl9k5NmR3Lr3VgDSm9NJcvsfC+aWzuWt4W/xVdpXqurlnM5h8bbFge2M6gwsXgsTj0yk2lnNtoJtVKTrNxe/r6BK8M9mdoiBZTzxIUadwS6yahl1LmBBIPABstpf4TRHFI1gPUGecr3QvImbAoEPMI7QhqfzNZ1FTt4hqOtGK9PMzhoXFwCDOimrMuOOj+P7m0PH5qc0ppBdd6FxZkprCvmn8yMK/syGTFZtXEVyY3KoXhijzrT6NIadGBZR8I9uGs09L9xD8cxianL904/jie/1/npCXkMed/zlDo5++yjuVP8yYgmGBFU1VAn+/+V/qaGGpSwlnnge4iF2sjOQ78ET+LzLtYtdpV14zPeQX/NrlrCEm7gJK1a+z/dDjDq10FzDGpaznAUsAODbfDvEqPN8TV+pTs37nTUuhnkCUptqazWvDH4lbP6gxkHcsfcOPEYPH2V9xPbB4fvOe4Ktzca+cfsw+cKvaDv05FDm75hPq6WVz8Z+xt6RkVl3OVv9Rp32MjtHhxyNaF89JaUxhbzSPCwNFhoHaFNrqBL8TTTxHM/xCq8wjGF8yZdhy4Z9Rr5IaqllLWt5kRdJJ71LA0u1NCuoCBiSWrF2acaplmZfwGPyhM0rTSrl8UmPU2uvpcmiztRvxajQZmwLm394yGEa4xo5k3yGNnP4crGOql19TTR1GfhaUNv+0hO9zUj7OicTT+quKc/43SNdfYIQo0jwC0KMIkadfVWzO6112knnHs0l92hu9wVVYkLVBCZUTdBND2BW2yxmtc0CIP2EPiMK51vnM986H4DsrzrvvVATqfkFIUaR4BeELrC6rIx/279G5aiiUcTV6GDUWWEnc5vfHzD35VxMLjHqFATdST+ajqPeEdjOOJShuWbK3pTAZ0eVA2exNkvjS/ALQhdUjKugNb4VBQWv2Uv5pHLNNaumV+Ez+fxGnUluavNqNdGR4BeELvCZfRyZcQQDBo5PPY7HEX5Ak1q0JbRRObMSAwZOzj+JYuqRtcZFI159gtAN5fnl1GbX0pSilzkNnLz2JNWTq2nJbNFMQ4JfELpBMSk0ZOjj8HMOn81H8+Dm7gtGgNh1XXKaYtelFWLXFYoYdQpCv0OMOvuoZnRrYbu9VhfNlpbkdk39v0s9a+H6+vhAzZ+crO1t/DkUpZ7a2iwx6ux7mh2mmVdccaMOevDJJ6/gdg/Ebq9lwYI7dNHcuPFJWlrSiMZ3qadp5s9/fhd1dYkkJzfzu9/9RRfN5uZmVq3qvpx09QlCjCLBLwgxigS/IMQoEvyCEKOIUWcf1ywdUUr5iPDjzU0eE4VbClXVPJBxgK8yw6/Aa/FaWLRPpTXtryIqhqR6m2YCbKjdwKt1r4bNdxgc/HHIH1XTk5pfEGIUMersR5rJVcm6mmYCZNRnMLpydEiaUelfdYoeppnnk2fPY1FS6N2TyaDuvH4x6uxHmha3BWetvqMtbW020l36GmfqjR6mmefjNDkZbR/dfcEI6F+XaEEQeoxqNf85A8sCCniMx6iksvOC+ahmYJlIIjdzM7nk8m/8W4h7jlaaPaYHmqtYRSKJPMuznCTyte2rBldRNbgqJG3AiQGM+nIUAGafmRsO30CTpYmiwUU0WCOf3FKaWkppaugtzpCaIRSUFUS87wvIJyqGpD0xzXSccJDzeg7VBdVUX17tH7kcAdtd29nuCnU3ujL+Sm5Pvz2yHQehSvDPZCY/5sckkogBAy/yIl68gfyneZpneVYNqQCLWczd3I0dOwYMzGa25pqRMp/5PMADgW1T+y9kPvN5gzf4Pb9XXXNy1WR+8uFPgI7nVAWFwopCtmRvYWvOVtU1Y4H0T9IpeLXjAneubcV5xEnWO1kc/c5RXEP0mT/QW1QJ/olMxIkTHz4M7X7IpqBLX3DjSGFxIXlFeTzFUx076IUV2RVcgQMHCh3zkrrSzCzK5FWCulG0Ms1sJ7U4lYeLHg5JS2lMCTnGcxgxciVXRhz8w8qHcd/b912geX7jlAEDZsXM2LNjIw7+wuJC5u+Zz9b8jv3YPfaI9hmWKBmSjjWO5bYXb8PW0DG3JaUxpdPGVMWgYDtrw15hjyj4JzdOZsVLKziz4gyeTP/qQU6Tuu05qgT/EzzBYQ6zghVkkMFqVrOHPZ2W3eHawY7SHRFrPsqjfJ2v812+SwIJ3MZtlNN5f/cO1w7dG99qXDXcW3pvl2Ve5mUSSOBlXuYlXopYs9HQyAvZL4TNd3gc/PjTH+Mz+Ng2eBs7BkX+PSS7krlq31XsG7Wv+8KREiVD0nhjPNwKrUFiFe2vc6TvTGfoX4bSNLiJE187Qf3o+og0k5uTySvN45T7FK12bU5SleD34eNd3mUzm0knPfzzvop48LCBDbzJmzhxUo0+01/V5BZuwYyZeiL7ofSUZkszvy34LW3GNtwmty6ascKZqWeoH1mPO8UN2vauqoaqXX0+fLoEfjAePH0y8MFvbKq7pkpOucKFuFP71gVVuvoEIUaR4BeEGEWMOvu45pAjQxhyZIiumuNOj2Pc6XEA3LvhXnxajlveSlQMSYNNM/XihuQbuCH5BgBSPk7purAKSM0vCDGKBL/QK4w+I998/5v+zxiZdHhSlI+o/2A7ZCPp70kAZPw+A1O1GHUKlxBxrXEMqukYXZNTpdcinP0fW3HHYCJjixFriVUTHQl+oVc0OhrZP2R/YITlzrE7o3xE/YeGeQ347O1GnYPcNOdrs+S3BL/Qaz4Z8wmKQeFYxjEqU/Qd39GfURwKdQvrMGCg9qZazaJUvPqEXlMfX88TX38Cr9HbfWHhoqhbWEfD1Q34HNr1pEjwCxHhtvStUW19BhP44rRd+knsui45zeido8HgIz5en3kGLpczYGOVmKjxFMt2GhoSAppJSfr8Zuvq4lAUI0ajQkqKdnbbwfh89Zw9mylGnYIQe4hRZx/VlJpfK6TmD0WMOi85zeidY3x8Pbff3tndnfo89dRDNDYmk5jYyOrV/66L5mOP/RP19U6Skpr41a+e00XzwQeXU1ubQEpKC+vWvaeLZlNTE0uWdF9OuvoEIUaR4BeEGEWCXxBiFAl+QYhRxKizr2oGa32ObgaWAB/ZP2KHPfzin1bFyqq6VarpbVG2sLWLSf127KwxrFFND+D1htd50/Vm2HyHwcHvM9Rdan39yfU8f+r5sPnxpnheyA+/QOvFIjW/IMQoYtTZnzSjwFDPUKa0TAlJ09LEchSjmMUs3fQAJlgnsCBhga6aBc4Cbh50c0haZ54PkSBGnf1JMwo4FAeDvYN104snnlxDrm56AInGREZaR+qqmWRJYkLCBE015LZfEGIU1Wr+dNJZxjIKKOBn/IzScNVePqqZZuaQwy3cwlCG8gAPcJazmmuOYQy3cisOHDzAA7gJM6tNRc1u6UxLJw5YD3DAeiAkbZx7HNc1XQeAvdHOtA3TqBtQx6HCQ7iSI/Ov+5zP+Vz5PCQtn3xuNNwY2I47Hcf4F8ZTM7qG8pnluBMjm3n4ccvHfFzxcUjaNPs0bk2+NbDtOOgg85lM6qfVc/bqsxHPyNtcvZnN1ZtD0ualzeO+ofeF+YuLR5XgX8hC7uM+DBgwYeJpng7JX8e6C9Ii5Xt8j1u4BfA/f/2Nv2mu+QAPsIAFKCgYMLCJTZpr9kWG7B/CNzZ8IyTNecZJzlc5HJh+gOKpxarqZXyewewNsy9Id+xwkLUri0PfOETlJHUXG0n6OIkxG8ZckJ72Vhqp76Zy4u4TNI27tA1SVAn+NNIwYw5xyQ1HYXEhOUU5vMzLHYm9mNeRQQZGjD1aNrqwuJC4oji2sCUizUwye1y2sLgQd5Gb3eyOSLNHRMnAEmBC1QTuev2ukLSUxs6XnTYoBhwNjoj0RjGKZe8vI+1wWrd6CgpGrxFrQ2Rr4E2wTOCWt27BUdZx7OE0MYCh1YDRFdkT9RTXFL774ndpWdWCL9f/G08xq7uctyrB/yzPspvdrGAFYxnL/dzPQQ52WlYto87f8Bve531WspIBDOBu7uY0p8NqqtH49iN+xDzmsYIVGDGyghW00PlMLV3NQaNkYAngS/Jx9KajF6R/it/PPr42ntnPz8aV7OLA9ANU5VZFpBdPPMY5Rs7O6XjEO8tZjtJxDM5SJ3nP5FE3pI6SuSU05DREpJloSiTpu0khaS5cIb/xhM8SGPS/g2jMb6T669W4syJ71Ehu9Rt1NtGEL0GbbiLVnvn3sY/VrMaGLcTNVEs+bn9ZsYZ/9laRYENSEyY8eDTX7Ou4kl28ffvbeM1e3Qws64fU89EDH+Gz6te32nh5I4cnHkax9miG/CWB6l19egV+MHoEfjC+9pfQM7wW/df40zPwz9GXAh+kq08QYhYJfkGIUcSos69qdqe1Tjvp6S3Tmd4yXTuB85hrmMtc5uqmB3B94vVcn3i9rprLspaxLGsZANY/aePSE4zU/IIQo0jwC8IlhmmHCesr/po/7sE4jCXahKkEvyBcYhjPhIaloVabPlIJfkG4xPBc68GX7O+q9I714r1Mm65SCX5BuNSwgnupG8Wu4P6OW7PBUeLVJwiXIG0L22hb2KaphtT8ghCjiF3XJafZYZ3lcNTpoAfNzUkBG6uEhMgmwfSUxsbEgKbTGdkc/55SXx+PohiJxu/HaFRIT9dnLojPV8+ZMwPEqFMQYg8x6uyjmlLza4XU/KGIUeclp+nXczjqWLbsAR30YP3639DUlEJCQgP33PNrXTT/679+QkNDEk6ni0ce+ZMumg89tJK6ukSi8ftJT/fw1lt7dVFsbGzkqqu6LycNfoIQo0jwC0KMIsEvCDGKBL8gxCj906gzWO9z9DGxjIYm8KnzU3Y7d4fNt/qs3HLyFnXE2ikyFfGB+YOw+TbFxv3u+1XT29i8kU2tm8Lm27Hzq2QVf0BXEZXvcu3BtTxZ/GTY/ARzAlu/tlUdMaTmF4SYJTaMOmOE7OZs8hvyQ9K0NpQc7h3ODO8M3TTHmcdxrf1a3fSixYwBM1g5amVImskgRp1CGBw+B5nunhuLqEE88eQoevWZQ4IhgeHm4brpRYtUWyr5qfmaaqh+yTTLRMFLGqPXCDqvMG3w6rRgv3BRqBap5wwsJzKR1azmEIc6L5iPfgaW4fS0JhqaQHF8McXxoT54o1yjmHN2DgAWt4WFf1uIx+Lhi4IvKM8tj3iu+F7TXvaaQkeu5XnzWNS2CADHWQeFTxfiSnNxePZhzuaGMVPtIbs8u9hVuyskbYplCsvjl0e037DkE5Xv8o3yN3ij/I2QtEXZi3g4/2HVNFQJ/qUs5U7uxIsXEybWsjYkXwwso8fw4uEs3xAaGAoKc96dQ3lOOduu26a6ZtbeLOZvmB+SZjlhYcr6KZQUlHBwfudWboK+qBL8jTT2yKQT/AaWCUUJvMd7wTvQjmiYWEbJOHPE2RH88JUfhqSFNZQEWu2RuyuNrx3P3X+7u0eaCgoeR2STW8Ybx3P3U3fTOLSRisX+yTmJhsSI9tklUfoupzVPY9nzy7A+YMU82h+mqdZUVTVUCf7XeZ1d7GI5yymggJ/yU45zvNOyuhpYQnRMLKNknGm0Gvli/hdh880eM9e8eQ2ttla+KPiC6oHVEWuaEk2cWn4qJO0Up9jPfgBs9TaueP4KGjIaODLzCK70yGbwJRgSyCvNo8HWQJw5LqJ99YgofZcpnhTySvNw2ByYU7VpR1NtrxVU8BiPqbU7QQPaLG38/Rt/180wE6DV2cr2O7frqin0jP7XQSp0TTSCUAL/kkSCXxBiFAl+QYhR+qdRZ3d66/qJJlBQX0BBfYE2Ow/DLO8sZnln6aa3wLGABY4FABhbdaivthKV7/KuMXdx15i7AGj5QwsetF32S2p+oU9hbPb/ZE2tpn47J0RRFDi3lKKGSypK8At9BttpG+P/xb9eZFxpHAPfHRjlI9KGttfb8Gzw1/rN9zfT9rk25h0S/EKfQTErIfMSFIvOkxT0whK6abCKUacQ47jT3NQU1gDQFtdG9YzIByldipjnmzEM9ge86UoTpvHqTuU9hwS/0KeovLaSlowWKr5egc/WPx/6DSYDtn+0YRxmxHZXZ8vlq4PMvxX6FO40NwfX9P+JQZZrLFiusXRfMALEseeS0xTHHq0Qx55QxKtPEPod4tWnsqYXi+WM5moeTzpgArzYbDWa6wG0tqa2a+r/fzUYfKSktOiiePasPao1f2amPr0TPl89FRUp4tWnlqbFcoZJkxZprrZnzxt4PBnYbDXMmfOdi/pbk8+EgoLPeHENYdu2/ZnW1gFE4/+aktLCE09s1EXxzjsXUFMTRzTOMzNT4cABLReu6KC+vpGcHpyetPb3E6xtVu7dei8rPl6h+xp9Qt9Egr+fcHnZ5djabAxsHMioqlHRPhyhDyDB3w8we81MPzYdQ/vE+VmH9Zt0I/RdJPj7AW3GNsqSywLbpalijCB0jwR/f8AAL1/+cmDz3bHvRvFghL6CGHVuQDWjxROjT3Bq9Kmw+SaPicmbJqsj1s7hnMMczTkKwNsz3r4g39xmZt7OeeqIXUVU/q8vnn6Rv1T9JWx+nDGOZ8Y/o44YRO08//Wjf+VXH4cPhCRbEqWr1Lurk5pfEGIUMerUCGelk0HFoYu7GxRtV7IsLC5kedFynp3yrG6aejM5YTI3DbgpJE1tA8tLgWuHXsvqqatD0sxGdcNVjDo1wtJqIfGshmYSnZDsSiavNI+UseGNOvo6SeYkxsWPi/ZhaM6AuAFMHzxdUw1Vb/sNGEhFXVeR/ozFa8HeZo/2YQgxiio1vwEDs5jFSlYymMGsZjVfEMY5Jp/+b9QJVOdUU50TuthEWlkaw/YMC2w/sO8BHF4H2zK2UZRRRIs5sjHum/I3sSl/U0haVmUWEw9PjGi/nZJPVP6vW2u3srV2a0jaVclXcU/2PdoI5hOV81y/fz3r968PSVs2fhmPX/e4ahqqBP8d3MFSluLDhxEjf+APIfli1OnniuorePCTBy9In39qPlPPTOUXk34RhaMSYhVVgv8gB3HhwoGj27KFxYV4ijx8xmcdif3NqBNIq0jj/k33k+jteO7vysCy2Fncad7FkFWVxcjSkTRbmwNpVo814v12SpT+r5PjJrPiv1bgGemh6Xv+2aTJ5mTtBKN0nrPcs7j5zzeT89scHBP9cTUwTt0FS1UJ/m1sYxe7uJEbKaCAX/NrTnO607IxYdQJ4IFX0l4JTRsIDO/YvLHkRuLa4ngn6x0qHZWRaypgb7Vjb9WhHSFK/9ckUxJ5pXl4nB7q4+u1F4zSeab6UskrzWN04mgSBidooqFaa38TTTzX/hJ6xiu5r3RfSBA0Qgb5CEKMIsEvCDGKBL8gxChi1Kkigw8NZvChwdrsPAwjy0YysmykPmJbicr/dUnGEpZkLPFv6LHc31aicp5rpq9hzfQ1AJT/czmVqNAI3AVS8wt9CnOZv74yVhr16bWJAopHofWI/+SaDzR3U7r3SPALfQbTURNJa5L8nytNxL0UF+Uj0oaqJ6uoe8vv2VB2fxl172rj3yDBL/QZfGk+v1lnO94sbxSPRjtsI4JWyTaALVcbyy4JfqHPoCQptCz0P/R707y0zumf9/3O+U4cl/lH9aXcnIJ9lDaDtsSrT+hTNH+jGVOZidarW/vtr9dgMJD982xO/+dpBv1Eu3HE/fTfJ/RXlCSFhv+nj59gNEmck0jiHG3XgxC7rh5ril2Xuohdl1b01K5LjDoFod8hRp19VDN652g0KrrWwj6fod26uk0XzTNnzAFNvWrhigoDPp8Bfb/PBmC8GHVGSzONNIwYqaJKF73I6DDNXLfuPV0Ub731aqqrHaSnt/Heewd10bz66jFUVlp0Nc0cNy6BkycN6Pt99gzp6tMACxb+h/9hHeuIJz7ahyMInSLBrwFf42ukkYYdO9/km9E+HEHoFAl+DVjOcgwYMGJkCUswS4+qcAkiwa8BG4KWIt7ABtrQp0FLEC4GCX4NeIEXAp+f5MkoHokghKd/GnVeAppzmautZpCWnmaSAOtPruf5U8+HzY83xfNC/gth8y+WP+7/I48fCL9efaIlkQ8Xf6iaHuhvmhnAjN8nYBz+Hlg70Iy/9+4EcAA4op6UIAiXAmnAt4EB56UntL8HAVcAvwTckcvFhlFnFDTPmWbey726aUaDAmcBNw+6OSTNhHbGmTMzZnLH2DtC9TQ26tTDNBM78B3gnLVDE7ADKAcU/BeG0cAI9SRjw6gzCprnTDP7O0mWJCYkTNBNL9WeyuXpl+umB/qYZjKD0MB/AqgNyj8K7MJ/V6BS+7GqDX527IxmtJq77JZEEhkaeLgVLkWMx4zaujJ1gmefB6VFnyG8AIqi0LijEaWtl5rBdoofEhr4wVSh2h2kKjW/HTuLWcxyluPEyYM8yE52BvIVgv4h+ahi1JlIIjdzM9/iW9iwcTu3c5zjmmpeDJ2ZZmqmmU9UzCQBNldvZnP15pC0eanzuC/3PgCMR4047nOAHTw3enAvdvufX3vJayWv8VrJayFpi4cs5ucFPw9su7e4afinBgwpBuLuiMN+sx2D3dBrzc5MM5eOW8rj8zsaIav+p4ryNeVYc6wMWjOI1CWpGMw91LRCiLn1saDPCeflgX8unQore6lm1HkTNwUC7lfnNWlrYdS5hjVMp+NW7E/8SXNNoWdYNltI2HBehLeA9XkrhuMGWn+q7go8ra+1Ur2y+oJ05ayC6zcuvJVeElara3lV83wNu5fsviDdXeamZFUJvhYfA247v+UuDOdPmQmeWzUeWHhe/lZUWQ1bleDfznamMY0ssgDw4eMQhwL5Z+iYBz+heAItRS0cCe6v6MUt4Tu8wxjGkNp+WaylloqgWVPBmuOLx1NTVBOSr/VtqKnYREJRAnXBl2itNKNkJglwhfkKlm9cHnIrmtKSgnekf3094ykjBpe/BvSl+GibE9kD68yMmdzadiutf+m4gKS0pmCe0PFTbvuyQ8OUa8I2O7I18K4dei23191O7Wu1gbTU1lTiJncsINq0u2Nma9zkOBKmXcTF5vxroRP/ZFmNUSX4P+Mzvst3mctcJjOZJ3ky9EcfxJeuL1VpfNvCFj7gAxaykBxyeIqnaAmzqPt+137dG/y8Li91pdqsunoB0TIjBZxJTkY+eKFvQDPtS043gfUZK75cH23XtIElMr1UeyqFVxR2OYbDd8aH6z9cWGdYsV5rxWDq/S0/+Bv8vnbj1/xjJ8LQcqSFit9UkHpzKolXJ2IwXISmG6ih4/Y+h45b/53t72uAmRd96F2iWmu/Dx/vtb/0woOHV3lVNz2hF8SB+24VOqUvAmO6kcR/0XYJrPOxj7AzdO3Q3u/gS2BW++fpwG78A3s0RIb3CsKlQHALvwO4A/9FYBgwCtqfqFVFRvgJwqVAM/AcsBT/7b8TuC5MWZXsCiT4BeFSoQp4HCjAP7Z/AP6Rf278dwXlwFeoNra/x2v4nU99fT1JSUnAfvRfxqsc/Zfx0kszeueYltas+zJeAwd6dF/GKyvLp/MyXkb0/T79dLeGnzzzC0KMIsEvCDGKBL8gxCgS/IIQo0jwC0KMIsEvCDFKr/v5O3oI9Zyo3YDfh0xPl1a9NaN3jj5fM01N+liv+Xz1gAefz0Njoz6/Ib+mBZ/PR329Xpo+/HWs/s7C3fXi97qf/+jRo4wYoeKaQoIgqEpZWRnZ2dlh83td86em+qcglZaWtg/20Z5z5qBlZWVdDl7oy5qxcI6iqS2KotDQ0EBWVtcTAnod/Eajv7kgKSlJt5M6h9Pp7PeasXCOoqkdPamQpcFPEGIUCX5BiFF6Hfw2m42HHnoImy2yJZJEM7p6otn/NHtKr1v7BUHo28htvyDEKBL8ghCjSPALQowiwS8IMYoEvyDEKBL8ghCjSPALQowiwS8IMcr/B8gIIcAgJUJaAAAAAElFTkSuQmCC\n"
          },
          "metadata": {}
        },
        {
          "output_type": "stream",
          "name": "stdout",
          "text": [
            "after iteration 8\n",
            "iter    0   |   diff: 0.21619   |   V(start): 0.000 \n"
          ]
        },
        {
          "output_type": "display_data",
          "data": {
            "text/plain": [
              "<Figure size 300x300 with 1 Axes>"
            ],
            "image/png": "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\n"
          },
          "metadata": {}
        },
        {
          "output_type": "stream",
          "name": "stdout",
          "text": [
            "after iteration 9\n",
            "iter    0   |   diff: 0.18482   |   V(start): 0.000 \n"
          ]
        },
        {
          "output_type": "display_data",
          "data": {
            "text/plain": [
              "<Figure size 300x300 with 1 Axes>"
            ],
            "image/png": "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\n"
          },
          "metadata": {}
        }
      ],
      "source": [
        "state_values = {s: 0 for s in mdp.get_all_states()}\n",
        "\n",
        "for i in range(10):\n",
        "    print(\"after iteration %i\" % i)\n",
        "    state_values = value_iteration(mdp, state_values, num_iter=1)\n",
        "    draw_policy(mdp, state_values)\n",
        "# please ignore iter 0 at each step"
      ]
    },
    {
      "cell_type": "code",
      "execution_count": 30,
      "metadata": {
        "colab": {
          "base_uri": "https://localhost:8080/",
          "height": 307
        },
        "id": "I6syQMq6I_WT",
        "outputId": "a579565c-d94a-46af-ec55-f87728a1c881"
      },
      "outputs": [
        {
          "output_type": "stream",
          "name": "stdout",
          "text": [
            "after iteration 29\n",
            "iter    0   |   diff: 0.00000   |   V(start): 0.198 \n"
          ]
        },
        {
          "output_type": "display_data",
          "data": {
            "text/plain": [
              "<Figure size 300x300 with 1 Axes>"
            ],
            "image/png": "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\n"
          },
          "metadata": {}
        }
      ],
      "source": [
        "from IPython.display import clear_output\n",
        "from time import sleep\n",
        "mdp = FrozenLakeEnv(map_name='8x8', slip_chance=0.1)\n",
        "state_values = {s: 0 for s in mdp.get_all_states()}\n",
        "\n",
        "for i in range(30):\n",
        "    clear_output(True)\n",
        "    print(\"after iteration %i\" % i)\n",
        "    state_values = value_iteration(mdp, state_values, num_iter=1)\n",
        "    draw_policy(mdp, state_values)\n",
        "    sleep(0.5)\n",
        "# please ignore iter 0 at each step"
      ]
    },
    {
      "cell_type": "markdown",
      "metadata": {
        "id": "UpTs3XMDI_WU"
      },
      "source": [
        "Massive tests"
      ]
    },
    {
      "cell_type": "code",
      "execution_count": 31,
      "metadata": {
        "colab": {
          "base_uri": "https://localhost:8080/"
        },
        "id": "4jRg59pRI_WU",
        "outputId": "1c935fe2-328a-463b-d295-b1d4d4dc83e9"
      },
      "outputs": [
        {
          "output_type": "stream",
          "name": "stdout",
          "text": [
            "iter    0   |   diff: 1.00000   |   V(start): 0.000 \n",
            "iter    1   |   diff: 0.90000   |   V(start): 0.000 \n",
            "iter    2   |   diff: 0.81000   |   V(start): 0.000 \n",
            "iter    3   |   diff: 0.72900   |   V(start): 0.000 \n",
            "iter    4   |   diff: 0.65610   |   V(start): 0.000 \n",
            "iter    5   |   diff: 0.59049   |   V(start): 0.590 \n",
            "iter    6   |   diff: 0.00000   |   V(start): 0.590 \n",
            "average reward:  1.0\n",
            "Well done!\n"
          ]
        }
      ],
      "source": [
        "mdp = FrozenLakeEnv(slip_chance=0)\n",
        "state_values = value_iteration(mdp)\n",
        "\n",
        "total_rewards = []\n",
        "for game_i in range(1000):\n",
        "    s = mdp.reset()\n",
        "    rewards = []\n",
        "    for t in range(100):\n",
        "        s, r, done, _ = mdp.step(\n",
        "            get_optimal_action(mdp, state_values, s, gamma))\n",
        "        rewards.append(r)\n",
        "        if done:\n",
        "            break\n",
        "    total_rewards.append(np.sum(rewards))\n",
        "\n",
        "print(\"average reward: \", np.mean(total_rewards))\n",
        "assert(1.0 <= np.mean(total_rewards) <= 1.0)\n",
        "print(\"Well done!\")"
      ]
    },
    {
      "cell_type": "code",
      "execution_count": 32,
      "metadata": {
        "colab": {
          "base_uri": "https://localhost:8080/"
        },
        "id": "Z4z7TpGBI_WU",
        "outputId": "f97eda00-85b4-4b48-f3c8-c6a7312e688c"
      },
      "outputs": [
        {
          "output_type": "stream",
          "name": "stdout",
          "text": [
            "iter    0   |   diff: 0.90000   |   V(start): 0.000 \n",
            "iter    1   |   diff: 0.72900   |   V(start): 0.000 \n",
            "iter    2   |   diff: 0.62330   |   V(start): 0.000 \n",
            "iter    3   |   diff: 0.50487   |   V(start): 0.000 \n",
            "iter    4   |   diff: 0.40894   |   V(start): 0.000 \n",
            "iter    5   |   diff: 0.34868   |   V(start): 0.349 \n",
            "iter    6   |   diff: 0.06529   |   V(start): 0.410 \n",
            "iter    7   |   diff: 0.05832   |   V(start): 0.468 \n",
            "iter    8   |   diff: 0.01139   |   V(start): 0.480 \n",
            "iter    9   |   diff: 0.00764   |   V(start): 0.487 \n",
            "iter   10   |   diff: 0.00164   |   V(start): 0.489 \n",
            "iter   11   |   diff: 0.00094   |   V(start): 0.490 \n",
            "iter   12   |   diff: 0.00022   |   V(start): 0.490 \n",
            "iter   13   |   diff: 0.00011   |   V(start): 0.490 \n",
            "iter   14   |   diff: 0.00003   |   V(start): 0.490 \n",
            "iter   15   |   diff: 0.00001   |   V(start): 0.490 \n",
            "iter   16   |   diff: 0.00000   |   V(start): 0.490 \n",
            "average reward:  0.881\n",
            "Well done!\n"
          ]
        }
      ],
      "source": [
        "# Measure agent's average reward\n",
        "mdp = FrozenLakeEnv(slip_chance=0.1)\n",
        "state_values = value_iteration(mdp)\n",
        "\n",
        "total_rewards = []\n",
        "for game_i in range(1000):\n",
        "    s = mdp.reset()\n",
        "    rewards = []\n",
        "    for t in range(100):\n",
        "        s, r, done, _ = mdp.step(\n",
        "            get_optimal_action(mdp, state_values, s, gamma))\n",
        "        rewards.append(r)\n",
        "        if done:\n",
        "            break\n",
        "    total_rewards.append(np.sum(rewards))\n",
        "\n",
        "print(\"average reward: \", np.mean(total_rewards))\n",
        "assert(0.8 <= np.mean(total_rewards) <= 0.95)\n",
        "print(\"Well done!\")"
      ]
    },
    {
      "cell_type": "code",
      "execution_count": 33,
      "metadata": {
        "colab": {
          "base_uri": "https://localhost:8080/"
        },
        "id": "WZ823upGI_Wi",
        "outputId": "5d55a6a4-f5ca-4bef-f0c8-10e9b72288dc"
      },
      "outputs": [
        {
          "output_type": "stream",
          "name": "stdout",
          "text": [
            "iter    0   |   diff: 0.75000   |   V(start): 0.000 \n",
            "iter    1   |   diff: 0.50625   |   V(start): 0.000 \n",
            "iter    2   |   diff: 0.39867   |   V(start): 0.000 \n",
            "iter    3   |   diff: 0.26910   |   V(start): 0.000 \n",
            "iter    4   |   diff: 0.18164   |   V(start): 0.000 \n",
            "iter    5   |   diff: 0.14013   |   V(start): 0.140 \n",
            "iter    6   |   diff: 0.07028   |   V(start): 0.199 \n",
            "iter    7   |   diff: 0.06030   |   V(start): 0.260 \n",
            "iter    8   |   diff: 0.02594   |   V(start): 0.285 \n",
            "iter    9   |   diff: 0.01918   |   V(start): 0.305 \n",
            "iter   10   |   diff: 0.00858   |   V(start): 0.313 \n",
            "iter   11   |   diff: 0.00560   |   V(start): 0.319 \n",
            "iter   12   |   diff: 0.00260   |   V(start): 0.321 \n",
            "iter   13   |   diff: 0.00159   |   V(start): 0.323 \n",
            "iter   14   |   diff: 0.00076   |   V(start): 0.324 \n",
            "iter   15   |   diff: 0.00045   |   V(start): 0.324 \n",
            "iter   16   |   diff: 0.00022   |   V(start): 0.324 \n",
            "iter   17   |   diff: 0.00012   |   V(start): 0.325 \n",
            "iter   18   |   diff: 0.00006   |   V(start): 0.325 \n",
            "iter   19   |   diff: 0.00003   |   V(start): 0.325 \n",
            "iter   20   |   diff: 0.00002   |   V(start): 0.325 \n",
            "iter   21   |   diff: 0.00001   |   V(start): 0.325 \n",
            "average reward:  0.674\n",
            "Well done!\n"
          ]
        }
      ],
      "source": [
        "# Measure agent's average reward\n",
        "mdp = FrozenLakeEnv(slip_chance=0.25)\n",
        "state_values = value_iteration(mdp)\n",
        "\n",
        "total_rewards = []\n",
        "for game_i in range(1000):\n",
        "    s = mdp.reset()\n",
        "    rewards = []\n",
        "    for t in range(100):\n",
        "        s, r, done, _ = mdp.step(\n",
        "            get_optimal_action(mdp, state_values, s, gamma))\n",
        "        rewards.append(r)\n",
        "        if done:\n",
        "            break\n",
        "    total_rewards.append(np.sum(rewards))\n",
        "\n",
        "print(\"average reward: \", np.mean(total_rewards))\n",
        "assert(0.6 <= np.mean(total_rewards) <= 0.7)\n",
        "print(\"Well done!\")"
      ]
    },
    {
      "cell_type": "code",
      "execution_count": 34,
      "metadata": {
        "colab": {
          "base_uri": "https://localhost:8080/"
        },
        "id": "3XZUUrReI_Wi",
        "outputId": "cf0d4985-1456-453a-885f-261785e4eae3"
      },
      "outputs": [
        {
          "output_type": "stream",
          "name": "stdout",
          "text": [
            "iter    0   |   diff: 0.80000   |   V(start): 0.000 \n",
            "iter    1   |   diff: 0.57600   |   V(start): 0.000 \n",
            "iter    2   |   diff: 0.41472   |   V(start): 0.000 \n",
            "iter    3   |   diff: 0.29860   |   V(start): 0.000 \n",
            "iter    4   |   diff: 0.24186   |   V(start): 0.000 \n",
            "iter    5   |   diff: 0.19349   |   V(start): 0.000 \n",
            "iter    6   |   diff: 0.15325   |   V(start): 0.000 \n",
            "iter    7   |   diff: 0.12288   |   V(start): 0.000 \n",
            "iter    8   |   diff: 0.09930   |   V(start): 0.000 \n",
            "iter    9   |   diff: 0.08037   |   V(start): 0.000 \n",
            "iter   10   |   diff: 0.06426   |   V(start): 0.000 \n",
            "iter   11   |   diff: 0.05129   |   V(start): 0.000 \n",
            "iter   12   |   diff: 0.04330   |   V(start): 0.000 \n",
            "iter   13   |   diff: 0.03802   |   V(start): 0.033 \n",
            "iter   14   |   diff: 0.03332   |   V(start): 0.058 \n",
            "iter   15   |   diff: 0.02910   |   V(start): 0.087 \n",
            "iter   16   |   diff: 0.01855   |   V(start): 0.106 \n",
            "iter   17   |   diff: 0.01403   |   V(start): 0.120 \n",
            "iter   18   |   diff: 0.00810   |   V(start): 0.128 \n",
            "iter   19   |   diff: 0.00555   |   V(start): 0.133 \n",
            "iter   20   |   diff: 0.00321   |   V(start): 0.137 \n",
            "iter   21   |   diff: 0.00247   |   V(start): 0.138 \n",
            "iter   22   |   diff: 0.00147   |   V(start): 0.139 \n",
            "iter   23   |   diff: 0.00104   |   V(start): 0.140 \n",
            "iter   24   |   diff: 0.00058   |   V(start): 0.140 \n",
            "iter   25   |   diff: 0.00036   |   V(start): 0.141 \n",
            "iter   26   |   diff: 0.00024   |   V(start): 0.141 \n",
            "iter   27   |   diff: 0.00018   |   V(start): 0.141 \n",
            "iter   28   |   diff: 0.00012   |   V(start): 0.141 \n",
            "iter   29   |   diff: 0.00007   |   V(start): 0.141 \n",
            "iter   30   |   diff: 0.00004   |   V(start): 0.141 \n",
            "iter   31   |   diff: 0.00003   |   V(start): 0.141 \n",
            "iter   32   |   diff: 0.00001   |   V(start): 0.141 \n",
            "iter   33   |   diff: 0.00001   |   V(start): 0.141 \n",
            "average reward:  0.759\n",
            "Well done!\n"
          ]
        }
      ],
      "source": [
        "# Measure agent's average reward\n",
        "mdp = FrozenLakeEnv(slip_chance=0.2, map_name='8x8')\n",
        "state_values = value_iteration(mdp)\n",
        "\n",
        "total_rewards = []\n",
        "for game_i in range(1000):\n",
        "    s = mdp.reset()\n",
        "    rewards = []\n",
        "    for t in range(100):\n",
        "        s, r, done, _ = mdp.step(\n",
        "            get_optimal_action(mdp, state_values, s, gamma))\n",
        "        rewards.append(r)\n",
        "        if done:\n",
        "            break\n",
        "    total_rewards.append(np.sum(rewards))\n",
        "\n",
        "print(\"average reward: \", np.mean(total_rewards))\n",
        "assert(0.6 <= np.mean(total_rewards) <= 0.8)\n",
        "print(\"Well done!\")"
      ]
    }
  ],
  "metadata": {
    "kernelspec": {
      "display_name": "Python 3",
      "language": "python",
      "name": "python3"
    },
    "language_info": {
      "codemirror_mode": {
        "name": "ipython",
        "version": 3
      },
      "file_extension": ".py",
      "mimetype": "text/x-python",
      "name": "python",
      "nbconvert_exporter": "python",
      "pygments_lexer": "ipython3",
      "version": "3.8.10"
    },
    "colab": {
      "provenance": []
    }
  },
  "nbformat": 4,
  "nbformat_minor": 0
}
