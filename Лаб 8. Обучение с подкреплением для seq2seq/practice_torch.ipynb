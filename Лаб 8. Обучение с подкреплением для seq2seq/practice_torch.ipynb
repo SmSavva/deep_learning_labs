{
  "cells": [
    {
      "cell_type": "markdown",
      "metadata": {
        "id": "qzIXCx6a9U_d"
      },
      "source": [
        "## Week 8: Reinforcement Learning for seq2seq"
      ]
    },
    {
      "cell_type": "code",
      "execution_count": 1,
      "metadata": {
        "collapsed": true,
        "id": "pmQaec2t9U_g"
      },
      "outputs": [],
      "source": [
        "EASY_MODE = True        #If True, only translates phrases shorter than 20 characters (way easier).\n",
        "                        #Useful for initial coding.\n",
        "                        #If false, works with all phrases (please switch to this mode for homework assignment)\n",
        "\n",
        "MODE = \"he-to-en\"                                # way we translate. Either \"he-to-en\" or \"en-to-he\"\n",
        "MAX_OUTPUT_LENGTH = 50 if not EASY_MODE else 20  # maximal length of _generated_ output, does not affect training\n",
        "REPORT_FREQ       = 100                          # how often to evaluate validation score"
      ]
    },
    {
      "cell_type": "markdown",
      "metadata": {
        "id": "LuwppKNJ9U_h"
      },
      "source": [
        "### Step 1: preprocessing\n",
        "\n",
        "We shall store dataset as a dictionary\n",
        "`{ word1:[translation1,translation2,...], word2:[...],...}`.\n",
        "\n",
        "This is mostly due to the fact that many words have several correct translations.\n",
        "\n"
      ]
    },
    {
      "cell_type": "code",
      "execution_count": 2,
      "metadata": {
        "colab": {
          "base_uri": "https://localhost:8080/"
        },
        "collapsed": true,
        "id": "oQV8HhKR9U_i",
        "outputId": "97481322-157f-4bfb-ab3e-c776297e0750"
      },
      "outputs": [
        {
          "name": "stdout",
          "output_type": "stream",
          "text": [
            "size =  130113\n"
          ]
        }
      ],
      "source": [
        "import numpy as np\n",
        "from collections import defaultdict\n",
        "word_to_translation = defaultdict(list) #our dictionary\n",
        "\n",
        "bos = '_'\n",
        "eos = ';'\n",
        "\n",
        "with open(\"main_dataset.txt\") as fin:\n",
        "    for line in fin:\n",
        "\n",
        "        en,he = line[:-1].lower().replace(bos,' ').replace(eos,' ').split('\\t')\n",
        "        word,trans = (he,en) if MODE=='he-to-en' else (en,he)\n",
        "\n",
        "        if len(word) < 3: continue\n",
        "        if EASY_MODE:\n",
        "            if max(len(word),len(trans))>20:\n",
        "                continue\n",
        "\n",
        "        word_to_translation[word].append(trans)\n",
        "\n",
        "print (\"size = \",len(word_to_translation))"
      ]
    },
    {
      "cell_type": "code",
      "execution_count": 3,
      "metadata": {
        "collapsed": true,
        "id": "ZZHWnSWz9U_i"
      },
      "outputs": [],
      "source": [
        "#get all unique lines in source language\n",
        "all_words = np.array(list(word_to_translation.keys()))\n",
        "# get all unique lines in translation language\n",
        "all_translations = np.array([ts for all_ts in word_to_translation.values() for ts in all_ts])\n"
      ]
    },
    {
      "cell_type": "markdown",
      "metadata": {
        "id": "-OyPjb3k9U_i"
      },
      "source": [
        "### split the dataset\n",
        "\n",
        "We hold out 10% of all words to be used for validation.\n"
      ]
    },
    {
      "cell_type": "code",
      "execution_count": 4,
      "metadata": {
        "collapsed": true,
        "id": "x3qdXwgv9U_j",
        "scrolled": true
      },
      "outputs": [],
      "source": [
        "from sklearn.model_selection import train_test_split\n",
        "train_words,test_words = train_test_split(all_words,test_size=0.1,random_state=42)"
      ]
    },
    {
      "cell_type": "markdown",
      "metadata": {
        "id": "g_8jzdwk9U_j"
      },
      "source": [
        "### Building vocabularies\n",
        "\n",
        "We now need to build vocabularies that map strings to token ids and vice versa. We're gonna need these fellas when we feed training data into model or convert output matrices into english words."
      ]
    },
    {
      "cell_type": "code",
      "execution_count": 5,
      "metadata": {
        "collapsed": true,
        "id": "lSYAzJBo9U_j"
      },
      "outputs": [],
      "source": [
        "from voc import Vocab\n",
        "inp_voc = Vocab.from_lines(''.join(all_words), bos=bos, eos=eos, sep='')\n",
        "out_voc = Vocab.from_lines(''.join(all_translations), bos=bos, eos=eos, sep='')"
      ]
    },
    {
      "cell_type": "code",
      "execution_count": 6,
      "metadata": {
        "colab": {
          "base_uri": "https://localhost:8080/"
        },
        "collapsed": true,
        "id": "s0VI7IZB9U_k",
        "outputId": "5422a521-1ca5-475e-9158-691b6ccc9a7f"
      },
      "outputs": [
        {
          "name": "stdout",
          "output_type": "stream",
          "text": [
            "lines\n",
            "['אנרכיזם' 'אוטיזם קלאסי' 'אלבדו' 'אלבמה' 'אכילס']\n",
            "\n",
            "words to ids (0 = bos, 1 = eos):\n",
            "[[  0 119  12  49 187  88 101  46   1   1   1   1   1   1]\n",
            " [  0 119  19  86  88 101  46  56  85 157 119 145  88   1]\n",
            " [  0 119 157 176 132  19   1   1   1   1   1   1   1   1]\n",
            " [  0 119 157 176 142  50   1   1   1   1   1   1   1   1]\n",
            " [  0 119 187  88 157 145   1   1   1   1   1   1   1   1]]\n",
            "\n",
            "back to words\n",
            "['אנרכיזם', 'אוטיזם קלאסי', 'אלבדו', 'אלבמה', 'אכילס']\n"
          ]
        }
      ],
      "source": [
        "# Here's how you cast lines into ids and backwards.\n",
        "batch_lines = all_words[:5]\n",
        "batch_ids = inp_voc.to_matrix(batch_lines)\n",
        "batch_lines_restored = inp_voc.to_lines(batch_ids)\n",
        "\n",
        "print(\"lines\")\n",
        "print(batch_lines)\n",
        "print(\"\\nwords to ids (0 = bos, 1 = eos):\")\n",
        "print(batch_ids)\n",
        "print(\"\\nback to words\")\n",
        "print(batch_lines_restored)"
      ]
    },
    {
      "cell_type": "markdown",
      "metadata": {
        "id": "ngMxXMli9U_k"
      },
      "source": [
        "Draw word/translation length distributions to estimate the scope of the task."
      ]
    },
    {
      "cell_type": "code",
      "execution_count": 7,
      "metadata": {
        "colab": {
          "base_uri": "https://localhost:8080/",
          "height": 391
        },
        "collapsed": true,
        "id": "fZBq5m5j9U_k",
        "outputId": "8cb3034f-05ca-4986-9887-851be4276fe0"
      },
      "outputs": [
        {
          "data": {
            "image/png": "[encoded data removed]",
            "text/plain": [
              "<Figure size 800x400 with 2 Axes>"
            ]
          },
          "metadata": {},
          "output_type": "display_data"
        }
      ],
      "source": [
        "import matplotlib.pyplot as plt\n",
        "%matplotlib inline\n",
        "plt.figure(figsize=[8,4])\n",
        "plt.subplot(1,2,1)\n",
        "plt.title(\"words\")\n",
        "plt.hist(list(map(len,all_words)),bins=20);\n",
        "\n",
        "plt.subplot(1,2,2)\n",
        "plt.title('translations')\n",
        "plt.hist(list(map(len,all_translations)),bins=20);\n"
      ]
    },
    {
      "cell_type": "markdown",
      "metadata": {
        "id": "uPw1MRGf9U_k"
      },
      "source": [
        "### Step 3: deploy encoder-decoder (1 point)\n",
        "\n",
        "__assignment starts here__\n",
        "\n",
        "Our architecture consists of two main blocks:\n",
        "* Encoder reads words character by character and outputs code vector (usually a function of last RNN state)\n",
        "* Decoder takes that code vector and produces translations character by character\n",
        "\n",
        "Than it gets fed into a model that follows this simple interface:\n",
        "* __`model(inp, out, **flags) -> logp`__ - takes symbolic int32 matrices of hebrew words and their english translations. Computes the log-probabilities of all possible english characters given english prefices and hebrew word.\n",
        "* __`model.translate(inp, **flags) -> out, logp`__ - takes symbolic int32 matrix of hebrew words, produces output tokens sampled from the model and output log-probabilities for all possible tokens at each tick.\n",
        "  * if given flag __`greedy=True`__, takes most likely next token at each iteration. Otherwise samples with next token probabilities predicted by model.\n",
        "\n",
        "That's all! It's as hard as it gets. With those two methods alone you can implement all kinds of prediction and training."
      ]
    },
    {
      "cell_type": "code",
      "execution_count": 8,
      "metadata": {
        "collapsed": true,
        "id": "dE7F0mtp9U_l"
      },
      "outputs": [],
      "source": [
        "import torch\n",
        "import torch.nn as nn\n",
        "import torch.nn.functional as F\n",
        "from torch.autograd import Variable"
      ]
    },
    {
      "cell_type": "code",
      "execution_count": 9,
      "metadata": {
        "collapsed": true,
        "id": "ZPLPbeLe9U_l"
      },
      "outputs": [],
      "source": [
        "from basic_model_torch import BasicTranslationModel\n",
        "model = BasicTranslationModel(inp_voc, out_voc,\n",
        "                              emb_size=64, hid_size=256)"
      ]
    },
    {
      "cell_type": "code",
      "execution_count": 10,
      "metadata": {
        "colab": {
          "base_uri": "https://localhost:8080/"
        },
        "collapsed": true,
        "id": "RmqWjpgA9U_l",
        "outputId": "4e7877d7-2e79-4b9b-9777-c4f5dd42ede6",
        "scrolled": true
      },
      "outputs": [
        {
          "name": "stdout",
          "output_type": "stream",
          "text": [
            "Sample translations:\n",
            " tensor([[  0, 254,  37,  ...,  18, 246,   1],\n",
            "        [  0, 163,  26,  ..., 256,  66, 164],\n",
            "        [  0, 185,  18,  ..., 190, 193,  57]])\n",
            "Log-probabilities at each step:\n",
            " tensor([[[  0.0000, -69.0776, -69.0776,  ..., -69.0776, -69.0776, -69.0776],\n",
            "         [ -5.5906,  -5.5706,  -5.6825,  ...,  -5.6167,  -5.6678,  -5.7595],\n",
            "         [ -5.6193,  -5.6674,  -5.6366,  ...,  -5.6579,  -5.5440,  -5.5913],\n",
            "         ...,\n",
            "         [ -5.6116,  -5.6532,  -5.4303,  ...,  -5.6912,  -5.8713,  -5.6701],\n",
            "         [ -5.5118,  -5.6191,  -5.3987,  ...,  -5.6248,  -5.8342,  -5.7198],\n",
            "         [ -5.6233,  -5.5719,  -5.4650,  ...,  -5.6610,  -5.6733,  -5.7325]],\n",
            "\n",
            "        [[  0.0000, -69.0776, -69.0776,  ..., -69.0776, -69.0776, -69.0776],\n",
            "         [ -5.5890,  -5.5603,  -5.6733,  ...,  -5.6084,  -5.6628,  -5.7686],\n",
            "         [ -5.6832,  -5.7196,  -5.6625,  ...,  -5.6643,  -5.5418,  -5.6620],\n",
            "         ...,\n",
            "         [ -5.5578,  -5.7596,  -5.5640,  ...,  -5.5224,  -5.7095,  -5.9069],\n",
            "         [ -5.6081,  -5.8101,  -5.5949,  ...,  -5.6292,  -5.5584,  -5.7369],\n",
            "         [ -5.6295,  -5.7346,  -5.6986,  ...,  -5.7098,  -5.6056,  -5.8110]],\n",
            "\n",
            "        [[  0.0000, -69.0776, -69.0776,  ..., -69.0776, -69.0776, -69.0776],\n",
            "         [ -5.5785,  -5.6076,  -5.6467,  ...,  -5.6185,  -5.6617,  -5.7678],\n",
            "         [ -5.5233,  -5.5741,  -5.7113,  ...,  -5.6592,  -5.5936,  -5.7660],\n",
            "         ...,\n",
            "         [ -5.5171,  -5.6077,  -5.5952,  ...,  -5.5918,  -5.6230,  -5.7445],\n",
            "         [ -5.5637,  -5.6421,  -5.6399,  ...,  -5.7501,  -5.5891,  -5.7695],\n",
            "         [ -5.6493,  -5.6793,  -5.5631,  ...,  -5.6654,  -5.6105,  -5.6960]]],\n",
            "       grad_fn=<LogSoftmaxBackward0>)\n"
          ]
        }
      ],
      "source": [
        "# Play around with symbolic_translate and symbolic_score\n",
        "inp = Variable(torch.LongTensor(np.random.randint(0,10,[3,5])))\n",
        "out = Variable(torch.LongTensor(np.random.randint(0,10,[3,5])))\n",
        "\n",
        "# translate inp (with untrained model)\n",
        "sampled_out, logp = model.translate(inp, greedy=False)\n",
        "\n",
        "print(\"Sample translations:\\n\", sampled_out)\n",
        "print(\"Log-probabilities at each step:\\n\",logp)"
      ]
    },
    {
      "cell_type": "code",
      "execution_count": 11,
      "metadata": {
        "colab": {
          "base_uri": "https://localhost:8080/"
        },
        "collapsed": true,
        "id": "y7kFobJL9U_l",
        "outputId": "7706a538-8092-4a0e-aee5-cfae7ede0361"
      },
      "outputs": [
        {
          "name": "stdout",
          "output_type": "stream",
          "text": [
            "Symbolic_score output:\n",
            " tensor([[[  0.0000, -69.0776, -69.0776,  ..., -69.0776, -69.0776, -69.0776],\n",
            "         [ -5.4794,  -5.6985,  -5.7507,  ...,  -5.6032,  -5.6999,  -5.7921],\n",
            "         [ -5.4473,  -5.7390,  -5.7831,  ...,  -5.6229,  -5.7178,  -5.8214],\n",
            "         [ -5.6477,  -5.6712,  -5.7644,  ...,  -5.4996,  -5.6417,  -5.8266],\n",
            "         [ -5.5312,  -5.7567,  -5.7758,  ...,  -5.5828,  -5.6939,  -5.8402]],\n",
            "\n",
            "        [[  0.0000, -69.0776, -69.0776,  ..., -69.0776, -69.0776, -69.0776],\n",
            "         [ -5.5269,  -5.6132,  -5.5927,  ...,  -5.4832,  -5.7823,  -5.7588],\n",
            "         [ -5.6419,  -5.5971,  -5.6069,  ...,  -5.4335,  -5.7580,  -5.8271],\n",
            "         [ -5.7125,  -5.5933,  -5.6591,  ...,  -5.3883,  -5.6479,  -5.8223],\n",
            "         [ -5.6130,  -5.6165,  -5.5927,  ...,  -5.3948,  -5.7899,  -5.7816]],\n",
            "\n",
            "        [[  0.0000, -69.0776, -69.0776,  ..., -69.0776, -69.0776, -69.0776],\n",
            "         [ -5.8076,  -5.8103,  -5.6619,  ...,  -5.6190,  -5.5813,  -5.7475],\n",
            "         [ -5.5974,  -5.7814,  -5.7392,  ...,  -5.6129,  -5.6543,  -5.7820],\n",
            "         [ -5.8656,  -5.8410,  -5.7316,  ...,  -5.6202,  -5.5878,  -5.7534],\n",
            "         [ -5.6376,  -5.6069,  -5.6840,  ...,  -5.5432,  -5.7148,  -5.6208]]],\n",
            "       grad_fn=<LogSoftmaxBackward0>)\n",
            "Log-probabilities of output tokens:\n",
            " tensor([[[-69.0776],\n",
            "         [ -5.6856],\n",
            "         [ -5.4895],\n",
            "         [ -5.6900],\n",
            "         [ -5.7758]],\n",
            "\n",
            "        [[-69.0776],\n",
            "         [ -5.6132],\n",
            "         [ -5.6324],\n",
            "         [ -5.5568],\n",
            "         [ -5.6075]],\n",
            "\n",
            "        [[-69.0776],\n",
            "         [ -5.7735],\n",
            "         [ -5.5977],\n",
            "         [ -5.7316],\n",
            "         [ -5.6840]]], grad_fn=<GatherBackward0>)\n"
          ]
        }
      ],
      "source": [
        "# score logp(out | inp) with untrained input\n",
        "logp = model(inp, out)\n",
        "print(\"Symbolic_score output:\\n\", logp)\n",
        "\n",
        "print(\"Log-probabilities of output tokens:\\n\", torch.gather(logp, dim=2, index=out[:,:,None]))"
      ]
    },
    {
      "cell_type": "code",
      "execution_count": 12,
      "metadata": {
        "collapsed": true,
        "id": "R5kJZn_D9U_m"
      },
      "outputs": [],
      "source": [
        "def translate(lines, max_len=MAX_OUTPUT_LENGTH):\n",
        "    \"\"\"\n",
        "    You are given a list of input lines.\n",
        "    Make your neural network translate them.\n",
        "    :return: a list of output lines\n",
        "    \"\"\"\n",
        "    # Convert lines to a matrix of indices\n",
        "    lines_ix = inp_voc.to_matrix(lines)\n",
        "    lines_ix = Variable(torch.LongTensor(lines_ix))\n",
        "\n",
        "    # Compute translations in form of indices\n",
        "    # ***************************\n",
        "    # мой код\n",
        "    trans_ix = model.translate(lines_ix, greedy=True, max_len=max_len)[0]\n",
        "    # ***************************\n",
        "\n",
        "    # Convert translations back into strings\n",
        "    return out_voc.to_lines(trans_ix.data.numpy())\n"
      ]
    },
    {
      "cell_type": "code",
      "execution_count": 13,
      "metadata": {
        "colab": {
          "base_uri": "https://localhost:8080/"
        },
        "collapsed": true,
        "id": "D1nRlVOc9U_m",
        "outputId": "d02f0307-2f45-43dc-e76c-b2c97a1b63df"
      },
      "outputs": [
        {
          "name": "stdout",
          "output_type": "stream",
          "text": [
            "Sample inputs: ['אנרכיזם' 'אוטיזם קלאסי' 'אלבדו']\n",
            "Dummy translations: [\"ʿʿпրvļqóااتשש×いùùê'\", \"ʿʿпրvļqóااتשש×いùùê'\", \"ʿʿпրvļqóااتשש×いùùê'\"]\n",
            "Tests passed!\n"
          ]
        }
      ],
      "source": [
        "print(\"Sample inputs:\",all_words[:3])\n",
        "print(\"Dummy translations:\",translate(all_words[:3]))\n",
        "trans = translate(all_words[:3])\n",
        "\n",
        "assert translate(all_words[:3]) == translate(all_words[:3]), \"make sure translation is deterministic (use greedy=True and disable any noise layers)\"\n",
        "assert type(translate(all_words[:3])) is list and (type(translate(all_words[:1])[0]) is str or type(translate(all_words[:1])[0]) is unicode), \"translate(lines) must return a sequence of strings!\"\n",
        "# note: if translation freezes, make sure you used max_len parameter\n",
        "print(\"Tests passed!\")"
      ]
    },
    {
      "cell_type": "markdown",
      "metadata": {
        "id": "wseteD049U_m"
      },
      "source": [
        "### Scoring function\n",
        "\n",
        "LogLikelihood is a poor estimator of model performance.\n",
        "* If we predict zero probability once, it shouldn't ruin entire model.\n",
        "* It is enough to learn just one translation if there are several correct ones.\n",
        "* What matters is how many mistakes model's gonna make when it translates!\n",
        "\n",
        "Therefore, we will use minimal Levenshtein distance. It measures how many characters do we need to add/remove/replace from model translation to make it perfect. Alternatively, one could use character-level BLEU/RougeL or other similar metrics.\n",
        "\n",
        "The catch here is that Levenshtein distance is not differentiable: it isn't even continuous. We can't train our neural network to maximize it by gradient descent."
      ]
    },
    {
      "cell_type": "code",
      "execution_count": 14,
      "metadata": {
        "collapsed": true,
        "id": "lvfcSsSS9U_n"
      },
      "outputs": [],
      "source": [
        "import editdistance # !pip install editdistance\n",
        "\n",
        "def get_distance(word,trans):\n",
        "    \"\"\"\n",
        "    A function that takes word and predicted translation\n",
        "    and evaluates (Levenshtein's) edit distance to closest correct translation\n",
        "    \"\"\"\n",
        "    references = word_to_translation[word]\n",
        "    assert len(references)!=0,\"wrong/unknown word\"\n",
        "    return min(editdistance.eval(trans,ref) for ref in references)\n",
        "\n",
        "def score(words, bsize=100):\n",
        "    \"\"\"a function that computes levenshtein distance for bsize random samples\"\"\"\n",
        "    assert isinstance(words,np.ndarray)\n",
        "\n",
        "    batch_words = np.random.choice(words,size=bsize,replace=False)\n",
        "    batch_trans = translate(batch_words)\n",
        "\n",
        "    distances = list(map(get_distance,batch_words,batch_trans))\n",
        "\n",
        "    return np.array(distances,dtype='float32')"
      ]
    },
    {
      "cell_type": "code",
      "execution_count": 15,
      "metadata": {
        "colab": {
          "base_uri": "https://localhost:8080/"
        },
        "collapsed": true,
        "id": "iKK_DJ9Z9U_n",
        "outputId": "7c414e74-fa0d-4da4-f653-fb980caeaa56"
      },
      "outputs": [
        {
          "data": {
            "text/plain": [
              "[19.0, 19.0, 19.0, 18.8, 18.8]"
            ]
          },
          "execution_count": 15,
          "metadata": {},
          "output_type": "execute_result"
        }
      ],
      "source": [
        "#should be around 5-50 and decrease rapidly after training :)\n",
        "[score(test_words,10).mean() for _ in range(5)]"
      ]
    },
    {
      "cell_type": "markdown",
      "metadata": {
        "id": "aACRCH4X9U_n"
      },
      "source": [
        "## Step 2: Supervised pre-training (2 points)\n",
        "\n",
        "Here we define a function that trains our model through maximizing log-likelihood a.k.a. minimizing crossentropy."
      ]
    },
    {
      "cell_type": "code",
      "execution_count": 16,
      "metadata": {
        "collapsed": true,
        "id": "z1TtRryA9U_n"
      },
      "outputs": [],
      "source": [
        "import random\n",
        "def sample_batch(words, word_to_translation, batch_size):\n",
        "    \"\"\"\n",
        "    sample random batch of words and random correct translation for each word\n",
        "    example usage:\n",
        "    batch_x,batch_y = sample_batch(train_words, word_to_translations,10)\n",
        "    \"\"\"\n",
        "    #choose words\n",
        "    batch_words = np.random.choice(words,size=batch_size)\n",
        "    #choose translations\n",
        "    batch_trans_candidates = list(map(word_to_translation.get, batch_words))\n",
        "    batch_trans = list(map(random.choice, batch_trans_candidates))\n",
        "\n",
        "    return batch_words, batch_trans"
      ]
    },
    {
      "cell_type": "code",
      "execution_count": 17,
      "metadata": {
        "colab": {
          "base_uri": "https://localhost:8080/"
        },
        "collapsed": true,
        "id": "xESQwFPw9U_n",
        "outputId": "acf4fb47-7fa1-4c88-d900-17e4c0006c8b"
      },
      "outputs": [
        {
          "name": "stdout",
          "output_type": "stream",
          "text": [
            "Source:\n",
            "['מינקה קלי' 'גשושית' 'תצוגת אופנה']\n",
            "Target:\n",
            "['minka kelly', 'space probe', 'fashion show']\n"
          ]
        }
      ],
      "source": [
        "bx,by = sample_batch(train_words, word_to_translation, batch_size=3)\n",
        "print(\"Source:\")\n",
        "print(bx)\n",
        "print(\"Target:\")\n",
        "print(by)"
      ]
    },
    {
      "cell_type": "code",
      "execution_count": 18,
      "metadata": {
        "collapsed": true,
        "id": "UYD9V8WG9U_o"
      },
      "outputs": [],
      "source": [
        "from basic_model_torch import infer_length, infer_mask, to_one_hot\n",
        "\n",
        "def compute_loss_on_batch(input_sequence, reference_answers):\n",
        "    \"\"\" Compute crossentropy loss given a batch of sources and translations \"\"\"\n",
        "    input_sequence = Variable(torch.LongTensor(inp_voc.to_matrix(input_sequence)))\n",
        "    reference_answers = Variable(torch.LongTensor(out_voc.to_matrix(reference_answers)))\n",
        "\n",
        "    # Compute log-probabilities of all possible tokens at each step. Use model interface.\n",
        "    # ****************************\n",
        "    # мой код\n",
        "    logprobs_seq = model(input_sequence,reference_answers)\n",
        "    # ****************************\n",
        "\n",
        "    # compute elementwise crossentropy as negative log-probabilities of reference_answers.\n",
        "    crossentropy = - torch.sum(logprobs_seq * to_one_hot(reference_answers, len(out_voc)), dim = -1)\n",
        "    assert crossentropy.dim() == 2, \"please return elementwise crossentropy, don't compute mean just yet\"\n",
        "\n",
        "    # average with mask\n",
        "    mask = infer_mask(reference_answers, out_voc.eos_ix)\n",
        "    loss = torch.sum(crossentropy * mask) / torch.sum(mask)\n",
        "\n",
        "    return loss.reshape(1)"
      ]
    },
    {
      "cell_type": "code",
      "execution_count": 19,
      "metadata": {
        "colab": {
          "base_uri": "https://localhost:8080/"
        },
        "id": "OEj9MNkQ9U_o",
        "outputId": "6bbdda09-835d-4444-8316-3adf5a7dfa27"
      },
      "outputs": [
        {
          "name": "stdout",
          "output_type": "stream",
          "text": [
            "loss =  tensor([5.2502], grad_fn=<ViewBackward0>)\n"
          ]
        }
      ],
      "source": [
        "#test it\n",
        "loss = compute_loss_on_batch(*sample_batch(train_words, word_to_translation, 3))\n",
        "print('loss = ', loss)\n",
        "assert isinstance(loss, Variable) and tuple(loss.data.shape)==(1,)\n",
        "loss.backward()\n",
        "for w in model.parameters():\n",
        "    # print(torch.max(torch.abs(w.grad)).data.numpy())\n",
        "    assert w.grad is not None and torch.max(torch.abs(w.grad)).data.numpy() != 0, \\\n",
        "        \"Loss is not differentiable w.r.t. a weight with shape %s. Check comput_loss_on_batch.\" % (w.size(),)"
      ]
    },
    {
      "cell_type": "markdown",
      "metadata": {
        "id": "4gcMTSMA9U_o"
      },
      "source": [
        "##### Actually train the model\n",
        "\n",
        "Minibatches and stuff..."
      ]
    },
    {
      "cell_type": "code",
      "execution_count": 20,
      "metadata": {
        "collapsed": true,
        "id": "X0BoVIRF9U_o"
      },
      "outputs": [],
      "source": [
        "from IPython.display import clear_output\n",
        "from tqdm import tqdm, trange #or use tqdm_notebook,tnrange\n",
        "\n",
        "loss_history = []\n",
        "editdist_history = []\n",
        "entropy_history = []\n",
        "opt = torch.optim.Adam(model.parameters())"
      ]
    },
    {
      "cell_type": "code",
      "execution_count": 21,
      "metadata": {
        "colab": {
          "base_uri": "https://localhost:8080/",
          "height": 335
        },
        "collapsed": true,
        "id": "XRoZ2E_k9U_o",
        "outputId": "c34d858d-5e93-43e1-cbbc-4e99da7e6642",
        "scrolled": false
      },
      "outputs": [
        {
          "data": {
            "image/png": "[encoded data removed]",
            "text/plain": [
              "<Figure size 1200x400 with 3 Axes>"
            ]
          },
          "metadata": {},
          "output_type": "display_data"
        },
        {
          "name": "stderr",
          "output_type": "stream",
          "text": [
            "100%|██████████| 25000/25000 [47:11<00:00,  8.83it/s]"
          ]
        },
        {
          "name": "stdout",
          "output_type": "stream",
          "text": [
            "llh=0.980, mean score=5.996\n"
          ]
        },
        {
          "name": "stderr",
          "output_type": "stream",
          "text": [
            "\n"
          ]
        }
      ],
      "source": [
        "\n",
        "for i in trange(25000):\n",
        "    loss = compute_loss_on_batch(*sample_batch(train_words,word_to_translation,32))\n",
        "\n",
        "    #train with backprop\n",
        "    loss.backward()\n",
        "    opt.step()\n",
        "    opt.zero_grad()\n",
        "\n",
        "    loss_history.append(loss.data.numpy()[0])\n",
        "\n",
        "    if (i+1)%REPORT_FREQ==0:\n",
        "        clear_output(True)\n",
        "        current_scores = score(test_words)\n",
        "        editdist_history.append(current_scores.mean())\n",
        "        plt.figure(figsize=(12,4))\n",
        "        plt.subplot(131)\n",
        "        plt.title('train loss / traning time')\n",
        "        plt.plot(loss_history)\n",
        "        plt.grid()\n",
        "        plt.subplot(132)\n",
        "        plt.title('val score distribution')\n",
        "        plt.hist(current_scores, bins = 20)\n",
        "        plt.subplot(133)\n",
        "        plt.title('val score / traning time (lower is better)')\n",
        "        plt.plot(editdist_history)\n",
        "        plt.grid()\n",
        "        plt.show()\n",
        "        print(\"llh=%.3f, mean score=%.3f\"%(np.mean(loss_history[-10:]),np.mean(editdist_history[-10:])))\n"
      ]
    },
    {
      "cell_type": "markdown",
      "metadata": {
        "id": "gYUBA-I59U_o"
      },
      "source": [
        "__How to interpret the plots:__\n",
        "\n",
        "* __Train loss__ - that's your model's crossentropy over minibatches. It should go down steadily. Most importantly, it shouldn't be NaN :)\n",
        "* __Val score distribution__ - distribution of translation edit distance (score) within batch. It should move to the left over time.\n",
        "* __Val score / training time__ - it's your current mean edit distance. This plot is much whimsier than loss, but make sure it goes below 8 by 2500 steps.\n"
      ]
    },
    {
      "cell_type": "code",
      "execution_count": 22,
      "metadata": {
        "colab": {
          "base_uri": "https://localhost:8080/"
        },
        "collapsed": true,
        "id": "b05630p19U_p",
        "outputId": "d8101a28-9f67-4c8c-f3f5-91d99a25b665"
      },
      "outputs": [
        {
          "name": "stdout",
          "output_type": "stream",
          "text": [
            "כל אנשי סמיילי -> samili state\n",
            "קטגוריה:ערוץ 2 -> cantal model\n",
            "עבודה מהבית -> street corps\n",
            "פראליה -> frallia\n",
            "קפלר 42 -> capel 234\n",
            "קטגוריה:מתאסלמים -> metashlamim\n",
            "בושמי -> boshmi\n",
            "לאונרדו -> leonardo\n",
            "שאמה -> shama\n",
            "עכברה -> askara\n"
          ]
        }
      ],
      "source": [
        "for word in train_words[:10]:\n",
        "    print(\"%s -> %s\"%(word,translate([word])[0]))"
      ]
    },
    {
      "cell_type": "code",
      "execution_count": 23,
      "metadata": {
        "colab": {
          "base_uri": "https://localhost:8080/"
        },
        "collapsed": true,
        "id": "-UoxKoLc9U_p",
        "outputId": "c1369532-bd9d-44a4-c6bb-7510f6ff0e65"
      },
      "outputs": [
        {
          "name": "stderr",
          "output_type": "stream",
          "text": [
            "100%|██████████| 407/407 [00:15<00:00, 26.63it/s]"
          ]
        },
        {
          "name": "stdout",
          "output_type": "stream",
          "text": [
            "Supervised test score: 6.164617276360283\n"
          ]
        },
        {
          "name": "stderr",
          "output_type": "stream",
          "text": [
            "\n"
          ]
        }
      ],
      "source": [
        "test_scores = []\n",
        "for start_i in trange(0,len(test_words),32):\n",
        "    batch_words = test_words[start_i:start_i+32]\n",
        "    batch_trans = translate(batch_words)\n",
        "    distances = list(map(get_distance,batch_words,batch_trans))\n",
        "    test_scores.extend(distances)\n",
        "\n",
        "print(\"Supervised test score:\",np.mean(test_scores))"
      ]
    },
    {
      "cell_type": "markdown",
      "metadata": {
        "id": "l-EyXQPG9U_p"
      },
      "source": [
        "## Self-critical policy gradient (2 points)\n",
        "\n",
        "In this section you'll implement algorithm called self-critical sequence training (here's an [article](https://arxiv.org/abs/1612.00563)).\n",
        "\n",
        "The algorithm is a vanilla policy gradient with a special baseline.\n",
        "\n",
        "$$ \\nabla J = E_{x \\sim p(s)} E_{y \\sim \\pi(y|x)} \\nabla log \\pi(y|x) \\cdot (R(x,y) - b(x)) $$\n",
        "\n",
        "Here reward R(x,y) is a __negative levenshtein distance__ (since we minimize it). The baseline __b(x)__ represents how well model fares on word __x__.\n",
        "\n",
        "In practice, this means that we compute baseline as a score of greedy translation, $b(x) = R(x,y_{greedy}(x)) $.\n",
        "\n",
        "![img](https://github.com/yandexdataschool/Practical_RL/raw/master/yet_another_week/_resource/scheme.png)\n",
        "\n",
        "\n",
        "Luckily, we already obtained the required outputs: `model.greedy_translations, model.greedy_mask` and we only need to compute levenshtein using `compute_levenshtein` function.\n"
      ]
    },
    {
      "cell_type": "code",
      "execution_count": 24,
      "metadata": {
        "collapsed": true,
        "id": "3eTuxwzJ9U_p"
      },
      "outputs": [],
      "source": [
        "def compute_reward(input_sequence, translations):\n",
        "    \"\"\" computes sample-wise reward given token ids for inputs and translations \"\"\"\n",
        "    distances = list(map(get_distance,\n",
        "                         inp_voc.to_lines(input_sequence.data.numpy()),\n",
        "                         out_voc.to_lines(translations.data.numpy())))\n",
        "    # use negative levenshtein distance so that larger reward means better policy\n",
        "    return - Variable(torch.FloatTensor(distances))"
      ]
    },
    {
      "cell_type": "code",
      "execution_count": 25,
      "metadata": {
        "collapsed": true,
        "id": "esVwhC-r9U_q"
      },
      "outputs": [],
      "source": [
        "def scst_objective_on_batch(input_sequence, max_len=MAX_OUTPUT_LENGTH):\n",
        "    \"\"\" Compute pseudo-loss for policy gradient given a batch of sources \"\"\"\n",
        "    input_sequence = Variable(torch.LongTensor(inp_voc.to_matrix(input_sequence)))\n",
        "\n",
        "    # use model to __sample__ symbolic translations given input_sequence\n",
        "    # мой код\n",
        "    sample_translations, sample_logp = model.translate(input_sequence, greedy=False, max_len=max_len)\n",
        "    # use model to __greedy__ symbolic translations given input_sequence\n",
        "    # мой код\n",
        "    greedy_translations, greedy_logp = model.translate(input_sequence, greedy=True, max_len=max_len)\n",
        "\n",
        "    #compute rewards and advantage\n",
        "    rewards = compute_reward(input_sequence, sample_translations)\n",
        "    # мой код\n",
        "    baseline = compute_reward(input_sequence, greedy_translations)\n",
        "\n",
        "    # compute advantage using rewards and baseline\n",
        "    # мой код\n",
        "    advantage = rewards - baseline\n",
        "\n",
        "    # compute log_pi(a_t|s_t), shape = [batch, seq_length]\n",
        "    logp_sample = torch.sum(sample_logp * to_one_hot(sample_translations, len(out_voc)), dim=-1)\n",
        "\n",
        "    # policy gradient pseudo-loss. Gradient of J is exactly policy gradient.\n",
        "    J = logp_sample * advantage[:,None]\n",
        "\n",
        "    assert J.dim() == 2, \"please return elementwise objective, don't compute mean just yet\"\n",
        "\n",
        "    # average with mask\n",
        "    mask = infer_mask(sample_translations, out_voc.eos_ix)\n",
        "    loss = - torch.sum(J * mask) / torch.sum(mask)\n",
        "\n",
        "    # regularize with negative entropy. Don't forget the sign!\n",
        "    # note: for entropy you need probabilities for all tokens (sample_logp), not just logp_sample\n",
        "    # мой код\n",
        "    entropy = - torch.sum(torch.exp(sample_logp)*sample_logp,dim = -1)\n",
        "\n",
        "    assert entropy.dim() == 2, \"please make sure elementwise entropy is of shape [batch,time]\"\n",
        "\n",
        "    reg = - 0.01 * torch.sum(entropy * mask) / torch.sum(mask)\n",
        "\n",
        "    return loss + reg, torch.sum(entropy * mask) / torch.sum(mask)"
      ]
    },
    {
      "cell_type": "markdown",
      "metadata": {
        "id": "aIaQjgl09U_q"
      },
      "source": [
        "# Policy gradient training\n"
      ]
    },
    {
      "cell_type": "code",
      "execution_count": 26,
      "metadata": {
        "collapsed": true,
        "id": "1WwPzy1U9U_q"
      },
      "outputs": [],
      "source": [
        "entropy_history = [np.nan] * len(loss_history)\n",
        "opt = torch.optim.Adam(model.parameters(), lr=1e-5)"
      ]
    },
    {
      "cell_type": "code",
      "execution_count": 27,
      "metadata": {
        "colab": {
          "base_uri": "https://localhost:8080/",
          "height": 341
        },
        "collapsed": true,
        "id": "1tv_p_Nl9U_q",
        "outputId": "fa4368d8-998d-4360-8680-14e79b1afd4d",
        "scrolled": false
      },
      "outputs": [
        {
          "data": {
            "image/png": "[encoded data removed]",
            "text/plain": [
              "<Figure size 1200x400 with 3 Axes>"
            ]
          },
          "metadata": {},
          "output_type": "display_data"
        },
        {
          "name": "stderr",
          "output_type": "stream",
          "text": [
            "100%|██████████| 100000/100000 [4:15:24<00:00,  6.53it/s]"
          ]
        },
        {
          "name": "stdout",
          "output_type": "stream",
          "text": [
            "J=-0.505, mean score=5.331\n"
          ]
        },
        {
          "name": "stderr",
          "output_type": "stream",
          "text": [
            "\n"
          ]
        }
      ],
      "source": [
        "for i in trange(100000):\n",
        "    loss, ent = scst_objective_on_batch(sample_batch(train_words,word_to_translation,32)[0])\n",
        "    # print(loss.data)\n",
        "    #train with backprop\n",
        "    loss.backward()\n",
        "    opt.step()\n",
        "    opt.zero_grad()\n",
        "\n",
        "\n",
        "    loss_history.append(loss.data.numpy())\n",
        "    entropy_history.append(ent.data.numpy())\n",
        "\n",
        "    if (i+1)%REPORT_FREQ==0:\n",
        "        clear_output(True)\n",
        "        current_scores = score(test_words)\n",
        "        editdist_history.append(current_scores.mean())\n",
        "        plt.figure(figsize=(12,4))\n",
        "        plt.subplot(131)\n",
        "        plt.title('val score distribution')\n",
        "        plt.hist(current_scores, bins = 20)\n",
        "        plt.subplot(132)\n",
        "        plt.title('val score / traning time')\n",
        "        plt.plot(editdist_history)\n",
        "        plt.grid()\n",
        "        plt.subplot(133)\n",
        "        plt.title('policy entropy / traning time')\n",
        "        plt.plot(entropy_history)\n",
        "        plt.grid()\n",
        "        plt.show()\n",
        "        print(\"J=%.3f, mean score=%.3f\"%(np.mean(loss_history[-10:]),np.mean(editdist_history[-10:])))"
      ]
    },
    {
      "cell_type": "markdown",
      "metadata": {
        "id": "niDFqkiX9U_0"
      },
      "source": [
        "### Results"
      ]
    },
    {
      "cell_type": "code",
      "execution_count": 28,
      "metadata": {
        "colab": {
          "base_uri": "https://localhost:8080/"
        },
        "collapsed": true,
        "id": "FlyRMIvU9U_0",
        "outputId": "d904c71d-5f23-4890-afca-23847f114dec"
      },
      "outputs": [
        {
          "name": "stdout",
          "output_type": "stream",
          "text": [
            "כל אנשי סמיילי -> samil sini\n",
            "קטגוריה:ערוץ 2 -> hen ari\n",
            "עבודה מהבית -> alia\n",
            "פראליה -> pralaia\n",
            "קפלר 42 -> capeler 24\n",
            "קטגוריה:מתאסלמים -> mataslamis\n",
            "בושמי -> boshmi\n",
            "לאונרדו -> leonardo\n",
            "שאמה -> shama\n",
            "עכברה -> akara\n"
          ]
        }
      ],
      "source": [
        "for word in train_words[:10]:\n",
        "    print(\"%s -> %s\"%(word,translate([word])[0]))"
      ]
    },
    {
      "cell_type": "code",
      "execution_count": 29,
      "metadata": {
        "colab": {
          "base_uri": "https://localhost:8080/"
        },
        "collapsed": true,
        "id": "bG6yJwBb9U_0",
        "outputId": "af223ab8-2c85-48fc-8758-7de006c67229",
        "scrolled": true
      },
      "outputs": [
        {
          "name": "stderr",
          "output_type": "stream",
          "text": [
            "100%|██████████| 407/407 [00:15<00:00, 26.29it/s]"
          ]
        },
        {
          "name": "stdout",
          "output_type": "stream",
          "text": [
            "Supervised test score: 5.373501383338457\n"
          ]
        },
        {
          "name": "stderr",
          "output_type": "stream",
          "text": [
            "\n"
          ]
        }
      ],
      "source": [
        "test_scores = []\n",
        "for start_i in trange(0,len(test_words),32):\n",
        "    batch_words = test_words[start_i:start_i+32]\n",
        "    batch_trans = translate(batch_words)\n",
        "    distances = list(map(get_distance,batch_words,batch_trans))\n",
        "    test_scores.extend(distances)\n",
        "print(\"Supervised test score:\",np.mean(test_scores))\n",
        "\n",
        "# ^^ If you get Out Of MemoryError, please replace this with batched computation"
      ]
    }
  ],
  "metadata": {
    "colab": {
      "provenance": []
    },
    "kernelspec": {
      "display_name": "Python 3",
      "name": "python3"
    },
    "language_info": {
      "codemirror_mode": {
        "name": "ipython",
        "version": 3
      },
      "file_extension": ".py",
      "mimetype": "text/x-python",
      "name": "python",
      "nbconvert_exporter": "python",
      "pygments_lexer": "ipython3",
      "version": "3.6.2"
    }
  },
  "nbformat": 4,
  "nbformat_minor": 0
}
